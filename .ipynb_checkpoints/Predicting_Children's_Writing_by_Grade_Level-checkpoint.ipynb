{
 "cells": [
  {
   "cell_type": "markdown",
   "metadata": {
    "id": "BX-Ny2ID-DkY"
   },
   "source": [
    "# **Predicting Children's Grade-Group Writing Level**"
   ]
  },
  {
   "cell_type": "markdown",
   "metadata": {
    "id": "7OL_URJM-DkY"
   },
   "source": [
    "This project attempts to predict a child's writing level by a grade-grouping, using publicly available, previously labeled text samples from various web sites. The dataset csv was prepared outside of this notebook (see the README for specifics on the creation of the dataset), though it should be noted that different types of writing were included, depending upon the grade level (i.e., later grade levels include research, narrative, poetry, and other such samples; these are not labeled as such). The data is context-agnostic and obvious mis-spellings were corrected, since this had already been done in some of the samples.\n",
    "\n",
    "Then several different approaches were used to create, train, and tune a model. Because some of the data sources were grouped by multiple grades (i.e., \"high school,\" instead of specifying grade 9, 10, etc.) and to achieve some balance between the groups, the data was then categorized by a grade-grouping of early elementary (k-2), middle-elementary (3-4), middle school (5-8), and high school (9-12). "
   ]
  },
  {
   "cell_type": "markdown",
   "metadata": {
    "id": "6iAuDEH6mk3C"
   },
   "source": [
    "### Import Libraries"
   ]
  },
  {
   "cell_type": "code",
   "execution_count": 1,
   "metadata": {
    "colab": {
     "base_uri": "https://localhost:8080/",
     "height": 488
    },
    "id": "3fIjK0Rs-DkZ",
    "outputId": "fecb77b7-c74c-48cc-cc28-6449026a0aab"
   },
   "outputs": [
    {
     "name": "stdout",
     "output_type": "stream",
     "text": [
      "Requirement already up-to-date: scikit-learn==0.20.3 in /Users/joenelson/opt/anaconda3/envs/learn-env/lib/python3.6/site-packages (0.20.3)\n",
      "Requirement already satisfied, skipping upgrade: numpy>=1.8.2 in /Users/joenelson/opt/anaconda3/envs/learn-env/lib/python3.6/site-packages (from scikit-learn==0.20.3) (1.16.5)\n",
      "Requirement already satisfied, skipping upgrade: scipy>=0.13.3 in /Users/joenelson/opt/anaconda3/envs/learn-env/lib/python3.6/site-packages (from scikit-learn==0.20.3) (1.3.1)\n"
     ]
    },
    {
     "name": "stderr",
     "output_type": "stream",
     "text": [
      "Using TensorFlow backend.\n"
     ]
    }
   ],
   "source": [
    "import pandas as pd\n",
    "import numpy as np\n",
    "import nltk\n",
    "# nltk.download('stopwords')\n",
    "# nltk.download('wordnet')\n",
    "# nltk.download('punkt')\n",
    "from nltk.corpus import stopwords\n",
    "from nltk import word_tokenize\n",
    "from nltk.stem.wordnet import WordNetLemmatizer\n",
    "\n",
    "# from pycontractions import Contractions\n",
    "import string\n",
    "\n",
    "import matplotlib.pyplot as plt\n",
    "%matplotlib inline\n",
    "import seaborn as sns\n",
    "\n",
    "pd.set_option('display.max_rows', 100)\n",
    "pd.set_option('display.max_columns', 100)\n",
    "pd.set_option('display.width', 100)\n",
    "!pip install --upgrade scikit-learn==0.20.3\n",
    "import six\n",
    "from imblearn.over_sampling import SMOTE \n",
    "from sklearn.model_selection import train_test_split\n",
    "from keras.preprocessing.text import Tokenizer\n",
    "from sklearn.preprocessing import LabelEncoder\n",
    "from sklearn.dummy import DummyClassifier\n",
    "from sklearn.ensemble import RandomForestClassifier\n",
    "from sklearn.feature_extraction.text import TfidfVectorizer\n",
    "from sklearn import model_selection, naive_bayes, svm\n",
    "from sklearn.model_selection import GridSearchCV \n",
    "from sklearn.svm import SVC\n",
    "from sklearn.metrics import accuracy_score, f1_score\n",
    "import xgboost as xgb\n",
    "import gensim\n",
    "\n",
    "import warnings\n",
    "warnings.filterwarnings(\"ignore\")\n",
    "\n",
    "rand_state = 123\n"
   ]
  },
  {
   "cell_type": "code",
   "execution_count": 2,
   "metadata": {
    "id": "r5D7RViK-Dkc"
   },
   "outputs": [],
   "source": [
    "data = pd.read_csv(\"writingcsv2_combined.csv\",\n",
    "                   skipinitialspace=True,\n",
    "                   sep=',', \n",
    "                   quotechar='\"', \n",
    "                   escapechar='\\\\',\n",
    "                   error_bad_lines=False, \n",
    "                   names=['Grade', 'Text'])"
   ]
  },
  {
   "cell_type": "markdown",
   "metadata": {
    "id": "Jd359QZG-Dkb"
   },
   "source": [
    "## Categorize Text Samples and Labels"
   ]
  },
  {
   "cell_type": "code",
   "execution_count": 3,
   "metadata": {
    "colab": {
     "base_uri": "https://localhost:8080/"
    },
    "id": "otC7qdXf-Dke",
    "outputId": "2f253ce8-e2a3-4830-9a8c-863e40502a4b"
   },
   "outputs": [
    {
     "data": {
      "text/plain": [
       "6     47\n",
       "9     44\n",
       "2     37\n",
       "4     36\n",
       "3     34\n",
       "1     29\n",
       "5     18\n",
       "0     18\n",
       "8      8\n",
       "7      8\n",
       "11     4\n",
       "12     3\n",
       "10     2\n",
       "Name: Grade, dtype: int64"
      ]
     },
     "execution_count": 3,
     "metadata": {},
     "output_type": "execute_result"
    }
   ],
   "source": [
    "data.Grade.value_counts()"
   ]
  },
  {
   "cell_type": "code",
   "execution_count": 4,
   "metadata": {
    "id": "XjkMr7fQ-Dkg"
   },
   "outputs": [],
   "source": [
    "#Categorize text samples into broader grade-groups\n",
    "\n",
    "data.loc[(data['Grade'] >= 0) & (data['Grade'] <= 2), 'Category'] = '0-2'\n",
    "data.loc[(data['Grade'] >= 3) & (data['Grade'] <= 4), 'Category'] = '3-4'\n",
    "data.loc[(data['Grade'] >= 5) & (data['Grade'] <= 8), 'Category'] = '5-8'\n",
    "data.loc[(data['Grade'] >= 9) & (data['Grade'] <= 12), 'Category'] = '9-12'"
   ]
  },
  {
   "cell_type": "code",
   "execution_count": 5,
   "metadata": {
    "colab": {
     "base_uri": "https://localhost:8080/"
    },
    "id": "0paIwBpf-Dki",
    "outputId": "cf766bcb-c5e9-4cd8-9d7c-f724c21760be"
   },
   "outputs": [
    {
     "data": {
      "text/plain": [
       "0-2     84\n",
       "5-8     81\n",
       "3-4     70\n",
       "9-12    53\n",
       "Name: Category, dtype: int64"
      ]
     },
     "execution_count": 5,
     "metadata": {},
     "output_type": "execute_result"
    }
   ],
   "source": [
    "imbalance = data.Category.value_counts()\n",
    "imbalance"
   ]
  },
  {
   "cell_type": "code",
   "execution_count": 6,
   "metadata": {},
   "outputs": [
    {
     "data": {
      "text/plain": [
       "288"
      ]
     },
     "execution_count": 6,
     "metadata": {},
     "output_type": "execute_result"
    }
   ],
   "source": [
    "len(data.Category)"
   ]
  },
  {
   "cell_type": "code",
   "execution_count": 7,
   "metadata": {},
   "outputs": [
    {
     "data": {
      "image/png": "[encoded data removed]",
      "text/plain": [
       "<Figure size 432x288 with 1 Axes>"
      ]
     },
     "metadata": {
      "needs_background": "light"
     },
     "output_type": "display_data"
    }
   ],
   "source": [
    "plt.bar([0,1,2,3], imbalance)\n",
    "plt.xticks([0,1,2,3],['0-2', '3-5', '6-8', '9-12'])\n",
    "plt.xlabel('Grade Groups')\n",
    "plt.ylabel('n texts')\n",
    "plt.title('Class Imbalance')\n",
    "tot=len(data.Category)\n",
    "for i in range(4):\n",
    "    plt.annotate(round(imbalance[i]/tot*(100),2),xy=(i-.17,30), color='white')\n",
    "plt.show()"
   ]
  },
  {
   "cell_type": "code",
   "execution_count": 8,
   "metadata": {
    "id": "2C0CUN5N-Dkk"
   },
   "outputs": [],
   "source": [
    "data = data.drop(['Grade'], axis=1)"
   ]
  },
  {
   "cell_type": "markdown",
   "metadata": {
    "id": "cK-G09ws-Dkm"
   },
   "source": [
    "## Data Exploration & Preprocessing"
   ]
  },
  {
   "cell_type": "markdown",
   "metadata": {
    "id": "7tQvjRFP-Dkn"
   },
   "source": [
    "It's unknown at this point to what extent (if any) that leaving words in their original form (pre-lemmatization) will have an affect on the model.  Accordingly, I prepared the preprocessing pipeline comprised of the preprocessing function, the tokenizer function can be re-used on the dataset in different iterations. "
   ]
  },
  {
   "cell_type": "code",
   "execution_count": 9,
   "metadata": {
    "colab": {
     "base_uri": "https://localhost:8080/"
    },
    "id": "EENHxvxXMNwF",
    "outputId": "1005dc4e-c656-408d-8d73-d760f77a75be"
   },
   "outputs": [
    {
     "data": {
      "text/plain": [
       "0    How Much I Know About Space I had just gone to...\n",
       "1    My Favorite Pet My cat is fluffy. His name is ...\n",
       "2    Sweet Spring Spring is sweet because we can go...\n",
       "3    A Happy Day One day baby Josh came home. He wa...\n",
       "4    My Trip to Mexico One time I went to Mexico. I...\n",
       "Name: Text, dtype: object"
      ]
     },
     "execution_count": 9,
     "metadata": {},
     "output_type": "execute_result"
    }
   ],
   "source": [
    "data.Text.head()"
   ]
  },
  {
   "cell_type": "code",
   "execution_count": 10,
   "metadata": {
    "id": "kYJNHUqz-Dkn"
   },
   "outputs": [],
   "source": [
    "def tokenize_ (text):\n",
    "    return word_tokenize(text)"
   ]
  },
  {
   "cell_type": "code",
   "execution_count": 11,
   "metadata": {
    "id": "sGovP6jP-Dkr"
   },
   "outputs": [],
   "source": [
    "def stopped_ (data):\n",
    "    stopwords_list = stopwords.words('english') #removing stopwords\n",
    "    stopwords_list += list(string.punctuation)  #removing punctuation\n",
    "    return([w.lower() for w in data if (w not in stopwords_list)])"
   ]
  },
  {
   "cell_type": "code",
   "execution_count": 12,
   "metadata": {},
   "outputs": [],
   "source": [
    "def lemma_(data):\n",
    "    lemmatizer = WordNetLemmatizer()\n",
    "    data = [lemmatizer.lemmatize(w) for w in data]     \n",
    "    return(data)"
   ]
  },
  {
   "cell_type": "code",
   "execution_count": 13,
   "metadata": {
    "id": "weZRKkqu-Dkq"
   },
   "outputs": [],
   "source": [
    "data['Text_tokenized'] = data.Text.apply(tokenize_)"
   ]
  },
  {
   "cell_type": "code",
   "execution_count": 14,
   "metadata": {
    "colab": {
     "base_uri": "https://localhost:8080/",
     "height": 477
    },
    "id": "mERIyX2V-Dkv",
    "outputId": "f4fd013c-8c40-4f1b-fef7-d18259e68869"
   },
   "outputs": [],
   "source": [
    "data['Text_lemmatized'] = data.Text_tokenized.apply(stopped_)"
   ]
  },
  {
   "cell_type": "code",
   "execution_count": 15,
   "metadata": {
    "id": "aD1VOvFL-Dkx"
   },
   "outputs": [],
   "source": [
    "data.Text_lemmatized = data.Text_lemmatized.apply(lemma_)"
   ]
  },
  {
   "cell_type": "code",
   "execution_count": 16,
   "metadata": {
    "id": "KyGtr2ZdVxqB"
   },
   "outputs": [
    {
     "data": {
      "text/html": [
       "<div>\n",
       "<style scoped>\n",
       "    .dataframe tbody tr th:only-of-type {\n",
       "        vertical-align: middle;\n",
       "    }\n",
       "\n",
       "    .dataframe tbody tr th {\n",
       "        vertical-align: top;\n",
       "    }\n",
       "\n",
       "    .dataframe thead th {\n",
       "        text-align: right;\n",
       "    }\n",
       "</style>\n",
       "<table border=\"1\" class=\"dataframe\">\n",
       "  <thead>\n",
       "    <tr style=\"text-align: right;\">\n",
       "      <th></th>\n",
       "      <th>Text</th>\n",
       "      <th>Category</th>\n",
       "      <th>Text_tokenized</th>\n",
       "      <th>Text_lemmatized</th>\n",
       "    </tr>\n",
       "  </thead>\n",
       "  <tbody>\n",
       "    <tr>\n",
       "      <td>0</td>\n",
       "      <td>How Much I Know About Space I had just gone to...</td>\n",
       "      <td>0-2</td>\n",
       "      <td>[How, Much, I, Know, About, Space, I, had, jus...</td>\n",
       "      <td>[how, much, i, know, about, space, i, gone, ch...</td>\n",
       "    </tr>\n",
       "    <tr>\n",
       "      <td>1</td>\n",
       "      <td>My Favorite Pet My cat is fluffy. His name is ...</td>\n",
       "      <td>0-2</td>\n",
       "      <td>[My, Favorite, Pet, My, cat, is, fluffy, ., Hi...</td>\n",
       "      <td>[my, favorite, pet, my, cat, fluffy, his, name...</td>\n",
       "    </tr>\n",
       "    <tr>\n",
       "      <td>2</td>\n",
       "      <td>Sweet Spring Spring is sweet because we can go...</td>\n",
       "      <td>0-2</td>\n",
       "      <td>[Sweet, Spring, Spring, is, sweet, because, we...</td>\n",
       "      <td>[sweet, spring, spring, sweet, go, boat, ridin...</td>\n",
       "    </tr>\n",
       "    <tr>\n",
       "      <td>3</td>\n",
       "      <td>A Happy Day One day baby Josh came home. He wa...</td>\n",
       "      <td>0-2</td>\n",
       "      <td>[A, Happy, Day, One, day, baby, Josh, came, ho...</td>\n",
       "      <td>[a, happy, day, one, day, baby, josh, came, ho...</td>\n",
       "    </tr>\n",
       "    <tr>\n",
       "      <td>4</td>\n",
       "      <td>My Trip to Mexico One time I went to Mexico. I...</td>\n",
       "      <td>0-2</td>\n",
       "      <td>[My, Trip, to, Mexico, One, time, I, went, to,...</td>\n",
       "      <td>[my, trip, mexico, one, time, i, went, mexico,...</td>\n",
       "    </tr>\n",
       "  </tbody>\n",
       "</table>\n",
       "</div>"
      ],
      "text/plain": [
       "                                                Text Category  \\\n",
       "0  How Much I Know About Space I had just gone to...      0-2   \n",
       "1  My Favorite Pet My cat is fluffy. His name is ...      0-2   \n",
       "2  Sweet Spring Spring is sweet because we can go...      0-2   \n",
       "3  A Happy Day One day baby Josh came home. He wa...      0-2   \n",
       "4  My Trip to Mexico One time I went to Mexico. I...      0-2   \n",
       "\n",
       "                                      Text_tokenized  \\\n",
       "0  [How, Much, I, Know, About, Space, I, had, jus...   \n",
       "1  [My, Favorite, Pet, My, cat, is, fluffy, ., Hi...   \n",
       "2  [Sweet, Spring, Spring, is, sweet, because, we...   \n",
       "3  [A, Happy, Day, One, day, baby, Josh, came, ho...   \n",
       "4  [My, Trip, to, Mexico, One, time, I, went, to,...   \n",
       "\n",
       "                                     Text_lemmatized  \n",
       "0  [how, much, i, know, about, space, i, gone, ch...  \n",
       "1  [my, favorite, pet, my, cat, fluffy, his, name...  \n",
       "2  [sweet, spring, spring, sweet, go, boat, ridin...  \n",
       "3  [a, happy, day, one, day, baby, josh, came, ho...  \n",
       "4  [my, trip, mexico, one, time, i, went, mexico,...  "
      ]
     },
     "execution_count": 16,
     "metadata": {},
     "output_type": "execute_result"
    }
   ],
   "source": [
    "data.head()"
   ]
  },
  {
   "cell_type": "markdown",
   "metadata": {
    "id": "gW2Ao0tQ-Dkz"
   },
   "source": [
    "#### Column \"Text_lemmatized\" contains the lemmatized, tokenized texts with stop-words removed and contractions expanded. \n",
    "\n",
    "### **Visualization of Corpus**"
   ]
  },
  {
   "cell_type": "code",
   "execution_count": 17,
   "metadata": {
    "id": "UQJ_hd_F-Dkz"
   },
   "outputs": [
    {
     "name": "stdout",
     "output_type": "stream",
     "text": [
      "<class 'pandas.core.frame.DataFrame'>\n",
      "RangeIndex: 288 entries, 0 to 287\n",
      "Data columns (total 4 columns):\n",
      "Text               288 non-null object\n",
      "Category           288 non-null object\n",
      "Text_tokenized     288 non-null object\n",
      "Text_lemmatized    288 non-null object\n",
      "dtypes: object(4)\n",
      "memory usage: 9.1+ KB\n"
     ]
    }
   ],
   "source": [
    "data.info()"
   ]
  },
  {
   "cell_type": "code",
   "execution_count": 18,
   "metadata": {
    "id": "Pu0lPri8-Dk1"
   },
   "outputs": [],
   "source": [
    "# Create a column containing the number of words per each ORIGINAL text \n",
    "data['num_words'] = data['Text'].str.len()  "
   ]
  },
  {
   "cell_type": "code",
   "execution_count": 19,
   "metadata": {
    "id": "7HfiYwkn-Dk5"
   },
   "outputs": [],
   "source": [
    "# Create a column containing average word length for each ORIGINAL text \n",
    "temp_token_list = list(data['Text_tokenized'])\n",
    "new_token_list = []\n",
    "for item in temp_token_list:\n",
    "    new_token_list.append(np.average([len(w) for w in item]))\n",
    "data['avg_orig_word_len'] = new_token_list"
   ]
  },
  {
   "cell_type": "code",
   "execution_count": 20,
   "metadata": {
    "id": "7HfiYwkn-Dk5"
   },
   "outputs": [],
   "source": [
    "# Create a column containing average word length for each LEMMATIZED text \n",
    "temp_lemma_list = list(data['Text_lemmatized'])\n",
    "new_lemma_list = []\n",
    "for item in temp_lemma_list:\n",
    "    new_lemma_list.append(np.average([len(w) for w in item]))\n",
    "data['avg_lem_word_len'] = new_lemma_list"
   ]
  },
  {
   "cell_type": "code",
   "execution_count": 21,
   "metadata": {
    "id": "Kicip5sq-Dk7"
   },
   "outputs": [
    {
     "data": {
      "text/html": [
       "<div>\n",
       "<style scoped>\n",
       "    .dataframe tbody tr th:only-of-type {\n",
       "        vertical-align: middle;\n",
       "    }\n",
       "\n",
       "    .dataframe tbody tr th {\n",
       "        vertical-align: top;\n",
       "    }\n",
       "\n",
       "    .dataframe thead th {\n",
       "        text-align: right;\n",
       "    }\n",
       "</style>\n",
       "<table border=\"1\" class=\"dataframe\">\n",
       "  <thead>\n",
       "    <tr style=\"text-align: right;\">\n",
       "      <th></th>\n",
       "      <th>Text</th>\n",
       "      <th>Category</th>\n",
       "      <th>Text_tokenized</th>\n",
       "      <th>Text_lemmatized</th>\n",
       "      <th>num_words</th>\n",
       "      <th>avg_orig_word_len</th>\n",
       "      <th>avg_lem_word_len</th>\n",
       "    </tr>\n",
       "  </thead>\n",
       "  <tbody>\n",
       "    <tr>\n",
       "      <td>0</td>\n",
       "      <td>How Much I Know About Space I had just gone to...</td>\n",
       "      <td>0-2</td>\n",
       "      <td>[How, Much, I, Know, About, Space, I, had, jus...</td>\n",
       "      <td>[how, much, i, know, about, space, i, gone, ch...</td>\n",
       "      <td>365</td>\n",
       "      <td>3.641975</td>\n",
       "      <td>4.283019</td>\n",
       "    </tr>\n",
       "    <tr>\n",
       "      <td>1</td>\n",
       "      <td>My Favorite Pet My cat is fluffy. His name is ...</td>\n",
       "      <td>0-2</td>\n",
       "      <td>[My, Favorite, Pet, My, cat, is, fluffy, ., Hi...</td>\n",
       "      <td>[my, favorite, pet, my, cat, fluffy, his, name...</td>\n",
       "      <td>210</td>\n",
       "      <td>3.000000</td>\n",
       "      <td>3.827586</td>\n",
       "    </tr>\n",
       "    <tr>\n",
       "      <td>2</td>\n",
       "      <td>Sweet Spring Spring is sweet because we can go...</td>\n",
       "      <td>0-2</td>\n",
       "      <td>[Sweet, Spring, Spring, is, sweet, because, we...</td>\n",
       "      <td>[sweet, spring, spring, sweet, go, boat, ridin...</td>\n",
       "      <td>255</td>\n",
       "      <td>3.383333</td>\n",
       "      <td>4.185185</td>\n",
       "    </tr>\n",
       "    <tr>\n",
       "      <td>3</td>\n",
       "      <td>A Happy Day One day baby Josh came home. He wa...</td>\n",
       "      <td>0-2</td>\n",
       "      <td>[A, Happy, Day, One, day, baby, Josh, came, ho...</td>\n",
       "      <td>[a, happy, day, one, day, baby, josh, came, ho...</td>\n",
       "      <td>131</td>\n",
       "      <td>3.058824</td>\n",
       "      <td>3.681818</td>\n",
       "    </tr>\n",
       "    <tr>\n",
       "      <td>4</td>\n",
       "      <td>My Trip to Mexico One time I went to Mexico. I...</td>\n",
       "      <td>0-2</td>\n",
       "      <td>[My, Trip, to, Mexico, One, time, I, went, to,...</td>\n",
       "      <td>[my, trip, mexico, one, time, i, went, mexico,...</td>\n",
       "      <td>243</td>\n",
       "      <td>3.096774</td>\n",
       "      <td>3.947368</td>\n",
       "    </tr>\n",
       "  </tbody>\n",
       "</table>\n",
       "</div>"
      ],
      "text/plain": [
       "                                                Text Category  \\\n",
       "0  How Much I Know About Space I had just gone to...      0-2   \n",
       "1  My Favorite Pet My cat is fluffy. His name is ...      0-2   \n",
       "2  Sweet Spring Spring is sweet because we can go...      0-2   \n",
       "3  A Happy Day One day baby Josh came home. He wa...      0-2   \n",
       "4  My Trip to Mexico One time I went to Mexico. I...      0-2   \n",
       "\n",
       "                                      Text_tokenized  \\\n",
       "0  [How, Much, I, Know, About, Space, I, had, jus...   \n",
       "1  [My, Favorite, Pet, My, cat, is, fluffy, ., Hi...   \n",
       "2  [Sweet, Spring, Spring, is, sweet, because, we...   \n",
       "3  [A, Happy, Day, One, day, baby, Josh, came, ho...   \n",
       "4  [My, Trip, to, Mexico, One, time, I, went, to,...   \n",
       "\n",
       "                                     Text_lemmatized  num_words  avg_orig_word_len  \\\n",
       "0  [how, much, i, know, about, space, i, gone, ch...        365           3.641975   \n",
       "1  [my, favorite, pet, my, cat, fluffy, his, name...        210           3.000000   \n",
       "2  [sweet, spring, spring, sweet, go, boat, ridin...        255           3.383333   \n",
       "3  [a, happy, day, one, day, baby, josh, came, ho...        131           3.058824   \n",
       "4  [my, trip, mexico, one, time, i, went, mexico,...        243           3.096774   \n",
       "\n",
       "   avg_lem_word_len  \n",
       "0          4.283019  \n",
       "1          3.827586  \n",
       "2          4.185185  \n",
       "3          3.681818  \n",
       "4          3.947368  "
      ]
     },
     "execution_count": 21,
     "metadata": {},
     "output_type": "execute_result"
    }
   ],
   "source": [
    "# Review new columns\n",
    "data.head(5)"
   ]
  },
  {
   "cell_type": "code",
   "execution_count": 22,
   "metadata": {
    "id": "H_-5H3Ib-Dk9",
    "scrolled": true
   },
   "outputs": [
    {
     "name": "stdout",
     "output_type": "stream",
     "text": [
      "  Category num_words                                                                     \\\n",
      "               count         mean          std    min      25%     50%     75%      max   \n",
      "0      0-2      84.0   413.523810   285.131484   26.0   185.75   370.0   605.0   1648.0   \n",
      "1      3-4      70.0  1185.628571   561.531786  121.0   739.25  1227.5  1540.0   2731.0   \n",
      "2      5-8      81.0  2743.111111  1604.239212  456.0  1859.00  2418.0  3060.0   9705.0   \n",
      "3     9-12      53.0  4332.943396  2350.536702  755.0  2851.00  3576.0  5434.0  11395.0   \n",
      "\n",
      "  avg_orig_word_len                                                                        \\\n",
      "              count      mean       std       min       25%       50%       75%       max   \n",
      "0              84.0  3.503927  0.396866  2.333333  3.244792  3.494681  3.751025  4.625000   \n",
      "1              70.0  3.527131  0.289879  2.881818  3.361371  3.522176  3.695111  4.606154   \n",
      "2              81.0  3.781991  0.336416  3.129754  3.533505  3.714286  3.989796  4.547619   \n",
      "3              53.0  3.875039  0.363166  3.226908  3.624031  3.828151  4.061151  4.658385   \n",
      "\n",
      "  avg_lem_word_len                                                                        \n",
      "             count      mean       std       min       25%       50%       75%       max  \n",
      "0             84.0  4.351645  0.562019  2.800000  4.000000  4.278352  4.691729  6.063830  \n",
      "1             70.0  4.524812  0.487271  3.111111  4.299545  4.518989  4.790720  6.438596  \n",
      "2             81.0  4.971237  0.495660  3.919431  4.605263  4.976879  5.281938  5.981132  \n",
      "3             53.0  5.177442  0.566420  4.166163  4.813793  5.031830  5.522556  6.459184  \n"
     ]
    }
   ],
   "source": [
    "print(data.groupby('Category').describe().reset_index().sort_values('Category', ascending=True))"
   ]
  },
  {
   "cell_type": "markdown",
   "metadata": {
    "id": "rwa6iGUKdpyr"
   },
   "source": [
    "When looking at the number of words per text, they follow a relatively predicatble pattern, with the min/max, mean, and standard deviation increasing rather significantly with grade-group.  The average length of words per grade-group level does not appear to correlate nearly as much, though; average word lengths are much closer (though they do trend up with grade-group), but standard deviation and word counts do not follow the trend. The visualizations below highlight these differences:"
   ]
  },
  {
   "cell_type": "code",
   "execution_count": 23,
   "metadata": {
    "id": "iod4kOnU-DlA"
   },
   "outputs": [
    {
     "data": {
      "image/png": "[encoded data removed]",
      "text/plain": [
       "<Figure size 864x576 with 1 Axes>"
      ]
     },
     "metadata": {
      "needs_background": "light"
     },
     "output_type": "display_data"
    }
   ],
   "source": [
    "#Histogram of Number of Words per Text\n",
    "plt.figure(figsize=(12,8))\n",
    "plt.title('Histogram of Total Number of Words Per Each Original Text by Grade Category\\n (Before Stopword Removal and Lemmatizing)', size='x-large')\n",
    "for name, group in data.groupby('Category'):\n",
    "    sns.distplot(group['num_words'], label=name)\n",
    "plt.legend()\n",
    "plt.xlabel('Number of Words', size='large')\n",
    "plt.show()"
   ]
  },
  {
   "cell_type": "markdown",
   "metadata": {
    "id": "U3bmth8a-DlC"
   },
   "source": [
    "The text lengths for K-2 grade are much shorter than the higher grades. Lengths of middle and high school texts are much more comparable. The shorter upper-grade texts may include poetry and emails."
   ]
  },
  {
   "cell_type": "code",
   "execution_count": 24,
   "metadata": {
    "id": "mZYhJWwD-DlE"
   },
   "outputs": [
    {
     "data": {
      "image/png": "[encoded data removed]",
      "text/plain": [
       "<Figure size 864x576 with 1 Axes>"
      ]
     },
     "metadata": {
      "needs_background": "light"
     },
     "output_type": "display_data"
    }
   ],
   "source": [
    "#Histogram of Average Word Length Per Original Text\n",
    "plt.figure(figsize=(12,8))\n",
    "plt.title('Histogram of Average Word Length Per Each Original Text by Grade Category \\n (BEFORE Stopword Removal and Lemmatizing)', size='x-large')\n",
    "for name, group in data.groupby('Category'):\n",
    "    sns.distplot(group['avg_lem_word_len'], label=name)\n",
    "plt.legend()\n",
    "plt.xlabel('Average Lemmatized Word Length', size='large')\n",
    "plt.show()"
   ]
  },
  {
   "cell_type": "code",
   "execution_count": 25,
   "metadata": {
    "id": "mZYhJWwD-DlE"
   },
   "outputs": [
    {
     "data": {
      "image/png": "[encoded data removed]",
      "text/plain": [
       "<Figure size 864x576 with 1 Axes>"
      ]
     },
     "metadata": {
      "needs_background": "light"
     },
     "output_type": "display_data"
    }
   ],
   "source": [
    "#Histogram of Average Word Length Per Lemmatized Text\n",
    "plt.figure(figsize=(12,8))\n",
    "plt.title('Histogram of Average Word Length Per Each Lemmatized Text by Grade Category \\n (AFTER Stopword Removal and Lemmatizing)', size='x-large')\n",
    "for name, group in data.groupby('Category'):\n",
    "    sns.distplot(group['avg_lem_word_len'], label=name)\n",
    "plt.legend()\n",
    "plt.xlabel('Average Lemmatized Word Length', size='large')\n",
    "plt.show()"
   ]
  },
  {
   "cell_type": "markdown",
   "metadata": {
    "id": "KeUYgqlx-DlH"
   },
   "source": [
    "The distributions of word lengths are much closer across the different grade-groups, especially between the middle- and high-school distributiions (they're nearly identical). "
   ]
  },
  {
   "cell_type": "markdown",
   "metadata": {
    "id": "jMEK09WdiWNq"
   },
   "source": [
    "# **Weight/Vectorize the Texts**"
   ]
  },
  {
   "cell_type": "code",
   "execution_count": 32,
   "metadata": {
    "id": "qscDPLzS-DlI"
   },
   "outputs": [],
   "source": [
    "X_train, X_test, y_train, y_test = train_test_split(\n",
    "    data['Text_lemmatized'],data['Category'],test_size=0.3, random_state=rand_state, stratify=data['Category'])"
   ]
  },
  {
   "cell_type": "code",
   "execution_count": 33,
   "metadata": {
    "id": "CjfwfHOl-DlK"
   },
   "outputs": [],
   "source": [
    "# Y labels to use wiht all models\n",
    "Encoder = LabelEncoder()\n",
    "y_train = Encoder.fit_transform(y_train)\n",
    "y_test = Encoder.fit_transform(y_test)"
   ]
  },
  {
   "cell_type": "markdown",
   "metadata": {
    "id": "SlhkMfY1-DlI"
   },
   "source": [
    "### **TD-IDF Weighting**"
   ]
  },
  {
   "cell_type": "code",
   "execution_count": 34,
   "metadata": {
    "id": "ybxDIKkM-DlM"
   },
   "outputs": [],
   "source": [
    "lemmas = data['Text_lemmatized'].apply(lambda x: ' '.join(x))\n",
    "lemma_Train_X = X_train.apply(lambda x: ' '.join(x))\n",
    "lemma_Test_X  = X_test.apply(lambda x: ' '.join(x))\n",
    "Tfidf_vect = TfidfVectorizer(max_features=500)\n",
    "Tfidf_vect.fit(lemmas)\n",
    "X_train_tfidf = Tfidf_vect.transform(lemma_Train_X)\n",
    "X_test_tfidf = Tfidf_vect.transform(lemma_Test_X)"
   ]
  },
  {
   "cell_type": "code",
   "execution_count": 35,
   "metadata": {},
   "outputs": [],
   "source": [
    "sm = SMOTE(sampling_strategy='auto', k_neighbors=2, random_state=rand_state)\n",
    "X_train_tfidf,y_train_tfidf = sm.fit_resample(X_train_tfidf, y_train) "
   ]
  },
  {
   "cell_type": "code",
   "execution_count": 41,
   "metadata": {},
   "outputs": [
    {
     "data": {
      "text/plain": [
       "(236,)"
      ]
     },
     "execution_count": 41,
     "metadata": {},
     "output_type": "execute_result"
    }
   ],
   "source": [
    "y_train_tfidf.shape"
   ]
  },
  {
   "cell_type": "markdown",
   "metadata": {
    "id": "a0z3KigImAAI"
   },
   "source": [
    "### **Word2vec Vectorization**"
   ]
  },
  {
   "cell_type": "code",
   "execution_count": 42,
   "metadata": {
    "id": "2eNcVz87RKT-"
   },
   "outputs": [],
   "source": [
    "num_features=300\n",
    "model = gensim.models.Word2Vec(data.Text_lemmatized, \n",
    "                               size=num_features, \n",
    "                               min_count=3, \n",
    "                               workers=4, \n",
    "                               seed=1, \n",
    "                               iter=50, window=5)"
   ]
  },
  {
   "cell_type": "code",
   "execution_count": 43,
   "metadata": {
    "id": "cSbrtpwGRK9F"
   },
   "outputs": [
    {
     "data": {
      "text/plain": [
       "(3390, 300)"
      ]
     },
     "execution_count": 43,
     "metadata": {},
     "output_type": "execute_result"
    }
   ],
   "source": [
    "model.wv.syn0.shape"
   ]
  },
  {
   "cell_type": "code",
   "execution_count": 44,
   "metadata": {
    "id": "6v63xaLwKnsN"
   },
   "outputs": [
    {
     "data": {
      "text/plain": [
       "'bus'"
      ]
     },
     "execution_count": 44,
     "metadata": {},
     "output_type": "execute_result"
    }
   ],
   "source": [
    "#Just for fun, to see if it's working\n",
    "model.wv.doesnt_match(\"red green bus\".split())"
   ]
  },
  {
   "cell_type": "code",
   "execution_count": 45,
   "metadata": {
    "id": "_8B7SOJ-Kgl7"
   },
   "outputs": [],
   "source": [
    "# Function to average all word vectors in a paragraph (from https://www.kaggle.com/varun08/sentiment-analysis-using-word2vec)\n",
    "def featureVecMethod(words, model, num_features):\n",
    "    # Pre-initialising empty numpy array for speed\n",
    "    featureVec = np.zeros(num_features,dtype=\"float32\")\n",
    "    nwords = 0\n",
    "    \n",
    "    #Converting Index2Word which is a list to a set for better speed in the execution.\n",
    "    index2word_set = set(model.wv.index2word)\n",
    "    \n",
    "    for word in  words:\n",
    "        if word in index2word_set:\n",
    "            nwords = nwords + 1\n",
    "            featureVec = np.add(featureVec,model[word])\n",
    "    \n",
    "    # Dividing the result by number of words to get average\n",
    "    featureVec = np.divide(featureVec, nwords)\n",
    "    return featureVec"
   ]
  },
  {
   "cell_type": "code",
   "execution_count": 46,
   "metadata": {
    "id": "t6Sz491qKg_p"
   },
   "outputs": [],
   "source": [
    "# Function for calculating the average feature vector (from https://www.kaggle.com/varun08/sentiment-analysis-using-word2vec)\n",
    "def getAvgFeatureVecs(reviews, model, num_features):\n",
    "    counter = 0\n",
    "    reviewFeatureVecs = np.zeros((len(reviews),num_features),dtype=\"float32\")\n",
    "    for review in reviews:\n",
    "        # Printing a status message every 1000th review\n",
    "        if counter%1000 == 0:\n",
    "            print(\"Review %d of %d\"%(counter,len(reviews)))\n",
    "            \n",
    "        reviewFeatureVecs[counter] = featureVecMethod(review, model, num_features)\n",
    "        counter = counter+1\n",
    "        \n",
    "    return reviewFeatureVecs"
   ]
  },
  {
   "cell_type": "code",
   "execution_count": 47,
   "metadata": {
    "id": "QYtjB2ETKhG3"
   },
   "outputs": [
    {
     "name": "stdout",
     "output_type": "stream",
     "text": [
      "Review 0 of 201\n",
      "Review 0 of 87\n"
     ]
    }
   ],
   "source": [
    "trainDataVecs = getAvgFeatureVecs(X_train, model, num_features)\n",
    "testDataVecs =  getAvgFeatureVecs(X_test, model, num_features)"
   ]
  },
  {
   "cell_type": "code",
   "execution_count": 48,
   "metadata": {
    "id": "-_qubCpdKg1O"
   },
   "outputs": [
    {
     "data": {
      "text/plain": [
       "((201, 300), (87, 300))"
      ]
     },
     "execution_count": 48,
     "metadata": {},
     "output_type": "execute_result"
    }
   ],
   "source": [
    "trainDataVecs.shape, testDataVecs.shape"
   ]
  },
  {
   "cell_type": "code",
   "execution_count": 49,
   "metadata": {},
   "outputs": [],
   "source": [
    "X_train_w2v,y_train_w2v = sm.fit_sample(trainDataVecs, y_train) "
   ]
  },
  {
   "cell_type": "markdown",
   "metadata": {
    "id": "-mNH3hi--DlH"
   },
   "source": [
    "# **Models**"
   ]
  },
  {
   "cell_type": "code",
   "execution_count": 50,
   "metadata": {
    "id": "jh4-fPQgtxDS"
   },
   "outputs": [],
   "source": [
    "def dummy_classifier(X_train, X_test, y_train, y_test):\n",
    "  dummy_clf = DummyClassifier(strategy=\"stratified\", random_state=rand_state)\n",
    "  dummy_clf.fit(X_train, y_train)\n",
    "  dummy_accuracy = (round(dummy_clf.score(X_test, y_test)*100,3))\n",
    "  return(dummy_accuracy)"
   ]
  },
  {
   "cell_type": "code",
   "execution_count": 51,
   "metadata": {
    "id": "CqDPgMPpSwvi"
   },
   "outputs": [],
   "source": [
    "def svm_classifier(X_train, X_test, y_train, y_test):\n",
    "  clf_svm = svm.SVC(random_state=rand_state)\n",
    "  param_grid = {'C': [0.1, 1, 10, 100, 1000],  \n",
    "                'gamma': [1, 0.1, 0.01, 0.001, 0.0001], \n",
    "                'kernel': ['rbf', 'linear', 'sigmoid', 'poly'],\n",
    "                'degree': [1,2,3,4]} \n",
    "  gs_svm = GridSearchCV(SVC(), param_grid, cv=5)\n",
    "  gs_svm.fit(X_train,y_train)\n",
    "  best = gs_svm.best_params_\n",
    "  SVM = svm.SVC(C=best['C'], kernel=best['kernel'], degree=best['degree'], gamma=best['gamma'], random_state=rand_state)\n",
    "  SVM.fit(X_train,y_train)\n",
    "  y_hat = SVM.predict(X_test)\n",
    "  acc = round(accuracy_score(y_test, y_hat)*100,3)\n",
    "  #f1 = round(f1_score(y_test, y_hat), 3)\n",
    "  return (acc)"
   ]
  },
  {
   "cell_type": "code",
   "execution_count": 52,
   "metadata": {
    "id": "tTfUq-RAimRf"
   },
   "outputs": [],
   "source": [
    "def rf_classifier(X_train, X_test, y_train, y_test):\n",
    "  forest = RandomForestClassifier(n_estimators = 110, random_state=rand_state)\n",
    "  forest_tf = forest.fit(X_train,y_train)\n",
    "  y_hat = forest.predict(X_test)\n",
    "  return (round(accuracy_score(y_test, y_hat)*100,3))"
   ]
  },
  {
   "cell_type": "code",
   "execution_count": 53,
   "metadata": {
    "id": "NZenXJxGAfXP"
   },
   "outputs": [],
   "source": [
    "def xgb_classifier(X_train, X_test, y_train, y_test):\n",
    "  clf_xgb = xgb.XGBClassifier(random_state=rand_state)\n",
    "  clf_xgb.fit(X_train, y_train)\n",
    "  y_hat = clf_xgb.predict(X_test)\n",
    "  return (round(accuracy_score(y_test, y_hat)*100, 3))"
   ]
  },
  {
   "cell_type": "code",
   "execution_count": 54,
   "metadata": {
    "id": "vqVc8efunPj9"
   },
   "outputs": [],
   "source": [
    "def combined_models(X_train, X_test, y_train, y_test):\n",
    "  dum = dummy_classifier(X_train, X_test, y_train, y_test)\n",
    "  svm = svm_classifier(X_train, X_test, y_train, y_test)\n",
    "  rfc = rf_classifier(X_train, X_test, y_train, y_test)\n",
    "  xgb = xgb_classifier(X_train, X_test, y_train, y_test)\n",
    "  print('Dummy Classifier Accuracy:', dum)\n",
    "  print('SVM Classifier Accuracy:', svm, '- Percent better/worse than baseline:', round((svm-dum)/dum *100,2),'%')\n",
    "  print('Random Forest Accuracy:', rfc, '- Percent better/worse than baseline:', round((rfc-dum)/dum *100,2),'%')\n",
    "  print('XG Boost Accuracy:', xgb, '- Percent better/worse than baseline:', round((xgb-dum)/dum *100,2),'%')\n",
    "  return()\n"
   ]
  },
  {
   "cell_type": "markdown",
   "metadata": {
    "id": "9-Zr-4vIm8qA"
   },
   "source": [
    "## **Application of Models to Datasets**"
   ]
  },
  {
   "cell_type": "markdown",
   "metadata": {},
   "source": [
    "### Iteration 1: Initial Dataset (don't run these cells after combined dataset is loaded)"
   ]
  },
  {
   "cell_type": "code",
   "execution_count": null,
   "metadata": {
    "id": "0DpR4BtJm1fr"
   },
   "outputs": [],
   "source": [
    "#Test the TF-IDF weighted texts\n",
    "combined_models(X_train_tfidf, X_test_tfidf, y_train_tfidf, y_test)"
   ]
  },
  {
   "cell_type": "markdown",
   "metadata": {
    "id": "Jc79knMU6Xv6"
   },
   "source": [
    "22.80702 -- -- 35.08-  RS=12 36.842 ----------RS=1 29.825\n",
    "<br>23.08 -- 23.08 -- 10 --  38.596 / 4.76%        38.596 / 29.41%\n",
    "<br>61.54 -- 46.15 -- 30 --  56.14  / 52.38%       49.123 / 64.7%\n",
    "<br>38.46 -- 38.46 -- 25 --  36.843 / 0.0%         43.86  / 47.06%"
   ]
  },
  {
   "cell_type": "code",
   "execution_count": null,
   "metadata": {
    "id": "8r4Z1Ar0m1wv"
   },
   "outputs": [],
   "source": [
    "#Test the Word2vec vectorized texts\n",
    "combined_models(X_train_w2v, testDataVecs, y_train_w2v, y_test)"
   ]
  },
  {
   "cell_type": "markdown",
   "metadata": {
    "id": "20dF8_xB6bvT"
   },
   "source": [
    "22.80702 / 35.088 RS=12 >> 36.842 ---------RS=1 29.825%\n",
    "<br>-38.36 / -35           45.614 / 23.81%      43.86 / 47.06%\n",
    "<br>-7.69  / -40           35.088 / -4.76%      36.842/ 23.53%\n",
    "<br>7.69   / -40           50.877 / 38.10%      47.368/ 58.82%"
   ]
  },
  {
   "cell_type": "markdown",
   "metadata": {},
   "source": [
    "### Iteration 2: Combined Dataset"
   ]
  },
  {
   "cell_type": "code",
   "execution_count": null,
   "metadata": {
    "id": "0DpR4BtJm1fr"
   },
   "outputs": [],
   "source": [
    "#Test the TF-IDF weighted texts\n",
    "combined_models(X_train_tfidf, X_test_tfidf, y_train, y_test)"
   ]
  },
  {
   "cell_type": "markdown",
   "metadata": {
    "id": "Jc79knMU6Xv6"
   },
   "source": [
    "22.80702 -- -- 35.08-  RS=12 36.842 ----------RS=1 29.825          || RS=1 26.437\n",
    "<br>23.08 -- 23.08 -- 10 --  38.596 / 4.76%        38.596 / 29.41% ||      44.828 / 69.57%\n",
    "<br>61.54 -- 46.15 -- 30 --  56.14  / 52.38%       49.123 / 64.7%  ||      50.575 / 91.3 %\n",
    "<br>38.46 -- 38.46 -- 25 --  36.843 / 0.0%         43.86  / 47.06% ||      43.678 / 65.22%"
   ]
  },
  {
   "cell_type": "code",
   "execution_count": null,
   "metadata": {
    "id": "8r4Z1Ar0m1wv"
   },
   "outputs": [],
   "source": [
    "#Test the Word2vec vectorized texts\n",
    "combined_models(trainDataVecs, testDataVecs, y_train, y_test)"
   ]
  },
  {
   "cell_type": "markdown",
   "metadata": {
    "id": "20dF8_xB6bvT"
   },
   "source": [
    "22.80702 / 35.088 RS=12 >> 36.842 ---------RS=1 29.825%      || RS=1 26.437\n",
    "<br>-38.36 / -35           45.614 / 23.81%      43.86 / 47.06% ||    45.977 / 73.91%\n",
    "<br>-7.69  / -40           35.088 / -4.76%      36.842/ 23.53% ||    41.379 / 56.52%\n",
    "<br>7.69   / -40           50.877 / 38.10%      47.368/ 58.82% ||    43.678 / 65.22%"
   ]
  },
  {
   "cell_type": "code",
   "execution_count": null,
   "metadata": {},
   "outputs": [],
   "source": []
  }
 ],
 "metadata": {
  "colab": {
   "collapsed_sections": [],
   "name": "Predicting Children's Writing by Grade Level.ipynb",
   "provenance": []
  },
  "kernelspec": {
   "display_name": "Python 3",
   "language": "python",
   "name": "python3"
  },
  "language_info": {
   "codemirror_mode": {
    "name": "ipython",
    "version": 3
   },
   "file_extension": ".py",
   "mimetype": "text/x-python",
   "name": "python",
   "nbconvert_exporter": "python",
   "pygments_lexer": "ipython3",
   "version": "3.6.9"
  }
 },
 "nbformat": 4,
 "nbformat_minor": 1
}
