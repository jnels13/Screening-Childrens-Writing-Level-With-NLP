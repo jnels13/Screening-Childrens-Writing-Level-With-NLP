{
  "nbformat": 4,
  "nbformat_minor": 0,
  "metadata": {
    "colab": {
      "name": "Predicting_Children's_Writing_by_Grade_Level.ipynb",
      "provenance": [],
      "collapsed_sections": []
    },
    "kernelspec": {
      "display_name": "Python 3",
      "language": "python",
      "name": "python3"
    },
    "language_info": {
      "codemirror_mode": {
        "name": "ipython",
        "version": 3
      },
      "file_extension": ".py",
      "mimetype": "text/x-python",
      "name": "python",
      "nbconvert_exporter": "python",
      "pygments_lexer": "ipython3",
      "version": "3.6.9"
    }
  },
  "cells": [
    {
      "cell_type": "markdown",
      "metadata": {
        "id": "BX-Ny2ID-DkY"
      },
      "source": [
        "# **Predicting Children's Grade-Group Writing Level**"
      ]
    },
    {
      "cell_type": "markdown",
      "metadata": {
        "id": "7OL_URJM-DkY"
      },
      "source": [
        "This project attempts to predict a child's writing level by a grade-grouping, using publicly available, previously labeled text samples from various web sites. The dataset csv was prepared outside of this notebook (see the README for specifics on the creation of the dataset), though it should be noted that different types of writing were included, depending upon the grade level (i.e., later grade levels include research, narrative, poetry, and other such samples; these are not labeled as such). The data is context-agnostic and obvious mis-spellings were corrected, since this had already been done in some of the samples.\n",
        "\n",
        "Then several different approaches were used to create, train, and tune a model. Because some of the data sources were grouped by multiple grades (i.e., \"high school,\" instead of specifying grade 9, 10, etc.) and to achieve some balance between the groups, the data was then categorized by a grade-grouping of early elementary (k-2), middle-elementary (3-4), middle school (5-8), and high school (9-12). "
      ]
    },
    {
      "cell_type": "markdown",
      "metadata": {
        "id": "6iAuDEH6mk3C"
      },
      "source": [
        "### Import Libraries"
      ]
    },
    {
      "cell_type": "code",
      "metadata": {
        "colab": {
          "base_uri": "https://localhost:8080/"
        },
        "id": "3fIjK0Rs-DkZ",
        "outputId": "5047d244-d6ab-4ba3-92e2-e1fce0c0ca9a"
      },
      "source": [
        "import pandas as pd\n",
        "import numpy as np\n",
        "import nltk\n",
        "nltk.download('stopwords')\n",
        "nltk.download('wordnet')\n",
        "nltk.download('punkt')\n",
        "from nltk.corpus import stopwords\n",
        "from nltk import word_tokenize\n",
        "from nltk.stem.wordnet import WordNetLemmatizer\n",
        "\n",
        "import string\n",
        "import io\n",
        "import matplotlib.pyplot as plt\n",
        "%matplotlib inline\n",
        "import seaborn as sns\n",
        "\n",
        "pd.set_option('display.max_rows', 100)\n",
        "pd.set_option('display.max_columns', 100)\n",
        "pd.set_option('display.width', 100)\n",
        "import six\n",
        "from imblearn.over_sampling import SMOTE \n",
        "from sklearn.model_selection import train_test_split\n",
        "from keras.preprocessing.text import Tokenizer\n",
        "from sklearn.preprocessing import LabelEncoder\n",
        "from sklearn.dummy import DummyClassifier\n",
        "from sklearn.ensemble import RandomForestClassifier\n",
        "from sklearn.feature_extraction.text import TfidfVectorizer\n",
        "from sklearn import model_selection, naive_bayes, svm\n",
        "from sklearn.model_selection import GridSearchCV \n",
        "from sklearn.svm import SVC\n",
        "from sklearn.metrics import accuracy_score, f1_score\n",
        "import xgboost as xgb\n",
        "import gensim\n",
        "\n",
        "import warnings\n",
        "warnings.filterwarnings(\"ignore\")\n",
        "\n",
        "rand_state = 123"
      ],
      "execution_count": 10,
      "outputs": [
        {
          "output_type": "stream",
          "text": [
            "[nltk_data] Downloading package stopwords to /root/nltk_data...\n",
            "[nltk_data]   Unzipping corpora/stopwords.zip.\n",
            "[nltk_data] Downloading package wordnet to /root/nltk_data...\n",
            "[nltk_data]   Unzipping corpora/wordnet.zip.\n",
            "[nltk_data] Downloading package punkt to /root/nltk_data...\n",
            "[nltk_data]   Unzipping tokenizers/punkt.zip.\n"
          ],
          "name": "stdout"
        },
        {
          "output_type": "stream",
          "text": [
            "/usr/local/lib/python3.6/dist-packages/sklearn/externals/six.py:31: FutureWarning: The module is deprecated in version 0.21 and will be removed in version 0.23 since we've dropped support for Python 2.7. Please rely on the official version of six (https://pypi.org/project/six/).\n",
            "  \"(https://pypi.org/project/six/).\", FutureWarning)\n",
            "/usr/local/lib/python3.6/dist-packages/sklearn/utils/deprecation.py:144: FutureWarning: The sklearn.neighbors.base module is  deprecated in version 0.22 and will be removed in version 0.24. The corresponding classes / functions should instead be imported from sklearn.neighbors. Anything that cannot be imported from sklearn.neighbors is now part of the private API.\n",
            "  warnings.warn(message, FutureWarning)\n"
          ],
          "name": "stderr"
        }
      ]
    },
    {
      "cell_type": "markdown",
      "metadata": {
        "id": "zAUlUUuhW0yP"
      },
      "source": [
        "### Import Dataset"
      ]
    },
    {
      "cell_type": "code",
      "metadata": {
        "colab": {
          "resources": {
            "http://localhost:8080/nbextensions/google.colab/files.js": {
              "data": "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",
              "ok": true,
              "headers": [
                [
                  "content-type",
                  "application/javascript"
                ]
              ],
              "status": 200,
              "status_text": ""
            }
          },
          "base_uri": "https://localhost:8080/",
          "height": 91
        },
        "id": "WjSg0WF05ujY",
        "outputId": "90ae3f02-d66a-4ee2-de82-f9ebb0eeada5"
      },
      "source": [
        "from google.colab import files\n",
        "uploaded = files.upload()\n",
        "file_name = list(uploaded.keys())[0] \n",
        "print(\"Confirmed that\",file_name,\"was uploaded.\")"
      ],
      "execution_count": 343,
      "outputs": [
        {
          "output_type": "display_data",
          "data": {
            "text/html": [
              "\n",
              "     <input type=\"file\" id=\"files-c73c6b80-f317-4969-a954-7405f14dfe66\" name=\"files[]\" multiple disabled\n",
              "        style=\"border:none\" />\n",
              "     <output id=\"result-c73c6b80-f317-4969-a954-7405f14dfe66\">\n",
              "      Upload widget is only available when the cell has been executed in the\n",
              "      current browser session. Please rerun this cell to enable.\n",
              "      </output>\n",
              "      <script src=\"/nbextensions/google.colab/files.js\"></script> "
            ],
            "text/plain": [
              "<IPython.core.display.HTML object>"
            ]
          },
          "metadata": {
            "tags": []
          }
        },
        {
          "output_type": "stream",
          "text": [
            "Saving writingcsv2_combined.csv to writingcsv2_combined (1).csv\n",
            "Confirmed that writingcsv2_combined.csv was uploaded.\n"
          ],
          "name": "stdout"
        }
      ]
    },
    {
      "cell_type": "code",
      "metadata": {
        "id": "r5D7RViK-Dkc"
      },
      "source": [
        "data = pd.read_csv(io.BytesIO(uploaded[file_name]),\n",
        "                   skipinitialspace=True,\n",
        "                   sep=',', \n",
        "                   quotechar='\"', \n",
        "                   escapechar='\\\\',\n",
        "                   error_bad_lines=False, \n",
        "                   names=['Grade', 'Text'])\n",
        "\n",
        "# SAVE IN CASE RETURN TO LOCAL ENVIRONMENT\n",
        "# data = pd.read_csv(\"writingcsv2_combined.csv\",\n",
        "#                    skipinitialspace=True,\n",
        "#                    sep=',', \n",
        "#                    quotechar='\"', \n",
        "#                    escapechar='\\\\',\n",
        "#                    error_bad_lines=False, \n",
        "#                    names=['Grade', 'Text'])"
      ],
      "execution_count": 344,
      "outputs": []
    },
    {
      "cell_type": "markdown",
      "metadata": {
        "id": "Jd359QZG-Dkb"
      },
      "source": [
        "## Categorize Text Samples and Labels"
      ]
    },
    {
      "cell_type": "code",
      "metadata": {
        "colab": {
          "base_uri": "https://localhost:8080/"
        },
        "id": "otC7qdXf-Dke",
        "outputId": "a4092a0d-a1ae-4a17-b3ea-adf56a511932"
      },
      "source": [
        "data.Grade.value_counts()"
      ],
      "execution_count": 345,
      "outputs": [
        {
          "output_type": "execute_result",
          "data": {
            "text/plain": [
              "6     47\n",
              "9     44\n",
              "2     37\n",
              "4     36\n",
              "3     34\n",
              "1     29\n",
              "5     18\n",
              "0     18\n",
              "8      8\n",
              "7      8\n",
              "11     4\n",
              "12     3\n",
              "10     2\n",
              "Name: Grade, dtype: int64"
            ]
          },
          "metadata": {
            "tags": []
          },
          "execution_count": 345
        }
      ]
    },
    {
      "cell_type": "code",
      "metadata": {
        "id": "XjkMr7fQ-Dkg"
      },
      "source": [
        "#Categorize text samples into broader grade-groups \n",
        "data.loc[(data['Grade'] >= 0) & (data['Grade'] <= 2), 'Category'] = '0-2'\n",
        "data.loc[(data['Grade'] >= 3) & (data['Grade'] <= 4), 'Category'] = '3-4'\n",
        "data.loc[(data['Grade'] >= 5) & (data['Grade'] <= 8), 'Category'] = '5-8'\n",
        "data.loc[(data['Grade'] >= 9) & (data['Grade'] <= 12), 'Category'] = '9-12'"
      ],
      "execution_count": 346,
      "outputs": []
    },
    {
      "cell_type": "code",
      "metadata": {
        "colab": {
          "base_uri": "https://localhost:8080/"
        },
        "id": "0paIwBpf-Dki",
        "outputId": "a3fe2e10-da2a-47f6-85b0-fff3dbb163be"
      },
      "source": [
        "imbalance = data.Category.value_counts()\n",
        "imbalance"
      ],
      "execution_count": 347,
      "outputs": [
        {
          "output_type": "execute_result",
          "data": {
            "text/plain": [
              "0-2     84\n",
              "5-8     81\n",
              "3-4     70\n",
              "9-12    53\n",
              "Name: Category, dtype: int64"
            ]
          },
          "metadata": {
            "tags": []
          },
          "execution_count": 347
        }
      ]
    },
    {
      "cell_type": "code",
      "metadata": {
        "colab": {
          "base_uri": "https://localhost:8080/"
        },
        "id": "bRaENfta37wS",
        "outputId": "63350c59-9c8f-43a2-ae18-411b4a1ad39d"
      },
      "source": [
        "len(data.Category)"
      ],
      "execution_count": 348,
      "outputs": [
        {
          "output_type": "execute_result",
          "data": {
            "text/plain": [
              "288"
            ]
          },
          "metadata": {
            "tags": []
          },
          "execution_count": 348
        }
      ]
    },
    {
      "cell_type": "code",
      "metadata": {
        "colab": {
          "base_uri": "https://localhost:8080/",
          "height": 294
        },
        "id": "V0-EMzBV37wS",
        "outputId": "f0e19bc1-7822-46eb-95df-9813eb89eb12"
      },
      "source": [
        "sns.barplot([0,1,2,3], imbalance)\n",
        "plt.xticks([0,1,2,3],['0-2', '3-5', '6-8', '9-12'])\n",
        "plt.xlabel('Grade Groups (annotated with % pro rata share)')\n",
        "plt.ylabel('n texts')\n",
        "plt.title('Class Imbalance')\n",
        "tot=len(data.Category)\n",
        "for i in range(4):\n",
        "    plt.annotate(round(imbalance[i]/tot*(100),2),xy=(i-.17,5), color='white')\n",
        "plt.show()"
      ],
      "execution_count": 349,
      "outputs": [
        {
          "output_type": "display_data",
          "data": {
            "image/png": "[encoded data removed]",
            "text/plain": [
              "<Figure size 432x288 with 1 Axes>"
            ]
          },
          "metadata": {
            "tags": [],
            "needs_background": "light"
          }
        }
      ]
    },
    {
      "cell_type": "code",
      "metadata": {
        "id": "2C0CUN5N-Dkk"
      },
      "source": [
        "data = data.drop(['Grade'], axis=1)"
      ],
      "execution_count": 350,
      "outputs": []
    },
    {
      "cell_type": "markdown",
      "metadata": {
        "id": "cK-G09ws-Dkm"
      },
      "source": [
        "## Data Exploration & Preprocessing"
      ]
    },
    {
      "cell_type": "markdown",
      "metadata": {
        "id": "7tQvjRFP-Dkn"
      },
      "source": [
        "It's unknown at this point to what extent (if any) that leaving words in their original form (pre-lemmatization) will have an affect on the model.  Accordingly, I prepared the preprocessing pipeline comprised of the preprocessing function, the tokenizer function can be re-used on the dataset in different iterations. "
      ]
    },
    {
      "cell_type": "code",
      "metadata": {
        "colab": {
          "base_uri": "https://localhost:8080/"
        },
        "id": "EENHxvxXMNwF",
        "outputId": "599abf17-bcc1-4086-89f4-55711b7204e3"
      },
      "source": [
        "data.Text.head()"
      ],
      "execution_count": 351,
      "outputs": [
        {
          "output_type": "execute_result",
          "data": {
            "text/plain": [
              "0    How Much I Know About Space I had just gone to...\n",
              "1    My Favorite Pet My cat is fluffy. His name is ...\n",
              "2    Sweet Spring Spring is sweet because we can go...\n",
              "3    A Happy Day One day baby Josh came home. He wa...\n",
              "4    My Trip to Mexico One time I went to Mexico. I...\n",
              "Name: Text, dtype: object"
            ]
          },
          "metadata": {
            "tags": []
          },
          "execution_count": 351
        }
      ]
    },
    {
      "cell_type": "code",
      "metadata": {
        "id": "kYJNHUqz-Dkn"
      },
      "source": [
        "def tokenize_ (text):\n",
        "    return word_tokenize(text)"
      ],
      "execution_count": 352,
      "outputs": []
    },
    {
      "cell_type": "code",
      "metadata": {
        "id": "sGovP6jP-Dkr"
      },
      "source": [
        "def stopped_ (data):\n",
        "    stopwords_list = stopwords.words('english') #removing stopwords\n",
        "    stopwords_list += list(string.punctuation)  #removing punctuation\n",
        "    return([w.lower() for w in data if (w not in stopwords_list)])"
      ],
      "execution_count": 353,
      "outputs": []
    },
    {
      "cell_type": "code",
      "metadata": {
        "id": "nueE8QRZ37wT"
      },
      "source": [
        "def lemma_(data):\n",
        "    lemmatizer = WordNetLemmatizer()\n",
        "    data = [lemmatizer.lemmatize(w) for w in data]     \n",
        "    return(data)"
      ],
      "execution_count": 354,
      "outputs": []
    },
    {
      "cell_type": "code",
      "metadata": {
        "id": "weZRKkqu-Dkq"
      },
      "source": [
        "data['Text_tokenized'] = data.Text.apply(tokenize_)"
      ],
      "execution_count": 355,
      "outputs": []
    },
    {
      "cell_type": "code",
      "metadata": {
        "id": "mERIyX2V-Dkv"
      },
      "source": [
        "data['Text_lemmatized'] = data.Text_tokenized.apply(stopped_)"
      ],
      "execution_count": 356,
      "outputs": []
    },
    {
      "cell_type": "code",
      "metadata": {
        "id": "aD1VOvFL-Dkx"
      },
      "source": [
        "data.Text_lemmatized = data.Text_lemmatized.apply(lemma_)"
      ],
      "execution_count": 357,
      "outputs": []
    },
    {
      "cell_type": "code",
      "metadata": {
        "id": "KyGtr2ZdVxqB",
        "colab": {
          "base_uri": "https://localhost:8080/",
          "height": 197
        },
        "outputId": "e8ac4d7a-b57d-4c9e-a961-fcaf28f820bd"
      },
      "source": [
        "data.head()"
      ],
      "execution_count": 358,
      "outputs": [
        {
          "output_type": "execute_result",
          "data": {
            "text/html": [
              "<div>\n",
              "<style scoped>\n",
              "    .dataframe tbody tr th:only-of-type {\n",
              "        vertical-align: middle;\n",
              "    }\n",
              "\n",
              "    .dataframe tbody tr th {\n",
              "        vertical-align: top;\n",
              "    }\n",
              "\n",
              "    .dataframe thead th {\n",
              "        text-align: right;\n",
              "    }\n",
              "</style>\n",
              "<table border=\"1\" class=\"dataframe\">\n",
              "  <thead>\n",
              "    <tr style=\"text-align: right;\">\n",
              "      <th></th>\n",
              "      <th>Text</th>\n",
              "      <th>Category</th>\n",
              "      <th>Text_tokenized</th>\n",
              "      <th>Text_lemmatized</th>\n",
              "    </tr>\n",
              "  </thead>\n",
              "  <tbody>\n",
              "    <tr>\n",
              "      <th>0</th>\n",
              "      <td>How Much I Know About Space I had just gone to...</td>\n",
              "      <td>0-2</td>\n",
              "      <td>[How, Much, I, Know, About, Space, I, had, jus...</td>\n",
              "      <td>[how, much, i, know, about, space, i, gone, ch...</td>\n",
              "    </tr>\n",
              "    <tr>\n",
              "      <th>1</th>\n",
              "      <td>My Favorite Pet My cat is fluffy. His name is ...</td>\n",
              "      <td>0-2</td>\n",
              "      <td>[My, Favorite, Pet, My, cat, is, fluffy, ., Hi...</td>\n",
              "      <td>[my, favorite, pet, my, cat, fluffy, his, name...</td>\n",
              "    </tr>\n",
              "    <tr>\n",
              "      <th>2</th>\n",
              "      <td>Sweet Spring Spring is sweet because we can go...</td>\n",
              "      <td>0-2</td>\n",
              "      <td>[Sweet, Spring, Spring, is, sweet, because, we...</td>\n",
              "      <td>[sweet, spring, spring, sweet, go, boat, ridin...</td>\n",
              "    </tr>\n",
              "    <tr>\n",
              "      <th>3</th>\n",
              "      <td>A Happy Day One day baby Josh came home. He wa...</td>\n",
              "      <td>0-2</td>\n",
              "      <td>[A, Happy, Day, One, day, baby, Josh, came, ho...</td>\n",
              "      <td>[a, happy, day, one, day, baby, josh, came, ho...</td>\n",
              "    </tr>\n",
              "    <tr>\n",
              "      <th>4</th>\n",
              "      <td>My Trip to Mexico One time I went to Mexico. I...</td>\n",
              "      <td>0-2</td>\n",
              "      <td>[My, Trip, to, Mexico, One, time, I, went, to,...</td>\n",
              "      <td>[my, trip, mexico, one, time, i, went, mexico,...</td>\n",
              "    </tr>\n",
              "  </tbody>\n",
              "</table>\n",
              "</div>"
            ],
            "text/plain": [
              "                                                Text Category  \\\n",
              "0  How Much I Know About Space I had just gone to...      0-2   \n",
              "1  My Favorite Pet My cat is fluffy. His name is ...      0-2   \n",
              "2  Sweet Spring Spring is sweet because we can go...      0-2   \n",
              "3  A Happy Day One day baby Josh came home. He wa...      0-2   \n",
              "4  My Trip to Mexico One time I went to Mexico. I...      0-2   \n",
              "\n",
              "                                      Text_tokenized  \\\n",
              "0  [How, Much, I, Know, About, Space, I, had, jus...   \n",
              "1  [My, Favorite, Pet, My, cat, is, fluffy, ., Hi...   \n",
              "2  [Sweet, Spring, Spring, is, sweet, because, we...   \n",
              "3  [A, Happy, Day, One, day, baby, Josh, came, ho...   \n",
              "4  [My, Trip, to, Mexico, One, time, I, went, to,...   \n",
              "\n",
              "                                     Text_lemmatized  \n",
              "0  [how, much, i, know, about, space, i, gone, ch...  \n",
              "1  [my, favorite, pet, my, cat, fluffy, his, name...  \n",
              "2  [sweet, spring, spring, sweet, go, boat, ridin...  \n",
              "3  [a, happy, day, one, day, baby, josh, came, ho...  \n",
              "4  [my, trip, mexico, one, time, i, went, mexico,...  "
            ]
          },
          "metadata": {
            "tags": []
          },
          "execution_count": 358
        }
      ]
    },
    {
      "cell_type": "markdown",
      "metadata": {
        "id": "gW2Ao0tQ-Dkz"
      },
      "source": [
        "#### Column \"Text_lemmatized\" contains the lemmatized, tokenized texts with stop-words removed and contractions expanded. \n",
        "\n",
        "### **Visualization of Corpus**"
      ]
    },
    {
      "cell_type": "code",
      "metadata": {
        "id": "UQJ_hd_F-Dkz",
        "colab": {
          "base_uri": "https://localhost:8080/"
        },
        "outputId": "9b4801f0-1a70-433b-8157-cce26adf09f1"
      },
      "source": [
        "data.info()"
      ],
      "execution_count": 359,
      "outputs": [
        {
          "output_type": "stream",
          "text": [
            "<class 'pandas.core.frame.DataFrame'>\n",
            "RangeIndex: 288 entries, 0 to 287\n",
            "Data columns (total 4 columns):\n",
            " #   Column           Non-Null Count  Dtype \n",
            "---  ------           --------------  ----- \n",
            " 0   Text             288 non-null    object\n",
            " 1   Category         288 non-null    object\n",
            " 2   Text_tokenized   288 non-null    object\n",
            " 3   Text_lemmatized  288 non-null    object\n",
            "dtypes: object(4)\n",
            "memory usage: 9.1+ KB\n"
          ],
          "name": "stdout"
        }
      ]
    },
    {
      "cell_type": "code",
      "metadata": {
        "id": "Pu0lPri8-Dk1"
      },
      "source": [
        "# Create a column containing the number of words per each ORIGINAL text \n",
        "data['num_words'] = data['Text'].str.len()  "
      ],
      "execution_count": 360,
      "outputs": []
    },
    {
      "cell_type": "code",
      "metadata": {
        "id": "7HfiYwkn-Dk5"
      },
      "source": [
        "# Create a column containing average word length for each ORIGINAL text \n",
        "temp_token_list = list(data['Text_tokenized'])\n",
        "new_token_list = []\n",
        "for item in temp_token_list:\n",
        "    new_token_list.append(np.average([len(w) for w in item]))\n",
        "data['avg_orig_word_len'] = new_token_list"
      ],
      "execution_count": 361,
      "outputs": []
    },
    {
      "cell_type": "code",
      "metadata": {
        "id": "gkGiWe8h37wT"
      },
      "source": [
        "# Create a column containing average word length for each LEMMATIZED text \n",
        "temp_lemma_list = list(data['Text_lemmatized'])\n",
        "new_lemma_list = []\n",
        "for item in temp_lemma_list:\n",
        "    new_lemma_list.append(np.average([len(w) for w in item]))\n",
        "data['avg_lem_word_len'] = new_lemma_list"
      ],
      "execution_count": 362,
      "outputs": []
    },
    {
      "cell_type": "code",
      "metadata": {
        "id": "Kicip5sq-Dk7",
        "colab": {
          "base_uri": "https://localhost:8080/",
          "height": 281
        },
        "outputId": "b98f5f2a-a9c3-4a64-af33-69992ddd3fc9"
      },
      "source": [
        "# Review new columns\n",
        "data.head(5)"
      ],
      "execution_count": 363,
      "outputs": [
        {
          "output_type": "execute_result",
          "data": {
            "text/html": [
              "<div>\n",
              "<style scoped>\n",
              "    .dataframe tbody tr th:only-of-type {\n",
              "        vertical-align: middle;\n",
              "    }\n",
              "\n",
              "    .dataframe tbody tr th {\n",
              "        vertical-align: top;\n",
              "    }\n",
              "\n",
              "    .dataframe thead th {\n",
              "        text-align: right;\n",
              "    }\n",
              "</style>\n",
              "<table border=\"1\" class=\"dataframe\">\n",
              "  <thead>\n",
              "    <tr style=\"text-align: right;\">\n",
              "      <th></th>\n",
              "      <th>Text</th>\n",
              "      <th>Category</th>\n",
              "      <th>Text_tokenized</th>\n",
              "      <th>Text_lemmatized</th>\n",
              "      <th>num_words</th>\n",
              "      <th>avg_orig_word_len</th>\n",
              "      <th>avg_lem_word_len</th>\n",
              "    </tr>\n",
              "  </thead>\n",
              "  <tbody>\n",
              "    <tr>\n",
              "      <th>0</th>\n",
              "      <td>How Much I Know About Space I had just gone to...</td>\n",
              "      <td>0-2</td>\n",
              "      <td>[How, Much, I, Know, About, Space, I, had, jus...</td>\n",
              "      <td>[how, much, i, know, about, space, i, gone, ch...</td>\n",
              "      <td>365</td>\n",
              "      <td>3.641975</td>\n",
              "      <td>4.283019</td>\n",
              "    </tr>\n",
              "    <tr>\n",
              "      <th>1</th>\n",
              "      <td>My Favorite Pet My cat is fluffy. His name is ...</td>\n",
              "      <td>0-2</td>\n",
              "      <td>[My, Favorite, Pet, My, cat, is, fluffy, ., Hi...</td>\n",
              "      <td>[my, favorite, pet, my, cat, fluffy, his, name...</td>\n",
              "      <td>210</td>\n",
              "      <td>3.000000</td>\n",
              "      <td>3.827586</td>\n",
              "    </tr>\n",
              "    <tr>\n",
              "      <th>2</th>\n",
              "      <td>Sweet Spring Spring is sweet because we can go...</td>\n",
              "      <td>0-2</td>\n",
              "      <td>[Sweet, Spring, Spring, is, sweet, because, we...</td>\n",
              "      <td>[sweet, spring, spring, sweet, go, boat, ridin...</td>\n",
              "      <td>255</td>\n",
              "      <td>3.383333</td>\n",
              "      <td>4.185185</td>\n",
              "    </tr>\n",
              "    <tr>\n",
              "      <th>3</th>\n",
              "      <td>A Happy Day One day baby Josh came home. He wa...</td>\n",
              "      <td>0-2</td>\n",
              "      <td>[A, Happy, Day, One, day, baby, Josh, came, ho...</td>\n",
              "      <td>[a, happy, day, one, day, baby, josh, came, ho...</td>\n",
              "      <td>131</td>\n",
              "      <td>3.058824</td>\n",
              "      <td>3.681818</td>\n",
              "    </tr>\n",
              "    <tr>\n",
              "      <th>4</th>\n",
              "      <td>My Trip to Mexico One time I went to Mexico. I...</td>\n",
              "      <td>0-2</td>\n",
              "      <td>[My, Trip, to, Mexico, One, time, I, went, to,...</td>\n",
              "      <td>[my, trip, mexico, one, time, i, went, mexico,...</td>\n",
              "      <td>243</td>\n",
              "      <td>3.096774</td>\n",
              "      <td>3.947368</td>\n",
              "    </tr>\n",
              "  </tbody>\n",
              "</table>\n",
              "</div>"
            ],
            "text/plain": [
              "                                                Text Category  \\\n",
              "0  How Much I Know About Space I had just gone to...      0-2   \n",
              "1  My Favorite Pet My cat is fluffy. His name is ...      0-2   \n",
              "2  Sweet Spring Spring is sweet because we can go...      0-2   \n",
              "3  A Happy Day One day baby Josh came home. He wa...      0-2   \n",
              "4  My Trip to Mexico One time I went to Mexico. I...      0-2   \n",
              "\n",
              "                                      Text_tokenized  \\\n",
              "0  [How, Much, I, Know, About, Space, I, had, jus...   \n",
              "1  [My, Favorite, Pet, My, cat, is, fluffy, ., Hi...   \n",
              "2  [Sweet, Spring, Spring, is, sweet, because, we...   \n",
              "3  [A, Happy, Day, One, day, baby, Josh, came, ho...   \n",
              "4  [My, Trip, to, Mexico, One, time, I, went, to,...   \n",
              "\n",
              "                                     Text_lemmatized  num_words  avg_orig_word_len  \\\n",
              "0  [how, much, i, know, about, space, i, gone, ch...        365           3.641975   \n",
              "1  [my, favorite, pet, my, cat, fluffy, his, name...        210           3.000000   \n",
              "2  [sweet, spring, spring, sweet, go, boat, ridin...        255           3.383333   \n",
              "3  [a, happy, day, one, day, baby, josh, came, ho...        131           3.058824   \n",
              "4  [my, trip, mexico, one, time, i, went, mexico,...        243           3.096774   \n",
              "\n",
              "   avg_lem_word_len  \n",
              "0          4.283019  \n",
              "1          3.827586  \n",
              "2          4.185185  \n",
              "3          3.681818  \n",
              "4          3.947368  "
            ]
          },
          "metadata": {
            "tags": []
          },
          "execution_count": 363
        }
      ]
    },
    {
      "cell_type": "code",
      "metadata": {
        "id": "H_-5H3Ib-Dk9",
        "scrolled": true,
        "colab": {
          "base_uri": "https://localhost:8080/"
        },
        "outputId": "b39fdd68-070f-4f7e-8fd3-f005debb776e"
      },
      "source": [
        "print(data.groupby('Category').describe().reset_index().sort_values('Category', ascending=True))"
      ],
      "execution_count": 364,
      "outputs": [
        {
          "output_type": "stream",
          "text": [
            "  Category num_words                                                                     \\\n",
            "               count         mean          std    min      25%     50%     75%      max   \n",
            "0      0-2      84.0   413.523810   285.131484   26.0   185.75   370.0   605.0   1648.0   \n",
            "1      3-4      70.0  1185.628571   561.531786  121.0   739.25  1227.5  1540.0   2731.0   \n",
            "2      5-8      81.0  2743.111111  1604.239212  456.0  1859.00  2418.0  3060.0   9705.0   \n",
            "3     9-12      53.0  4332.943396  2350.536702  755.0  2851.00  3576.0  5434.0  11395.0   \n",
            "\n",
            "  avg_orig_word_len                                                                        \\\n",
            "              count      mean       std       min       25%       50%       75%       max   \n",
            "0              84.0  3.504695  0.396215  2.333333  3.244792  3.494681  3.751025  4.625000   \n",
            "1              70.0  3.527131  0.289879  2.881818  3.361371  3.522176  3.695111  4.606154   \n",
            "2              81.0  3.781991  0.336416  3.129754  3.533505  3.714286  3.989796  4.547619   \n",
            "3              53.0  3.875039  0.363166  3.226908  3.624031  3.828151  4.061151  4.658385   \n",
            "\n",
            "  avg_lem_word_len                                                                        \n",
            "             count      mean       std       min       25%       50%       75%       max  \n",
            "0             84.0  4.352127  0.561868  2.800000  4.007576  4.278352  4.694280  6.063830  \n",
            "1             70.0  4.524812  0.487271  3.111111  4.299545  4.518989  4.790720  6.438596  \n",
            "2             81.0  4.971237  0.495660  3.919431  4.605263  4.976879  5.281938  5.981132  \n",
            "3             53.0  5.177442  0.566420  4.166163  4.813793  5.031830  5.522556  6.459184  \n"
          ],
          "name": "stdout"
        }
      ]
    },
    {
      "cell_type": "markdown",
      "metadata": {
        "id": "rwa6iGUKdpyr"
      },
      "source": [
        "When looking at the number of words per text, they follow a relatively predicatble pattern, with the min/max, mean, and standard deviation increasing rather significantly with grade-group.  The average length of words per grade-group level does not appear to correlate nearly as much, though; average word lengths are much closer (though they do trend up with grade-group), but standard deviation and word counts do not follow the trend. The visualizations below highlight these differences:"
      ]
    },
    {
      "cell_type": "code",
      "metadata": {
        "id": "iod4kOnU-DlA",
        "colab": {
          "base_uri": "https://localhost:8080/",
          "height": 533
        },
        "outputId": "b730941f-cd1e-4ec3-be1b-6b624df1fec6"
      },
      "source": [
        "#Histogram of Number of Words per Text\n",
        "plt.figure(figsize=(12,8))\n",
        "plt.title('Histogram of Total Number of Words Per Each Original Text by Grade Category\\n (Before Stopword Removal and Lemmatizing)', size='x-large')\n",
        "for name, group in data.groupby('Category'):\n",
        "    sns.distplot(group['num_words'], label=name)\n",
        "plt.legend()\n",
        "plt.xlabel('Number of Words', size='large')\n",
        "plt.show()"
      ],
      "execution_count": 365,
      "outputs": [
        {
          "output_type": "display_data",
          "data": {
            "image/png": "[encoded data removed]",
            "text/plain": [
              "<Figure size 864x576 with 1 Axes>"
            ]
          },
          "metadata": {
            "tags": [],
            "needs_background": "light"
          }
        }
      ]
    },
    {
      "cell_type": "markdown",
      "metadata": {
        "id": "U3bmth8a-DlC"
      },
      "source": [
        "The text lengths for K-2 grade are much shorter than the higher grades. Lengths of middle and high school texts are much more comparable."
      ]
    },
    {
      "cell_type": "code",
      "metadata": {
        "id": "mZYhJWwD-DlE",
        "colab": {
          "base_uri": "https://localhost:8080/",
          "height": 533
        },
        "outputId": "0826a34a-c795-4ea3-eb09-21462a721f0d"
      },
      "source": [
        "#Histogram of Average Word Length Per Original Text\n",
        "plt.figure(figsize=(12,8))\n",
        "plt.title('Histogram of Average Word Length Per Each Original Text by Grade Category \\n (BEFORE Stopword Removal and Lemmatizing)', size='x-large')\n",
        "for name, group in data.groupby('Category'):\n",
        "    sns.distplot(group['avg_orig_word_len'], label=name)\n",
        "plt.legend()\n",
        "plt.xlabel('Average Original Word Length', size='large')\n",
        "plt.show()"
      ],
      "execution_count": 366,
      "outputs": [
        {
          "output_type": "display_data",
          "data": {
            "image/png": "[encoded data removed]",
            "text/plain": [
              "<Figure size 864x576 with 1 Axes>"
            ]
          },
          "metadata": {
            "tags": [],
            "needs_background": "light"
          }
        }
      ]
    },
    {
      "cell_type": "code",
      "metadata": {
        "colab": {
          "base_uri": "https://localhost:8080/",
          "height": 533
        },
        "id": "rQzXzzW637wT",
        "outputId": "bcf472be-c51e-4d67-8c5f-27a280e6dcd0"
      },
      "source": [
        "#Histogram of Average Word Length Per Lemmatized Text\n",
        "plt.figure(figsize=(12,8))\n",
        "plt.title('Histogram of Average Word Length Per Each Lemmatized Text by Grade Category \\n (AFTER Stopword Removal and Lemmatizing)', size='x-large')\n",
        "for name, group in data.groupby('Category'):\n",
        "    sns.distplot(group['avg_lem_word_len'], label=name)\n",
        "plt.legend()\n",
        "plt.xlabel('Average Lemmatized Word Length', size='large')\n",
        "plt.show()"
      ],
      "execution_count": 367,
      "outputs": [
        {
          "output_type": "display_data",
          "data": {
            "image/png": "[encoded data removed]",
            "text/plain": [
              "<Figure size 864x576 with 1 Axes>"
            ]
          },
          "metadata": {
            "tags": [],
            "needs_background": "light"
          }
        }
      ]
    },
    {
      "cell_type": "markdown",
      "metadata": {
        "id": "KeUYgqlx-DlH"
      },
      "source": [
        "The distributions of word lengths are much higher in the stopped/lemmatized group (peaking between 4-5 for stopped/lemmatized texts, compared to about 3.5 for the original texts.  The distributions of the original texts are also much closer together, likely due to the inclusion of the stop words. "
      ]
    },
    {
      "cell_type": "markdown",
      "metadata": {
        "id": "jMEK09WdiWNq"
      },
      "source": [
        "# **Weight/Vectorize the Texts**"
      ]
    },
    {
      "cell_type": "code",
      "metadata": {
        "id": "qscDPLzS-DlI"
      },
      "source": [
        "X_train, X_test, y_train, y_test = train_test_split(\n",
        "    data['Text_lemmatized'],data['Category'],test_size=0.3, random_state=rand_state, stratify=data['Category'])"
      ],
      "execution_count": 368,
      "outputs": []
    },
    {
      "cell_type": "code",
      "metadata": {
        "id": "CjfwfHOl-DlK"
      },
      "source": [
        "# Y labels to use with all models\n",
        "Encoder = LabelEncoder()\n",
        "y_train = Encoder.fit_transform(y_train)\n",
        "y_test = Encoder.fit_transform(y_test)"
      ],
      "execution_count": 369,
      "outputs": []
    },
    {
      "cell_type": "markdown",
      "metadata": {
        "id": "SlhkMfY1-DlI"
      },
      "source": [
        "### **TD-IDF Weighting**"
      ]
    },
    {
      "cell_type": "code",
      "metadata": {
        "id": "ybxDIKkM-DlM"
      },
      "source": [
        "lemmas = data['Text_lemmatized'].apply(lambda x: ' '.join(x))\n",
        "lemma_Train_X = X_train.apply(lambda x: ' '.join(x))\n",
        "lemma_Test_X  = X_test.apply(lambda x: ' '.join(x))\n",
        "\n",
        "Tfidf_vect = TfidfVectorizer(max_features=5000)\n",
        "Tfidf_vect.fit(lemmas)\n",
        "X_train_tfidf = Tfidf_vect.transform(lemma_Train_X)\n",
        "X_test_tfidf = Tfidf_vect.transform(lemma_Test_X)"
      ],
      "execution_count": 370,
      "outputs": []
    },
    {
      "cell_type": "code",
      "metadata": {
        "id": "1DXYtmsq37wU"
      },
      "source": [
        "sm = SMOTE(sampling_strategy='auto', k_neighbors=2, random_state=rand_state)\n",
        "X_train_tfidf,y_train_tfidf = sm.fit_resample(X_train_tfidf, y_train) "
      ],
      "execution_count": 371,
      "outputs": []
    },
    {
      "cell_type": "code",
      "metadata": {
        "colab": {
          "base_uri": "https://localhost:8080/"
        },
        "id": "58IeYyjZ37wU",
        "outputId": "e85acbce-c9c1-4104-8e8c-4fc711477cb1"
      },
      "source": [
        "pd.DataFrame(X_train_tfidf).shape"
      ],
      "execution_count": 372,
      "outputs": [
        {
          "output_type": "execute_result",
          "data": {
            "text/plain": [
              "(236, 1)"
            ]
          },
          "metadata": {
            "tags": []
          },
          "execution_count": 372
        }
      ]
    },
    {
      "cell_type": "markdown",
      "metadata": {
        "id": "a0z3KigImAAI"
      },
      "source": [
        "### **Word2vec Vectorization**"
      ]
    },
    {
      "cell_type": "code",
      "metadata": {
        "id": "2eNcVz87RKT-"
      },
      "source": [
        "num_features=300\n",
        "model = gensim.models.Word2Vec(data.Text_lemmatized, \n",
        "                               size=num_features, \n",
        "                               min_count=2, \n",
        "                               workers=4, \n",
        "                               seed=1, \n",
        "                               iter=50, window=5)"
      ],
      "execution_count": 373,
      "outputs": []
    },
    {
      "cell_type": "code",
      "metadata": {
        "id": "cSbrtpwGRK9F",
        "colab": {
          "base_uri": "https://localhost:8080/"
        },
        "outputId": "b6b80ef9-1fc8-4d56-f86b-2b5d023f1472"
      },
      "source": [
        "model.wv.syn0.shape"
      ],
      "execution_count": 374,
      "outputs": [
        {
          "output_type": "execute_result",
          "data": {
            "text/plain": [
              "(4769, 300)"
            ]
          },
          "metadata": {
            "tags": []
          },
          "execution_count": 374
        }
      ]
    },
    {
      "cell_type": "code",
      "metadata": {
        "id": "6v63xaLwKnsN",
        "colab": {
          "base_uri": "https://localhost:8080/",
          "height": 35
        },
        "outputId": "e5126219-e7fc-4555-f63e-6999805a07c5"
      },
      "source": [
        "#Just for fun, to see if it's working\n",
        "model.wv.doesnt_match(\"red green bus\".split())"
      ],
      "execution_count": 375,
      "outputs": [
        {
          "output_type": "execute_result",
          "data": {
            "application/vnd.google.colaboratory.intrinsic+json": {
              "type": "string"
            },
            "text/plain": [
              "'bus'"
            ]
          },
          "metadata": {
            "tags": []
          },
          "execution_count": 375
        }
      ]
    },
    {
      "cell_type": "code",
      "metadata": {
        "id": "_8B7SOJ-Kgl7"
      },
      "source": [
        "# Function to average all word vectors in a paragraph (from https://www.kaggle.com/varun08/sentiment-analysis-using-word2vec)\n",
        "def featureVecMethod(words, model, num_features):\n",
        "    # Pre-initialising empty numpy array for speed\n",
        "    featureVec = np.zeros(num_features,dtype=\"float32\")\n",
        "    nwords = 0\n",
        "    \n",
        "    #Converting Index2Word which is a list to a set for better speed in the execution.\n",
        "    index2word_set = set(model.wv.index2word)\n",
        "    \n",
        "    for word in  words:\n",
        "        if word in index2word_set:\n",
        "            nwords = nwords + 1\n",
        "            featureVec = np.add(featureVec,model[word])\n",
        "    \n",
        "    # Dividing the result by number of words to get average\n",
        "    featureVec = np.divide(featureVec, nwords)\n",
        "    return featureVec"
      ],
      "execution_count": 376,
      "outputs": []
    },
    {
      "cell_type": "code",
      "metadata": {
        "id": "t6Sz491qKg_p"
      },
      "source": [
        "# Function for calculating the average feature vector (from https://www.kaggle.com/varun08/sentiment-analysis-using-word2vec)\n",
        "def getAvgFeatureVecs(reviews, model, num_features):\n",
        "    counter = 0\n",
        "    reviewFeatureVecs = np.zeros((len(reviews),num_features),dtype=\"float32\")\n",
        "    for review in reviews:\n",
        "        # Printing a status message every 1000th review\n",
        "        if counter%1000 == 0:\n",
        "            print(\"Review %d of %d\"%(counter,len(reviews)))\n",
        "            \n",
        "        reviewFeatureVecs[counter] = featureVecMethod(review, model, num_features)\n",
        "        counter = counter+1\n",
        "        \n",
        "    return reviewFeatureVecs"
      ],
      "execution_count": 377,
      "outputs": []
    },
    {
      "cell_type": "code",
      "metadata": {
        "id": "QYtjB2ETKhG3",
        "colab": {
          "base_uri": "https://localhost:8080/"
        },
        "outputId": "c2e2cec2-1855-4ec3-9284-8d691b3855e7"
      },
      "source": [
        "trainDataVecs = getAvgFeatureVecs(X_train, model, num_features)\n",
        "testDataVecs =  getAvgFeatureVecs(X_test, model, num_features)"
      ],
      "execution_count": 378,
      "outputs": [
        {
          "output_type": "stream",
          "text": [
            "Review 0 of 201\n",
            "Review 0 of 87\n"
          ],
          "name": "stdout"
        }
      ]
    },
    {
      "cell_type": "code",
      "metadata": {
        "id": "-_qubCpdKg1O",
        "colab": {
          "base_uri": "https://localhost:8080/"
        },
        "outputId": "dc395103-23a0-4fc8-e30d-9f70ef2fe621"
      },
      "source": [
        "trainDataVecs.shape, testDataVecs.shape"
      ],
      "execution_count": 379,
      "outputs": [
        {
          "output_type": "execute_result",
          "data": {
            "text/plain": [
              "((201, 300), (87, 300))"
            ]
          },
          "metadata": {
            "tags": []
          },
          "execution_count": 379
        }
      ]
    },
    {
      "cell_type": "code",
      "metadata": {
        "id": "CUWxUYO237wU"
      },
      "source": [
        "X_train_w2v,y_train_w2v = sm.fit_sample(trainDataVecs, y_train) "
      ],
      "execution_count": 380,
      "outputs": []
    },
    {
      "cell_type": "markdown",
      "metadata": {
        "id": "-mNH3hi--DlH"
      },
      "source": [
        "# **Models**"
      ]
    },
    {
      "cell_type": "code",
      "metadata": {
        "id": "jh4-fPQgtxDS"
      },
      "source": [
        "def dummy_classifier(X_train, X_test, y_train, y_test):\n",
        "  dummy_clf = DummyClassifier(strategy=\"stratified\", random_state=rand_state)\n",
        "  dummy_clf.fit(X_train, y_train)\n",
        "  dummy_accuracy = (round(dummy_clf.score(X_test, y_test)*100,3))\n",
        "  return(dummy_accuracy)"
      ],
      "execution_count": 381,
      "outputs": []
    },
    {
      "cell_type": "code",
      "metadata": {
        "id": "CqDPgMPpSwvi"
      },
      "source": [
        "def svm_classifier(X_train, X_test, y_train, y_test):\n",
        "  clf_svm = svm.SVC(random_state=rand_state)\n",
        "  param_grid = {'C': [0.1, 1, 10, 100, 1000],  \n",
        "                'gamma': [1, 0.1, 0.01, 0.001, 0.0001], \n",
        "                'kernel': ['rbf', 'linear', 'sigmoid', 'poly'],\n",
        "                'degree': [1,2,3,4]} \n",
        "  gs_svm = GridSearchCV(SVC(), param_grid, cv=5)\n",
        "  gs_svm.fit(X_train,y_train)\n",
        "  best = gs_svm.best_params_\n",
        "  SVM = svm.SVC(C=best['C'], kernel=best['kernel'], degree=best['degree'], gamma=best['gamma'], random_state=rand_state)\n",
        "  SVM.fit(X_train,y_train)\n",
        "  y_hat = SVM.predict(X_test)\n",
        "  return (round(accuracy_score(y_test, y_hat)*100,3), round(f1_score(y_test, y_hat, average='macro')*100,3))"
      ],
      "execution_count": 382,
      "outputs": []
    },
    {
      "cell_type": "code",
      "metadata": {
        "id": "tTfUq-RAimRf"
      },
      "source": [
        "def rf_classifier(X_train, X_test, y_train, y_test):\n",
        "  forest = RandomForestClassifier(n_estimators = 110, random_state=rand_state)\n",
        "  forest_tf = forest.fit(X_train,y_train)\n",
        "  y_hat = forest.predict(X_test)\n",
        "  return (round(accuracy_score(y_test, y_hat)*100,3), round(f1_score(y_test, y_hat, average='macro')*100,3))"
      ],
      "execution_count": 383,
      "outputs": []
    },
    {
      "cell_type": "code",
      "metadata": {
        "id": "NZenXJxGAfXP"
      },
      "source": [
        "def xgb_classifier(X_train, X_test, y_train, y_test):\n",
        "  clf_xgb = xgb.XGBClassifier(random_state=rand_state)\n",
        "  clf_xgb.fit(X_train, y_train)\n",
        "  y_hat = clf_xgb.predict(X_test)\n",
        "  return (round(accuracy_score(y_test, y_hat)*100,3), round(f1_score(y_test, y_hat, average='macro')*100,3))"
      ],
      "execution_count": 384,
      "outputs": []
    },
    {
      "cell_type": "code",
      "metadata": {
        "id": "vqVc8efunPj9"
      },
      "source": [
        "def combined_models(X_train, X_test, y_train, y_test):\n",
        "  dum = dummy_classifier(X_train, X_test, y_train, y_test)\n",
        "  svm = svm_classifier(X_train, X_test, y_train, y_test)\n",
        "  rfc = rf_classifier(X_train, X_test, y_train, y_test)\n",
        "  xgb = xgb_classifier(X_train, X_test, y_train, y_test)\n",
        "  print('Dummy Classifier Accuracy:', dum)\n",
        "  print('SVM Classifier Accuracy, F1 Score (macro):', svm)\n",
        "  print('Random Forest Accuracy, F1 Score (macro):', rfc)\n",
        "  print('XG Boost Accuracy, F1 Score (macro):', xgb)\n",
        "  return()\n"
      ],
      "execution_count": 385,
      "outputs": []
    },
    {
      "cell_type": "markdown",
      "metadata": {
        "id": "9-Zr-4vIm8qA"
      },
      "source": [
        "## **Application of Models to Datasets**"
      ]
    },
    {
      "cell_type": "markdown",
      "metadata": {
        "id": "_rMmL_vm37wU"
      },
      "source": [
        "### Iteration 1: Initial, Multi-Source Dataset <br>(don't run these cells after initial dataset is loaded)"
      ]
    },
    {
      "cell_type": "code",
      "metadata": {
        "id": "0DpR4BtJm1fr",
        "colab": {
          "base_uri": "https://localhost:8080/"
        },
        "outputId": "29db80a3-ab2c-423f-bc8a-131614feae24"
      },
      "source": [
        "#Test the TF-IDF weighted texts\n",
        "combined_models(X_train_tfidf, X_test_tfidf, y_train_tfidf, y_test)"
      ],
      "execution_count": 296,
      "outputs": [
        {
          "output_type": "stream",
          "text": [
            "Dummy Classifier Accuracy: 19.298\n",
            "SVM Classifier Accuracy, F1 Score (macro): (38.596, 37.069)\n",
            "Random Forest Accuracy, F1 Score (macro): (52.632, 50.052)\n",
            "XG Boost Accuracy, F1 Score (macro): (50.877, 51.089)\n"
          ],
          "name": "stdout"
        },
        {
          "output_type": "execute_result",
          "data": {
            "text/plain": [
              "()"
            ]
          },
          "metadata": {
            "tags": []
          },
          "execution_count": 296
        }
      ]
    },
    {
      "cell_type": "code",
      "metadata": {
        "id": "8r4Z1Ar0m1wv",
        "colab": {
          "base_uri": "https://localhost:8080/"
        },
        "outputId": "9395b892-e874-40b7-f747-38a219b064a9"
      },
      "source": [
        "#Test the Word2vec vectorized texts\n",
        "combined_models(X_train_w2v, testDataVecs, y_train_w2v, y_test)"
      ],
      "execution_count": 297,
      "outputs": [
        {
          "output_type": "stream",
          "text": [
            "Dummy Classifier Accuracy: 19.298\n",
            "SVM Classifier Accuracy, F1 Score (macro): (45.614, 45.55)\n",
            "Random Forest Accuracy, F1 Score (macro): (49.123, 49.844)\n",
            "XG Boost Accuracy, F1 Score (macro): (49.123, 49.19)\n"
          ],
          "name": "stdout"
        },
        {
          "output_type": "execute_result",
          "data": {
            "text/plain": [
              "()"
            ]
          },
          "metadata": {
            "tags": []
          },
          "execution_count": 297
        }
      ]
    },
    {
      "cell_type": "markdown",
      "metadata": {
        "id": "0JqK-IHv37wU"
      },
      "source": [
        "### Iteration 2: Single-Source, Common-Core Dataset"
      ]
    },
    {
      "cell_type": "code",
      "metadata": {
        "id": "LbffUy1r37wU",
        "colab": {
          "base_uri": "https://localhost:8080/"
        },
        "outputId": "67cac390-1a4f-4985-ede9-3eab6480615c"
      },
      "source": [
        "#Test the TF-IDF weighted texts\n",
        "combined_models(X_train_tfidf, X_test_tfidf, y_train_tfidf, y_test)"
      ],
      "execution_count": 341,
      "outputs": [
        {
          "output_type": "stream",
          "text": [
            "Dummy Classifier Accuracy: 16.129\n",
            "SVM Classifier Accuracy, F1 Score (macro): (54.839, 33.463)\n",
            "Random Forest Accuracy, F1 Score (macro): (58.065, 33.75)\n",
            "XG Boost Accuracy, F1 Score (macro): (61.29, 49.586)\n"
          ],
          "name": "stdout"
        },
        {
          "output_type": "execute_result",
          "data": {
            "text/plain": [
              "()"
            ]
          },
          "metadata": {
            "tags": []
          },
          "execution_count": 341
        }
      ]
    },
    {
      "cell_type": "code",
      "metadata": {
        "id": "lOhrilqb37wU",
        "colab": {
          "base_uri": "https://localhost:8080/"
        },
        "outputId": "d5c2238a-fe24-4ce4-9f19-417b51f36065"
      },
      "source": [
        "#Test the Word2vec vectorized texts\n",
        "combined_models(X_train_w2v, testDataVecs, y_train_w2v, y_test)"
      ],
      "execution_count": 342,
      "outputs": [
        {
          "output_type": "stream",
          "text": [
            "Dummy Classifier Accuracy: 16.129\n",
            "SVM Classifier Accuracy, F1 Score (macro): (35.484, 33.125)\n",
            "Random Forest Accuracy, F1 Score (macro): (48.387, 48.847)\n",
            "XG Boost Accuracy, F1 Score (macro): (38.71, 31.692)\n"
          ],
          "name": "stdout"
        },
        {
          "output_type": "execute_result",
          "data": {
            "text/plain": [
              "()"
            ]
          },
          "metadata": {
            "tags": []
          },
          "execution_count": 342
        }
      ]
    },
    {
      "cell_type": "markdown",
      "metadata": {
        "id": "6b9ly2HB0iOB"
      },
      "source": [
        "### Iteration 3: Combined Dataset"
      ]
    },
    {
      "cell_type": "code",
      "metadata": {
        "colab": {
          "base_uri": "https://localhost:8080/"
        },
        "id": "Wiz06BYN0iOB",
        "outputId": "41e7f886-bbee-4853-aa14-8ec04154be41"
      },
      "source": [
        "#Test the TF-IDF weighted texts\n",
        "combined_models(X_train_tfidf, X_test_tfidf, y_train_tfidf, y_test)"
      ],
      "execution_count": 386,
      "outputs": [
        {
          "output_type": "stream",
          "text": [
            "Dummy Classifier Accuracy: 32.184\n",
            "SVM Classifier Accuracy, F1 Score (macro): (52.874, 35.606)\n",
            "Random Forest Accuracy, F1 Score (macro): (59.77, 55.656)\n",
            "XG Boost Accuracy, F1 Score (macro): (63.218, 60.154)\n"
          ],
          "name": "stdout"
        },
        {
          "output_type": "execute_result",
          "data": {
            "text/plain": [
              "()"
            ]
          },
          "metadata": {
            "tags": []
          },
          "execution_count": 386
        }
      ]
    },
    {
      "cell_type": "code",
      "metadata": {
        "colab": {
          "base_uri": "https://localhost:8080/"
        },
        "id": "aKlZBLxl0iOC",
        "outputId": "9b1d445c-c4d8-4e64-ef42-3c9a6bb8c98f"
      },
      "source": [
        "#Test the Word2vec vectorized texts\n",
        "combined_models(X_train_w2v, testDataVecs, y_train_w2v, y_test)"
      ],
      "execution_count": 387,
      "outputs": [
        {
          "output_type": "stream",
          "text": [
            "Dummy Classifier Accuracy: 32.184\n",
            "SVM Classifier Accuracy, F1 Score (macro): (43.678, 44.444)\n",
            "Random Forest Accuracy, F1 Score (macro): (52.874, 51.372)\n",
            "XG Boost Accuracy, F1 Score (macro): (55.172, 54.681)\n"
          ],
          "name": "stdout"
        },
        {
          "output_type": "execute_result",
          "data": {
            "text/plain": [
              "()"
            ]
          },
          "metadata": {
            "tags": []
          },
          "execution_count": 387
        }
      ]
    },
    {
      "cell_type": "markdown",
      "metadata": {
        "id": "yKr4MnPQnf4I"
      },
      "source": [
        "The best performing model was the XGBoost on TF-IDF weighted texts, at 63.218% accuracy. This is the model we'll use in production "
      ]
    },
    {
      "cell_type": "markdown",
      "metadata": {
        "id": "15gzZsFB0C4Z"
      },
      "source": [
        "# **Final Model** "
      ]
    },
    {
      "cell_type": "markdown",
      "metadata": {
        "id": "lX8Gzcquc6Z0"
      },
      "source": [
        "### Set up best-functioning models for TF-IDF and Word2vec\n",
        "<br> (Initial use of TFIDF alone oversimplified)"
      ]
    },
    {
      "cell_type": "code",
      "metadata": {
        "colab": {
          "base_uri": "https://localhost:8080/"
        },
        "id": "FOHOsUD6wlfG",
        "outputId": "fdbe597b-4fa2-4621-ae3a-26f44400786e"
      },
      "source": [
        "clf_xgb_tfidf = xgb.XGBClassifier(random_state=rand_state)\n",
        "clf_xgb_tfidf.fit(X_train_tfidf, y_train_tfidf)\n",
        "y_hat = clf_xgb_final.predict(X_test_tfidf)\n",
        "print(round(accuracy_score(y_test, y_hat)*100,3), round(f1_score(y_test, y_hat, average='macro')*100,3))"
      ],
      "execution_count": 388,
      "outputs": [
        {
          "output_type": "stream",
          "text": [
            "63.218 60.154\n"
          ],
          "name": "stdout"
        }
      ]
    },
    {
      "cell_type": "code",
      "metadata": {
        "colab": {
          "base_uri": "https://localhost:8080/"
        },
        "id": "bzmntnnQZeKe",
        "outputId": "f85e9bef-03d0-4e5f-b2ef-ae9aeb62825d"
      },
      "source": [
        "clf_xgb_w2v = xgb.XGBClassifier(random_state=rand_state)\n",
        "clf_xgb_w2v.fit(X_train_w2v, y_train_w2v)\n",
        "y_hat2 = clf_xgb_w2v.predict(testDataVecs)\n",
        "print(round(accuracy_score(y_test, y_hat2)*100,3), round(f1_score(y_test, y_hat2, average='macro')*100,3))"
      ],
      "execution_count": 396,
      "outputs": [
        {
          "output_type": "stream",
          "text": [
            "55.172 54.681\n"
          ],
          "name": "stdout"
        }
      ]
    },
    {
      "cell_type": "code",
      "metadata": {
        "id": "bUQ-Xx780iOC"
      },
      "source": [
        "def preprocess_tfidf(text):\n",
        "  text1 = tokenize_(text)\n",
        "  text2 = stopped_(text1)\n",
        "  text3 = lemma_(text2)\n",
        "  text4 = [' '.join(text3)]\n",
        "  text5 = Tfidf_vect.transform(text4)\n",
        "  return(text5)"
      ],
      "execution_count": 399,
      "outputs": []
    },
    {
      "cell_type": "code",
      "metadata": {
        "id": "y7CK1opLbZuW"
      },
      "source": [
        "def preprocess_w2v(text):\n",
        "  text1 = tokenize_(text)\n",
        "  text2 = stopped_(text1)\n",
        "  text3 = lemma_(text2)\n",
        "  text4 = [' '.join(text3)]\n",
        "  text5 = getAvgFeatureVecs(text4, model, num_features)\n",
        "  return(text5)"
      ],
      "execution_count": 400,
      "outputs": []
    },
    {
      "cell_type": "markdown",
      "metadata": {
        "id": "psTUQinx0WdG"
      },
      "source": [
        "### **Input text sample to be predicted:**"
      ]
    },
    {
      "cell_type": "code",
      "metadata": {
        "colab": {
          "base_uri": "https://localhost:8080/"
        },
        "id": "Y0wjKsbDonHQ",
        "outputId": "d967b806-6c68-40ae-a184-9816057865e4"
      },
      "source": [
        "text_sample = (input(\"Paste the text of the student's work here:\"))"
      ],
      "execution_count": 417,
      "outputs": [
        {
          "output_type": "stream",
          "text": [
            "Paste the text of the student's work here:I love my mommy\n"
          ],
          "name": "stdout"
        }
      ]
    },
    {
      "cell_type": "code",
      "metadata": {
        "colab": {
          "base_uri": "https://localhost:8080/"
        },
        "id": "vUdlB9uLHvDv",
        "outputId": "27b81d55-e47c-4f10-e184-fbbeaaa12284"
      },
      "source": [
        "predict_me_tfidf = preprocess_tfidf(text_sample)\n",
        "predict_me_w2v = preprocess_w2v(text_sample)"
      ],
      "execution_count": 418,
      "outputs": [
        {
          "output_type": "stream",
          "text": [
            "Review 0 of 1\n"
          ],
          "name": "stdout"
        }
      ]
    },
    {
      "cell_type": "code",
      "metadata": {
        "colab": {
          "base_uri": "https://localhost:8080/"
        },
        "id": "exdAv_H1wBrs",
        "outputId": "f5f10aeb-5856-4f75-d3f4-a53880ceb855"
      },
      "source": [
        "print('Predicted writing level using TF-IDF weights:',Encoder.inverse_transform(clf_xgb_tfidf.predict(predict_me_tfidf)))\n",
        "print('Predicted writing level using Word2vec Vectors:',Encoder.inverse_transform(clf_xgb_w2v.predict(predict_me_w2v)))"
      ],
      "execution_count": 419,
      "outputs": [
        {
          "output_type": "stream",
          "text": [
            "Predicted writing level using TF-IDF weights: ['0-2']\n",
            "Predicted writing level using Word2vec Vectors: ['9-12']\n"
          ],
          "name": "stdout"
        }
      ]
    },
    {
      "cell_type": "code",
      "metadata": {
        "id": "nZ1BY5kvxHkn"
      },
      "source": [
        ""
      ],
      "execution_count": null,
      "outputs": []
    }
  ]
}