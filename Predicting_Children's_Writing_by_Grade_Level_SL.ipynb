{
  "nbformat": 4,
  "nbformat_minor": 0,
  "metadata": {
    "accelerator": "GPU",
    "colab": {
      "name": "Predicting_Children's_Writing_by_Grade_Level - SL.ipynb",
      "provenance": [],
      "collapsed_sections": [
        "_rMmL_vm37wU",
        "0JqK-IHv37wU"
      ],
      "include_colab_link": true
    },
    "kernelspec": {
      "display_name": "Python 3",
      "language": "python",
      "name": "python3"
    },
    "language_info": {
      "codemirror_mode": {
        "name": "ipython",
        "version": 3
      },
      "file_extension": ".py",
      "mimetype": "text/x-python",
      "name": "python",
      "nbconvert_exporter": "python",
      "pygments_lexer": "ipython3",
      "version": "3.6.9"
    }
  },
  "cells": [
    {
      "cell_type": "markdown",
      "metadata": {
        "id": "view-in-github",
        "colab_type": "text"
      },
      "source": [
        "<a href=\"https://colab.research.google.com/github/jnels13/Screening-Childrens-Writing-Level-With-NLP/blob/main/Predicting_Children's_Writing_by_Grade_Level_SL.ipynb\" target=\"_parent\"><img src=\"https://colab.research.google.com/assets/colab-badge.svg\" alt=\"Open In Colab\"/></a>"
      ]
    },
    {
      "cell_type": "markdown",
      "metadata": {
        "id": "BX-Ny2ID-DkY"
      },
      "source": [
        "# **Predicting Children's Grade-Group Writing Level**"
      ]
    },
    {
      "cell_type": "markdown",
      "metadata": {
        "id": "6iAuDEH6mk3C"
      },
      "source": [
        "### Import Libraries"
      ]
    },
    {
      "cell_type": "code",
      "metadata": {
        "colab": {
          "base_uri": "https://localhost:8080/"
        },
        "id": "3fIjK0Rs-DkZ",
        "outputId": "ea152732-4688-4532-ecb6-c3f1a66afd81"
      },
      "source": [
        "import pandas as pd\n",
        "import numpy as np\n",
        "import nltk\n",
        "nltk.download('stopwords')\n",
        "nltk.download('wordnet')\n",
        "nltk.download('punkt')\n",
        "from nltk.corpus import stopwords\n",
        "from nltk import word_tokenize\n",
        "from nltk.stem.wordnet import WordNetLemmatizer\n",
        "\n",
        "import string\n",
        "import io\n",
        "import matplotlib.pyplot as plt\n",
        "%matplotlib inline\n",
        "import seaborn as sns\n",
        "\n",
        "pd.set_option('display.max_rows', 100)\n",
        "pd.set_option('display.max_columns', 100)\n",
        "pd.set_option('display.width', 100)\n",
        "import six\n",
        "from imblearn.over_sampling import SMOTE \n",
        "from sklearn.model_selection import train_test_split\n",
        "from keras.preprocessing.text import Tokenizer\n",
        "from sklearn.preprocessing import LabelEncoder\n",
        "from sklearn.dummy import DummyClassifier\n",
        "from sklearn.ensemble import RandomForestClassifier\n",
        "from sklearn.feature_extraction.text import TfidfVectorizer\n",
        "from sklearn import model_selection, naive_bayes, svm\n",
        "from sklearn.model_selection import GridSearchCV \n",
        "from sklearn.svm import SVC\n",
        "from sklearn.metrics import accuracy_score, f1_score\n",
        "import xgboost as xgb\n",
        "import gensim\n",
        "\n",
        "import warnings\n",
        "warnings.filterwarnings(\"ignore\")\n",
        "import pickle\n",
        "\n",
        "rand_state = 42"
      ],
      "execution_count": 11,
      "outputs": [
        {
          "output_type": "stream",
          "text": [
            "[nltk_data] Downloading package stopwords to /root/nltk_data...\n",
            "[nltk_data]   Package stopwords is already up-to-date!\n",
            "[nltk_data] Downloading package wordnet to /root/nltk_data...\n",
            "[nltk_data]   Package wordnet is already up-to-date!\n",
            "[nltk_data] Downloading package punkt to /root/nltk_data...\n",
            "[nltk_data]   Package punkt is already up-to-date!\n"
          ],
          "name": "stdout"
        }
      ]
    },
    {
      "cell_type": "markdown",
      "metadata": {
        "id": "zAUlUUuhW0yP"
      },
      "source": [
        "### Import Dataset"
      ]
    },
    {
      "cell_type": "code",
      "metadata": {
        "colab": {
          "base_uri": "https://localhost:8080/"
        },
        "id": "P9FG7GJNippJ",
        "outputId": "e4e66929-e902-42db-f7c8-ec4cd6dc5ac6"
      },
      "source": [
        "local_or_not = str(input(\"\"\"Running on 'colab' or 'local'?\"\"\"))"
      ],
      "execution_count": 12,
      "outputs": [
        {
          "output_type": "stream",
          "text": [
            "Running on 'colab' or 'local'?colab\n"
          ],
          "name": "stdout"
        }
      ]
    },
    {
      "cell_type": "code",
      "metadata": {
        "colab": {
          "resources": {
            "http://localhost:8080/nbextensions/google.colab/files.js": {
              "data": "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",
              "ok": true,
              "headers": [
                [
                  "content-type",
                  "application/javascript"
                ]
              ],
              "status": 200,
              "status_text": ""
            }
          },
          "base_uri": "https://localhost:8080/",
          "height": 89
        },
        "id": "WjSg0WF05ujY",
        "outputId": "9b8bd988-ae25-4f02-b417-ff2fcbbb9b84"
      },
      "source": [
        "if local_or_not == 'colab':\n",
        "    from google.colab import files\n",
        "    uploaded = files.upload()\n",
        "    file_name = list(uploaded.keys())[0] \n",
        "    print(\"Confirmed that\",file_name,\"was uploaded.\")"
      ],
      "execution_count": 13,
      "outputs": [
        {
          "output_type": "display_data",
          "data": {
            "text/html": [
              "\n",
              "     <input type=\"file\" id=\"files-bf14945e-8dd8-4409-9fab-470440ecd1d1\" name=\"files[]\" multiple disabled\n",
              "        style=\"border:none\" />\n",
              "     <output id=\"result-bf14945e-8dd8-4409-9fab-470440ecd1d1\">\n",
              "      Upload widget is only available when the cell has been executed in the\n",
              "      current browser session. Please rerun this cell to enable.\n",
              "      </output>\n",
              "      <script src=\"/nbextensions/google.colab/files.js\"></script> "
            ],
            "text/plain": [
              "<IPython.core.display.HTML object>"
            ]
          },
          "metadata": {
            "tags": []
          }
        },
        {
          "output_type": "stream",
          "text": [
            "Saving Combined.csv to Combined.csv\n",
            "Confirmed that Combined.csv was uploaded.\n"
          ],
          "name": "stdout"
        }
      ]
    },
    {
      "cell_type": "code",
      "metadata": {
        "id": "r5D7RViK-Dkc"
      },
      "source": [
        "if local_or_not == 'colab':\n",
        "    data = pd.read_csv(io.BytesIO(uploaded[file_name]),\n",
        "                       skipinitialspace=True,\n",
        "                       sep=',', \n",
        "                       quotechar='\"', \n",
        "                       escapechar='\\\\',\n",
        "                       error_bad_lines=False, \n",
        "                       names=['Grade', 'Text'])\n",
        "elif local_or_not == 'local':\n",
        "    data = pd.read_csv(\"writingcsv2_combined.csv\",\n",
        "                       skipinitialspace=True,\n",
        "                       sep=',', \n",
        "                       quotechar='\"', \n",
        "                       escapechar='\\\\',\n",
        "                       error_bad_lines=False, \n",
        "                       names=['Grade', 'Text'])\n",
        "else:\n",
        "    print('You need to re-start the previous cells')"
      ],
      "execution_count": 14,
      "outputs": []
    },
    {
      "cell_type": "markdown",
      "metadata": {
        "id": "Jd359QZG-Dkb"
      },
      "source": [
        "## Categorize Text Samples and Labels"
      ]
    },
    {
      "cell_type": "code",
      "metadata": {
        "colab": {
          "base_uri": "https://localhost:8080/"
        },
        "id": "bRaENfta37wS",
        "outputId": "2d7c9df7-b3ff-4054-d7a0-0ec771ae26b1"
      },
      "source": [
        "#Number of Texts\n",
        "len(data.Grade)"
      ],
      "execution_count": 15,
      "outputs": [
        {
          "output_type": "execute_result",
          "data": {
            "text/plain": [
              "289"
            ]
          },
          "metadata": {
            "tags": []
          },
          "execution_count": 15
        }
      ]
    },
    {
      "cell_type": "code",
      "metadata": {
        "colab": {
          "base_uri": "https://localhost:8080/"
        },
        "id": "otC7qdXf-Dke",
        "outputId": "a0ab6fc8-dea8-4735-f66f-27cfb0813f1b"
      },
      "source": [
        "#Review counts per grade level\n",
        "#Some texts were attributed to multiple grade levels, and thus were only assigned the lowest (for high school, it would be grade 9)\n",
        "\n",
        "data.Grade.value_counts()"
      ],
      "execution_count": 16,
      "outputs": [
        {
          "output_type": "execute_result",
          "data": {
            "text/plain": [
              "6     47\n",
              "9     44\n",
              "2     37\n",
              "4     36\n",
              "3     34\n",
              "1     30\n",
              "5     18\n",
              "0     18\n",
              "8      8\n",
              "7      8\n",
              "11     4\n",
              "12     3\n",
              "10     2\n",
              "Name: Grade, dtype: int64"
            ]
          },
          "metadata": {
            "tags": []
          },
          "execution_count": 16
        }
      ]
    },
    {
      "cell_type": "code",
      "metadata": {
        "id": "XjkMr7fQ-Dkg"
      },
      "source": [
        "#Categorize text samples into broader grade-groups due to limited corpus size\n",
        "\n",
        "data.loc[(data['Grade'] >= 0) & (data['Grade'] <= 2), 'Category'] = '0-2'\n",
        "data.loc[(data['Grade'] >= 3) & (data['Grade'] <= 4), 'Category'] = '3-4'\n",
        "data.loc[(data['Grade'] >= 5) & (data['Grade'] <= 8), 'Category'] = '5-8'\n",
        "data.loc[(data['Grade'] >= 9) & (data['Grade'] <= 12), 'Category'] = '9-12'"
      ],
      "execution_count": 17,
      "outputs": []
    },
    {
      "cell_type": "code",
      "metadata": {
        "colab": {
          "base_uri": "https://localhost:8080/"
        },
        "id": "0paIwBpf-Dki",
        "outputId": "4add387f-dec5-417c-8612-5d8a287aedce"
      },
      "source": [
        "#Review distribution of texts between different grade-groups\n",
        "data.Category.value_counts()"
      ],
      "execution_count": 18,
      "outputs": [
        {
          "output_type": "execute_result",
          "data": {
            "text/plain": [
              "0-2     85\n",
              "5-8     81\n",
              "3-4     70\n",
              "9-12    53\n",
              "Name: Category, dtype: int64"
            ]
          },
          "metadata": {
            "tags": []
          },
          "execution_count": 18
        }
      ]
    },
    {
      "cell_type": "code",
      "metadata": {
        "colab": {
          "base_uri": "https://localhost:8080/",
          "height": 295
        },
        "id": "V0-EMzBV37wS",
        "outputId": "373351a7-3a7d-4a71-9c89-af30fd044c55"
      },
      "source": [
        "#Visualize potential class imbalance\n",
        "imbalance=data.Category.value_counts()\n",
        "sns.barplot([0,1,2,3], imbalance)\n",
        "plt.xticks([0,1,2,3],['0-2', '3-5', '6-8', '9-12'])\n",
        "plt.xlabel('Grade Groups (annotated with % pro rata share)')\n",
        "plt.ylabel('n texts')\n",
        "plt.title('Class Imbalance')\n",
        "tot=len(data.Category)\n",
        "for i in range(4):\n",
        "    plt.annotate(round(imbalance[i]/tot*(100),2),xy=(i-.17,5), color='white')\n",
        "plt.show()"
      ],
      "execution_count": 19,
      "outputs": [
        {
          "output_type": "display_data",
          "data": {
            "image/png": "[encoded data removed]",
            "text/plain": [
              "<Figure size 432x288 with 1 Axes>"
            ]
          },
          "metadata": {
            "tags": [],
            "needs_background": "light"
          }
        }
      ]
    },
    {
      "cell_type": "code",
      "metadata": {
        "id": "2C0CUN5N-Dkk"
      },
      "source": [
        "data = data.drop(['Grade'], axis=1)"
      ],
      "execution_count": 20,
      "outputs": []
    },
    {
      "cell_type": "markdown",
      "metadata": {
        "id": "cK-G09ws-Dkm"
      },
      "source": [
        "## Data Exploration & Preprocessing"
      ]
    },
    {
      "cell_type": "code",
      "metadata": {
        "colab": {
          "base_uri": "https://localhost:8080/"
        },
        "id": "EENHxvxXMNwF",
        "outputId": "0bd13ef1-cc00-4257-e9ab-c3a8847d4d1a"
      },
      "source": [
        "data.Text.head()"
      ],
      "execution_count": 21,
      "outputs": [
        {
          "output_type": "execute_result",
          "data": {
            "text/plain": [
              "0    How Much I Know About Space I had just gone to...\n",
              "1    My Favorite Pet My cat is fluffy. His name is ...\n",
              "2    Sweet Spring Spring is sweet because we can go...\n",
              "3    A Happy Day One day baby Josh came home. He wa...\n",
              "4    My Trip to Mexico One time I went to Mexico. I...\n",
              "Name: Text, dtype: object"
            ]
          },
          "metadata": {
            "tags": []
          },
          "execution_count": 21
        }
      ]
    },
    {
      "cell_type": "code",
      "metadata": {
        "id": "kYJNHUqz-Dkn"
      },
      "source": [
        "def tokenize_ (text):\n",
        "    return word_tokenize(text)"
      ],
      "execution_count": 22,
      "outputs": []
    },
    {
      "cell_type": "code",
      "metadata": {
        "id": "sGovP6jP-Dkr"
      },
      "source": [
        "def stopped_ (data):\n",
        "    stopwords_list = stopwords.words('english') #removing stopwords\n",
        "    stopwords_list += list(string.punctuation)  #removing punctuation\n",
        "    data2 = [w.lower() for w in data]\n",
        "    return([w for w in data2 if (w not in stopwords_list)])"
      ],
      "execution_count": 23,
      "outputs": []
    },
    {
      "cell_type": "code",
      "metadata": {
        "id": "nueE8QRZ37wT"
      },
      "source": [
        "def lemma_(data):\n",
        "    lemmatizer = WordNetLemmatizer()\n",
        "    data = [lemmatizer.lemmatize(w) for w in data]     \n",
        "    return(data)"
      ],
      "execution_count": 24,
      "outputs": []
    },
    {
      "cell_type": "code",
      "metadata": {
        "id": "weZRKkqu-Dkq"
      },
      "source": [
        "data['Text_tokenized'] = data.Text.apply(tokenize_)"
      ],
      "execution_count": 25,
      "outputs": []
    },
    {
      "cell_type": "code",
      "metadata": {
        "id": "mERIyX2V-Dkv"
      },
      "source": [
        "data['Text_lemmatized'] = data.Text_tokenized.apply(stopped_)"
      ],
      "execution_count": 26,
      "outputs": []
    },
    {
      "cell_type": "code",
      "metadata": {
        "id": "aD1VOvFL-Dkx"
      },
      "source": [
        "data.Text_lemmatized = data.Text_lemmatized.apply(lemma_)"
      ],
      "execution_count": 27,
      "outputs": []
    },
    {
      "cell_type": "code",
      "metadata": {
        "colab": {
          "base_uri": "https://localhost:8080/",
          "height": 204
        },
        "id": "KyGtr2ZdVxqB",
        "outputId": "1d54d287-bee5-4548-a62a-574d8fca0f0a"
      },
      "source": [
        "data.head()"
      ],
      "execution_count": 28,
      "outputs": [
        {
          "output_type": "execute_result",
          "data": {
            "text/html": [
              "<div>\n",
              "<style scoped>\n",
              "    .dataframe tbody tr th:only-of-type {\n",
              "        vertical-align: middle;\n",
              "    }\n",
              "\n",
              "    .dataframe tbody tr th {\n",
              "        vertical-align: top;\n",
              "    }\n",
              "\n",
              "    .dataframe thead th {\n",
              "        text-align: right;\n",
              "    }\n",
              "</style>\n",
              "<table border=\"1\" class=\"dataframe\">\n",
              "  <thead>\n",
              "    <tr style=\"text-align: right;\">\n",
              "      <th></th>\n",
              "      <th>Text</th>\n",
              "      <th>Category</th>\n",
              "      <th>Text_tokenized</th>\n",
              "      <th>Text_lemmatized</th>\n",
              "    </tr>\n",
              "  </thead>\n",
              "  <tbody>\n",
              "    <tr>\n",
              "      <th>0</th>\n",
              "      <td>How Much I Know About Space I had just gone to...</td>\n",
              "      <td>0-2</td>\n",
              "      <td>[How, Much, I, Know, About, Space, I, had, jus...</td>\n",
              "      <td>[much, know, space, gone, chobot, space, scien...</td>\n",
              "    </tr>\n",
              "    <tr>\n",
              "      <th>1</th>\n",
              "      <td>My Favorite Pet My cat is fluffy. His name is ...</td>\n",
              "      <td>0-2</td>\n",
              "      <td>[My, Favorite, Pet, My, cat, is, fluffy, ., Hi...</td>\n",
              "      <td>[favorite, pet, cat, fluffy, name, buzz, favor...</td>\n",
              "    </tr>\n",
              "    <tr>\n",
              "      <th>2</th>\n",
              "      <td>Sweet Spring Spring is sweet because we can go...</td>\n",
              "      <td>0-2</td>\n",
              "      <td>[Sweet, Spring, Spring, is, sweet, because, we...</td>\n",
              "      <td>[sweet, spring, spring, sweet, go, boat, ridin...</td>\n",
              "    </tr>\n",
              "    <tr>\n",
              "      <th>3</th>\n",
              "      <td>A Happy Day One day baby Josh came home. He wa...</td>\n",
              "      <td>0-2</td>\n",
              "      <td>[A, Happy, Day, One, day, baby, Josh, came, ho...</td>\n",
              "      <td>[happy, day, one, day, baby, josh, came, home,...</td>\n",
              "    </tr>\n",
              "    <tr>\n",
              "      <th>4</th>\n",
              "      <td>My Trip to Mexico One time I went to Mexico. I...</td>\n",
              "      <td>0-2</td>\n",
              "      <td>[My, Trip, to, Mexico, One, time, I, went, to,...</td>\n",
              "      <td>[trip, mexico, one, time, went, mexico, blast,...</td>\n",
              "    </tr>\n",
              "  </tbody>\n",
              "</table>\n",
              "</div>"
            ],
            "text/plain": [
              "                                                Text Category  \\\n",
              "0  How Much I Know About Space I had just gone to...      0-2   \n",
              "1  My Favorite Pet My cat is fluffy. His name is ...      0-2   \n",
              "2  Sweet Spring Spring is sweet because we can go...      0-2   \n",
              "3  A Happy Day One day baby Josh came home. He wa...      0-2   \n",
              "4  My Trip to Mexico One time I went to Mexico. I...      0-2   \n",
              "\n",
              "                                      Text_tokenized  \\\n",
              "0  [How, Much, I, Know, About, Space, I, had, jus...   \n",
              "1  [My, Favorite, Pet, My, cat, is, fluffy, ., Hi...   \n",
              "2  [Sweet, Spring, Spring, is, sweet, because, we...   \n",
              "3  [A, Happy, Day, One, day, baby, Josh, came, ho...   \n",
              "4  [My, Trip, to, Mexico, One, time, I, went, to,...   \n",
              "\n",
              "                                     Text_lemmatized  \n",
              "0  [much, know, space, gone, chobot, space, scien...  \n",
              "1  [favorite, pet, cat, fluffy, name, buzz, favor...  \n",
              "2  [sweet, spring, spring, sweet, go, boat, ridin...  \n",
              "3  [happy, day, one, day, baby, josh, came, home,...  \n",
              "4  [trip, mexico, one, time, went, mexico, blast,...  "
            ]
          },
          "metadata": {
            "tags": []
          },
          "execution_count": 28
        }
      ]
    },
    {
      "cell_type": "markdown",
      "metadata": {
        "id": "gW2Ao0tQ-Dkz"
      },
      "source": [
        "#### Column \"Text_lemmatized\" contains the lemmatized, tokenized texts with stop-words removed and contractions expanded. \n",
        "\n",
        "### **Visualization of Corpus**"
      ]
    },
    {
      "cell_type": "code",
      "metadata": {
        "colab": {
          "base_uri": "https://localhost:8080/"
        },
        "id": "UQJ_hd_F-Dkz",
        "outputId": "a8065096-b002-4402-fbaf-67e45ce1945d"
      },
      "source": [
        "data.info()"
      ],
      "execution_count": 29,
      "outputs": [
        {
          "output_type": "stream",
          "text": [
            "<class 'pandas.core.frame.DataFrame'>\n",
            "RangeIndex: 289 entries, 0 to 288\n",
            "Data columns (total 4 columns):\n",
            " #   Column           Non-Null Count  Dtype \n",
            "---  ------           --------------  ----- \n",
            " 0   Text             289 non-null    object\n",
            " 1   Category         289 non-null    object\n",
            " 2   Text_tokenized   289 non-null    object\n",
            " 3   Text_lemmatized  289 non-null    object\n",
            "dtypes: object(4)\n",
            "memory usage: 9.2+ KB\n"
          ],
          "name": "stdout"
        }
      ]
    },
    {
      "cell_type": "code",
      "metadata": {
        "id": "Pu0lPri8-Dk1"
      },
      "source": [
        "# Create a column containing the number of words per each ORIGINAL text \n",
        "data['num_words'] = data['Text'].str.len()  "
      ],
      "execution_count": 30,
      "outputs": []
    },
    {
      "cell_type": "code",
      "metadata": {
        "id": "7HfiYwkn-Dk5"
      },
      "source": [
        "# Create a column containing average word length for each ORIGINAL text \n",
        "temp_token_list = list(data['Text_tokenized'])\n",
        "new_token_list = []\n",
        "for item in temp_token_list:\n",
        "    new_token_list.append(np.average([len(w) for w in item]))\n",
        "data['avg_orig_word_len'] = new_token_list"
      ],
      "execution_count": 31,
      "outputs": []
    },
    {
      "cell_type": "code",
      "metadata": {
        "id": "gkGiWe8h37wT"
      },
      "source": [
        "# Create a column containing average word length for each LEMMATIZED text \n",
        "temp_lemma_list = list(data['Text_lemmatized'])\n",
        "new_lemma_list = []\n",
        "for item in temp_lemma_list:\n",
        "    new_lemma_list.append(np.average([len(w) for w in item]))\n",
        "data['avg_lem_word_len'] = new_lemma_list"
      ],
      "execution_count": 32,
      "outputs": []
    },
    {
      "cell_type": "code",
      "metadata": {
        "colab": {
          "base_uri": "https://localhost:8080/",
          "height": 289
        },
        "id": "Kicip5sq-Dk7",
        "outputId": "ce74d8d0-5a90-4128-b5c6-1316963c18e3"
      },
      "source": [
        "# Review new columns\n",
        "data.head(5)"
      ],
      "execution_count": 33,
      "outputs": [
        {
          "output_type": "execute_result",
          "data": {
            "text/html": [
              "<div>\n",
              "<style scoped>\n",
              "    .dataframe tbody tr th:only-of-type {\n",
              "        vertical-align: middle;\n",
              "    }\n",
              "\n",
              "    .dataframe tbody tr th {\n",
              "        vertical-align: top;\n",
              "    }\n",
              "\n",
              "    .dataframe thead th {\n",
              "        text-align: right;\n",
              "    }\n",
              "</style>\n",
              "<table border=\"1\" class=\"dataframe\">\n",
              "  <thead>\n",
              "    <tr style=\"text-align: right;\">\n",
              "      <th></th>\n",
              "      <th>Text</th>\n",
              "      <th>Category</th>\n",
              "      <th>Text_tokenized</th>\n",
              "      <th>Text_lemmatized</th>\n",
              "      <th>num_words</th>\n",
              "      <th>avg_orig_word_len</th>\n",
              "      <th>avg_lem_word_len</th>\n",
              "    </tr>\n",
              "  </thead>\n",
              "  <tbody>\n",
              "    <tr>\n",
              "      <th>0</th>\n",
              "      <td>How Much I Know About Space I had just gone to...</td>\n",
              "      <td>0-2</td>\n",
              "      <td>[How, Much, I, Know, About, Space, I, had, jus...</td>\n",
              "      <td>[much, know, space, gone, chobot, space, scien...</td>\n",
              "      <td>364</td>\n",
              "      <td>3.675000</td>\n",
              "      <td>5.100000</td>\n",
              "    </tr>\n",
              "    <tr>\n",
              "      <th>1</th>\n",
              "      <td>My Favorite Pet My cat is fluffy. His name is ...</td>\n",
              "      <td>0-2</td>\n",
              "      <td>[My, Favorite, Pet, My, cat, is, fluffy, ., Hi...</td>\n",
              "      <td>[favorite, pet, cat, fluffy, name, buzz, favor...</td>\n",
              "      <td>209</td>\n",
              "      <td>3.037037</td>\n",
              "      <td>4.571429</td>\n",
              "    </tr>\n",
              "    <tr>\n",
              "      <th>2</th>\n",
              "      <td>Sweet Spring Spring is sweet because we can go...</td>\n",
              "      <td>0-2</td>\n",
              "      <td>[Sweet, Spring, Spring, is, sweet, because, we...</td>\n",
              "      <td>[sweet, spring, spring, sweet, go, boat, ridin...</td>\n",
              "      <td>255</td>\n",
              "      <td>3.383333</td>\n",
              "      <td>4.500000</td>\n",
              "    </tr>\n",
              "    <tr>\n",
              "      <th>3</th>\n",
              "      <td>A Happy Day One day baby Josh came home. He wa...</td>\n",
              "      <td>0-2</td>\n",
              "      <td>[A, Happy, Day, One, day, baby, Josh, came, ho...</td>\n",
              "      <td>[happy, day, one, day, baby, josh, came, home,...</td>\n",
              "      <td>130</td>\n",
              "      <td>3.121212</td>\n",
              "      <td>4.352941</td>\n",
              "    </tr>\n",
              "    <tr>\n",
              "      <th>4</th>\n",
              "      <td>My Trip to Mexico One time I went to Mexico. I...</td>\n",
              "      <td>0-2</td>\n",
              "      <td>[My, Trip, to, Mexico, One, time, I, went, to,...</td>\n",
              "      <td>[trip, mexico, one, time, went, mexico, blast,...</td>\n",
              "      <td>242</td>\n",
              "      <td>3.131148</td>\n",
              "      <td>5.037037</td>\n",
              "    </tr>\n",
              "  </tbody>\n",
              "</table>\n",
              "</div>"
            ],
            "text/plain": [
              "                                                Text Category  \\\n",
              "0  How Much I Know About Space I had just gone to...      0-2   \n",
              "1  My Favorite Pet My cat is fluffy. His name is ...      0-2   \n",
              "2  Sweet Spring Spring is sweet because we can go...      0-2   \n",
              "3  A Happy Day One day baby Josh came home. He wa...      0-2   \n",
              "4  My Trip to Mexico One time I went to Mexico. I...      0-2   \n",
              "\n",
              "                                      Text_tokenized  \\\n",
              "0  [How, Much, I, Know, About, Space, I, had, jus...   \n",
              "1  [My, Favorite, Pet, My, cat, is, fluffy, ., Hi...   \n",
              "2  [Sweet, Spring, Spring, is, sweet, because, we...   \n",
              "3  [A, Happy, Day, One, day, baby, Josh, came, ho...   \n",
              "4  [My, Trip, to, Mexico, One, time, I, went, to,...   \n",
              "\n",
              "                                     Text_lemmatized  num_words  avg_orig_word_len  \\\n",
              "0  [much, know, space, gone, chobot, space, scien...        364           3.675000   \n",
              "1  [favorite, pet, cat, fluffy, name, buzz, favor...        209           3.037037   \n",
              "2  [sweet, spring, spring, sweet, go, boat, ridin...        255           3.383333   \n",
              "3  [happy, day, one, day, baby, josh, came, home,...        130           3.121212   \n",
              "4  [trip, mexico, one, time, went, mexico, blast,...        242           3.131148   \n",
              "\n",
              "   avg_lem_word_len  \n",
              "0          5.100000  \n",
              "1          4.571429  \n",
              "2          4.500000  \n",
              "3          4.352941  \n",
              "4          5.037037  "
            ]
          },
          "metadata": {
            "tags": []
          },
          "execution_count": 33
        }
      ]
    },
    {
      "cell_type": "code",
      "metadata": {
        "colab": {
          "base_uri": "https://localhost:8080/"
        },
        "id": "H_-5H3Ib-Dk9",
        "scrolled": true,
        "outputId": "e13ab2e2-27e0-4a76-edd6-57033d508066"
      },
      "source": [
        "#Review descriptive statistics about the corpus before and after preprocessing\n",
        "print(data.groupby('Category').describe().reset_index().sort_values('Category', ascending=True))"
      ],
      "execution_count": 34,
      "outputs": [
        {
          "output_type": "stream",
          "text": [
            "  Category num_words                                                                      \\\n",
            "               count         mean          std    min      25%     50%      75%      max   \n",
            "0      0-2      85.0   406.200000   278.109982   25.0   187.00   364.0   600.00   1609.0   \n",
            "1      3-4      70.0  1131.971429   570.230997  115.0   726.75  1210.0  1520.75   2725.0   \n",
            "2      5-8      81.0  2784.740741  1618.645821  456.0  1852.00  2425.0  3388.00   9682.0   \n",
            "3     9-12      53.0  4328.584906  2452.785265  144.0  2788.00  3568.0  5571.00  11311.0   \n",
            "\n",
            "  avg_orig_word_len                                                                        \\\n",
            "              count      mean       std       min       25%       50%       75%       max   \n",
            "0              85.0  3.544055  0.376101  2.857143  3.275229  3.529915  3.782609  4.625000   \n",
            "1              70.0  3.632297  0.288336  2.916667  3.461047  3.639188  3.777135  4.704403   \n",
            "2              81.0  3.875996  0.322997  3.301587  3.639581  3.823370  4.066176  4.617754   \n",
            "3              53.0  3.966335  0.367336  3.166667  3.727586  3.978224  4.127404  4.705219   \n",
            "\n",
            "  avg_lem_word_len                                                                        \n",
            "             count      mean       std       min       25%       50%       75%       max  \n",
            "0             85.0  4.846480  0.565194  3.666667  4.500000  4.800000  5.190909  7.297297  \n",
            "1             70.0  5.052824  0.464594  3.428571  4.815476  5.073251  5.250425  6.816456  \n",
            "2             81.0  5.502072  0.409799  4.800699  5.242188  5.428152  5.798883  6.404110  \n",
            "3             53.0  5.741112  0.487636  4.797235  5.470588  5.650000  6.097561  6.864662  \n"
          ],
          "name": "stdout"
        }
      ]
    },
    {
      "cell_type": "markdown",
      "metadata": {
        "id": "rwa6iGUKdpyr"
      },
      "source": [
        "When looking at the number of words per text, they follow a relatively predicatble pattern, with the min/max, mean, and standard deviation increasing rather significantly with grade-group.  The average length of words per grade-group level does not appear to correlate nearly as much, though; average word lengths are much closer (though they do trend up with grade-group), but standard deviation and word counts do not follow the trend. The visualizations below highlight these differences:"
      ]
    },
    {
      "cell_type": "code",
      "metadata": {
        "colab": {
          "base_uri": "https://localhost:8080/",
          "height": 533
        },
        "id": "iod4kOnU-DlA",
        "outputId": "7453ddc5-65f9-474d-a67d-c1466fdd1c4f"
      },
      "source": [
        "#Histogram of Number of Words per Text\n",
        "plt.figure(figsize=(12,8))\n",
        "plt.title('Histogram of Total Number of Words Per Each Original Text by Grade Category\\n (Before Stopword Removal and Lemmatizing)', size='x-large')\n",
        "for name, group in data.groupby('Category'):\n",
        "    sns.distplot(group['num_words'], label=name)\n",
        "plt.legend()\n",
        "plt.xlabel('Number of Words', size='large')\n",
        "plt.show()"
      ],
      "execution_count": 35,
      "outputs": [
        {
          "output_type": "display_data",
          "data": {
            "image/png": "[encoded data removed]",
            "text/plain": [
              "<Figure size 864x576 with 1 Axes>"
            ]
          },
          "metadata": {
            "tags": [],
            "needs_background": "light"
          }
        }
      ]
    },
    {
      "cell_type": "markdown",
      "metadata": {
        "id": "U3bmth8a-DlC"
      },
      "source": [
        "The text lengths for K-2 grade are much shorter than the higher grades. Lengths of middle and high school texts are much more comparable."
      ]
    },
    {
      "cell_type": "code",
      "metadata": {
        "colab": {
          "base_uri": "https://localhost:8080/",
          "height": 557
        },
        "id": "aQ8kkTwkcCAy",
        "outputId": "aad3465a-3030-4311-afdb-13abfa502084"
      },
      "source": [
        "#Visualize distribution of word lengths between original and preprocessed texts\n",
        "\n",
        "\n",
        "fig, ax = plt.subplots(1,2, figsize=(18, 8))\n",
        "ax0 = ax[0]\n",
        "ax1 = ax[1]\n",
        "for name, group in data.groupby('Category'):\n",
        "    sns.distplot(group['avg_orig_word_len'], label=name, ax=ax0)\n",
        "for name, group in data.groupby('Category'):\n",
        "    sns.distplot(group['avg_lem_word_len'], label=name, ax=ax1)\n",
        "ax0.set_xlabel('Original Texts', size='large')\n",
        "ax0.legend()\n",
        "ax1.set_xlabel('Preprocessed Texts', size='large')\n",
        "ax1.legend()\n",
        "fig.suptitle('Histogram of Average Word Length Per Each Original and Preprocessed Text', size='x-large')\n",
        "plt.show()\n",
        "\n",
        "    "
      ],
      "execution_count": 36,
      "outputs": [
        {
          "output_type": "display_data",
          "data": {
            "image/png": "[encoded data removed]",
            "text/plain": [
              "<Figure size 1296x576 with 2 Axes>"
            ]
          },
          "metadata": {
            "tags": [],
            "needs_background": "light"
          }
        }
      ]
    },
    {
      "cell_type": "markdown",
      "metadata": {
        "id": "KeUYgqlx-DlH"
      },
      "source": [
        "Overall, there is a LOT of overlap in the distributions between all of the grade-groups, with the most striking being between the upper two.  The distributions of word lengths are much higher in the stopped/lemmatized group (peaking between 4-5 for stopped/lemmatized texts, compared to about 3.5 for the original texts.  The distributions of the original texts are also much closer together, likely due to the inclusion of the stop words. "
      ]
    },
    {
      "cell_type": "markdown",
      "metadata": {
        "id": "jMEK09WdiWNq"
      },
      "source": [
        "# **Weight and Vectorize the Texts**"
      ]
    },
    {
      "cell_type": "code",
      "metadata": {
        "id": "qscDPLzS-DlI"
      },
      "source": [
        "X_train, X_test, y_train, y_test = train_test_split(\n",
        "    data['Text_lemmatized'],data['Category'],test_size=0.3, random_state=rand_state, stratify=data['Category'])"
      ],
      "execution_count": 37,
      "outputs": []
    },
    {
      "cell_type": "code",
      "metadata": {
        "id": "CjfwfHOl-DlK"
      },
      "source": [
        "# Y labels to use with all models\n",
        "Encoder = LabelEncoder()\n",
        "y_train = Encoder.fit_transform(y_train)\n",
        "y_test = Encoder.fit_transform(y_test)\n",
        "\n",
        "pickle_out = open(\"Encoder.pkl\", \"wb\") \n",
        "pickle.dump(Encoder, pickle_out) \n",
        "pickle_out.close()"
      ],
      "execution_count": 38,
      "outputs": []
    },
    {
      "cell_type": "markdown",
      "metadata": {
        "id": "SlhkMfY1-DlI"
      },
      "source": [
        "### **TD-IDF Weighting**"
      ]
    },
    {
      "cell_type": "code",
      "metadata": {
        "id": "ybxDIKkM-DlM"
      },
      "source": [
        "lemmas = data['Text_lemmatized'].apply(lambda x: ' '.join(x))\n",
        "lemma_Train_X = X_train.apply(lambda x: ' '.join(x))\n",
        "lemma_Test_X  = X_test.apply(lambda x: ' '.join(x))\n",
        "\n",
        "Tfidf_vect = TfidfVectorizer(max_features=5000)\n",
        "Tfidf_vect.fit(lemmas)\n",
        "\n",
        "# Pickle Tfidf_vect \n",
        "pickle_out = open(\"Tfidf_vect.pkl\", \"wb\") \n",
        "pickle.dump(Tfidf_vect, pickle_out) \n",
        "pickle_out.close()\n",
        "\n",
        "X_train_tfidf = Tfidf_vect.transform(lemma_Train_X)\n",
        "X_test_tfidf = Tfidf_vect.transform(lemma_Test_X)"
      ],
      "execution_count": 39,
      "outputs": []
    },
    {
      "cell_type": "code",
      "metadata": {
        "id": "1DXYtmsq37wU"
      },
      "source": [
        "#Use SMOTE to account for class imbalances\n",
        "\n",
        "sm = SMOTE(sampling_strategy='auto', k_neighbors=2, random_state=rand_state)\n",
        "X_train_tfidf,y_train_tfidf = sm.fit_resample(X_train_tfidf, y_train) "
      ],
      "execution_count": 40,
      "outputs": []
    },
    {
      "cell_type": "code",
      "metadata": {
        "colab": {
          "base_uri": "https://localhost:8080/"
        },
        "id": "58IeYyjZ37wU",
        "outputId": "64f0fff4-c63c-4e26-92d8-13c77e5ce4c7"
      },
      "source": [
        "pd.DataFrame(X_train_tfidf).shape"
      ],
      "execution_count": 41,
      "outputs": [
        {
          "output_type": "execute_result",
          "data": {
            "text/plain": [
              "(236, 1)"
            ]
          },
          "metadata": {
            "tags": []
          },
          "execution_count": 41
        }
      ]
    },
    {
      "cell_type": "markdown",
      "metadata": {
        "id": "a0z3KigImAAI"
      },
      "source": [
        "### **Word2vec Vectorization**"
      ]
    },
    {
      "cell_type": "code",
      "metadata": {
        "id": "2eNcVz87RKT-"
      },
      "source": [
        "num_features=300\n",
        "model = gensim.models.Word2Vec(data.Text_lemmatized, \n",
        "                               size=num_features, \n",
        "                               min_count=2, \n",
        "                               workers=4, \n",
        "                               seed=1, \n",
        "                               iter=50, window=5)"
      ],
      "execution_count": 42,
      "outputs": []
    },
    {
      "cell_type": "code",
      "metadata": {
        "colab": {
          "base_uri": "https://localhost:8080/"
        },
        "id": "cSbrtpwGRK9F",
        "outputId": "e025ef74-2ed9-4ac2-9d01-743d6deb23c9"
      },
      "source": [
        "model.wv.syn0.shape"
      ],
      "execution_count": 43,
      "outputs": [
        {
          "output_type": "execute_result",
          "data": {
            "text/plain": [
              "(4721, 300)"
            ]
          },
          "metadata": {
            "tags": []
          },
          "execution_count": 43
        }
      ]
    },
    {
      "cell_type": "code",
      "metadata": {
        "id": "Vowpusu3ippV"
      },
      "source": [
        "# Pickle model \n",
        "pickle_out = open(\"w2v_model.pkl\", \"wb\") \n",
        "pickle.dump(model, pickle_out) \n",
        "pickle_out.close()"
      ],
      "execution_count": 44,
      "outputs": []
    },
    {
      "cell_type": "code",
      "metadata": {
        "colab": {
          "base_uri": "https://localhost:8080/",
          "height": 35
        },
        "id": "6v63xaLwKnsN",
        "outputId": "22808d96-c985-4acf-8e8e-f12c2d6cbcd9"
      },
      "source": [
        "#Just for fun, to see if it's working\n",
        "model.wv.doesnt_match(\"red green bus\".split())"
      ],
      "execution_count": 45,
      "outputs": [
        {
          "output_type": "execute_result",
          "data": {
            "application/vnd.google.colaboratory.intrinsic+json": {
              "type": "string"
            },
            "text/plain": [
              "'bus'"
            ]
          },
          "metadata": {
            "tags": []
          },
          "execution_count": 45
        }
      ]
    },
    {
      "cell_type": "code",
      "metadata": {
        "id": "_8B7SOJ-Kgl7"
      },
      "source": [
        "# Function to average all word vectors in a paragraph (from https://www.kaggle.com/varun08/sentiment-analysis-using-word2vec)\n",
        "def featureVecMethod(words, model, num_features):\n",
        "    # Pre-initialising empty numpy array for speed\n",
        "    featureVec = np.zeros(num_features,dtype=\"float32\")\n",
        "    nwords = 0\n",
        "    \n",
        "    #Converting Index2Word which is a list to a set for better speed in the execution.\n",
        "    index2word_set = set(model.wv.index2word)\n",
        "    \n",
        "    for word in  words:\n",
        "        if word in index2word_set:\n",
        "            nwords = nwords + 1\n",
        "            featureVec = np.add(featureVec,model[word])\n",
        "    \n",
        "    # Dividing the result by number of words to get average\n",
        "    featureVec = np.divide(featureVec, nwords)\n",
        "    return featureVec"
      ],
      "execution_count": 46,
      "outputs": []
    },
    {
      "cell_type": "code",
      "metadata": {
        "id": "t6Sz491qKg_p"
      },
      "source": [
        "# Function for calculating the average feature vector (from https://www.kaggle.com/varun08/sentiment-analysis-using-word2vec)\n",
        "def getAvgFeatureVecs(reviews, model, num_features):\n",
        "    counter = 0\n",
        "    reviewFeatureVecs = np.zeros((len(reviews),num_features),dtype=\"float32\")\n",
        "    for review in reviews:\n",
        "        # Printing a status message every 1000th review\n",
        "        if counter%1000 == 0:\n",
        "            print(\"Review %d of %d\"%(counter,len(reviews)))\n",
        "            \n",
        "        reviewFeatureVecs[counter] = featureVecMethod(review, model, num_features)\n",
        "        counter = counter+1\n",
        "        \n",
        "    return reviewFeatureVecs"
      ],
      "execution_count": 47,
      "outputs": []
    },
    {
      "cell_type": "code",
      "metadata": {
        "colab": {
          "base_uri": "https://localhost:8080/"
        },
        "id": "QYtjB2ETKhG3",
        "outputId": "77210765-2fc7-4826-c1c1-b7c294ae58f5"
      },
      "source": [
        "trainDataVecs = getAvgFeatureVecs(X_train, model, num_features)\n",
        "testDataVecs =  getAvgFeatureVecs(X_test, model, num_features)"
      ],
      "execution_count": 48,
      "outputs": [
        {
          "output_type": "stream",
          "text": [
            "Review 0 of 202\n",
            "Review 0 of 87\n"
          ],
          "name": "stdout"
        }
      ]
    },
    {
      "cell_type": "code",
      "metadata": {
        "colab": {
          "base_uri": "https://localhost:8080/"
        },
        "id": "-_qubCpdKg1O",
        "outputId": "9273cbf2-9a36-4c6e-f308-18601c19bc33"
      },
      "source": [
        "trainDataVecs.shape, testDataVecs.shape"
      ],
      "execution_count": 49,
      "outputs": [
        {
          "output_type": "execute_result",
          "data": {
            "text/plain": [
              "((202, 300), (87, 300))"
            ]
          },
          "metadata": {
            "tags": []
          },
          "execution_count": 49
        }
      ]
    },
    {
      "cell_type": "code",
      "metadata": {
        "id": "CUWxUYO237wU"
      },
      "source": [
        "X_train_w2v,y_train_w2v = sm.fit_sample(trainDataVecs, y_train)  #WHAT IF I DON'T USE THE IMBALANCE CORRECTION???????????????????"
      ],
      "execution_count": 50,
      "outputs": []
    },
    {
      "cell_type": "markdown",
      "metadata": {
        "id": "UIl9Lsvb6rWu"
      },
      "source": [
        "# **BERT** as a Service "
      ]
    },
    {
      "cell_type": "code",
      "metadata": {
        "colab": {
          "base_uri": "https://localhost:8080/"
        },
        "id": "PcoQvLru6iGj",
        "outputId": "9b67e42c-36bb-4e0d-e77d-7443efd06817"
      },
      "source": [
        "%tensorflow_version 1.x\n",
        "\n",
        "!pip install bert-serving-client\n",
        "!pip install -U bert-serving-server[http]"
      ],
      "execution_count": 51,
      "outputs": [
        {
          "output_type": "stream",
          "text": [
            "Requirement already satisfied: bert-serving-client in /usr/local/lib/python3.6/dist-packages (1.10.0)\n",
            "Requirement already satisfied: numpy in /usr/local/lib/python3.6/dist-packages (from bert-serving-client) (1.19.5)\n",
            "Requirement already satisfied: pyzmq>=17.1.0 in /usr/local/lib/python3.6/dist-packages (from bert-serving-client) (22.0.2)\n",
            "Requirement already up-to-date: bert-serving-server[http] in /usr/local/lib/python3.6/dist-packages (1.10.0)\n",
            "Requirement already satisfied, skipping upgrade: termcolor>=1.1 in /usr/local/lib/python3.6/dist-packages (from bert-serving-server[http]) (1.1.0)\n",
            "Requirement already satisfied, skipping upgrade: GPUtil>=1.3.0 in /usr/local/lib/python3.6/dist-packages (from bert-serving-server[http]) (1.4.0)\n",
            "Requirement already satisfied, skipping upgrade: pyzmq>=17.1.0 in /usr/local/lib/python3.6/dist-packages (from bert-serving-server[http]) (22.0.2)\n",
            "Requirement already satisfied, skipping upgrade: six in /usr/local/lib/python3.6/dist-packages (from bert-serving-server[http]) (1.15.0)\n",
            "Requirement already satisfied, skipping upgrade: numpy in /usr/local/lib/python3.6/dist-packages (from bert-serving-server[http]) (1.19.5)\n",
            "Requirement already satisfied, skipping upgrade: flask-json; extra == \"http\" in /usr/local/lib/python3.6/dist-packages (from bert-serving-server[http]) (0.3.4)\n",
            "Requirement already satisfied, skipping upgrade: flask; extra == \"http\" in /usr/local/lib/python3.6/dist-packages (from bert-serving-server[http]) (1.1.2)\n",
            "Requirement already satisfied, skipping upgrade: flask-cors; extra == \"http\" in /usr/local/lib/python3.6/dist-packages (from bert-serving-server[http]) (3.0.10)\n",
            "Requirement already satisfied, skipping upgrade: bert-serving-client; extra == \"http\" in /usr/local/lib/python3.6/dist-packages (from bert-serving-server[http]) (1.10.0)\n",
            "Requirement already satisfied, skipping upgrade: flask-compress; extra == \"http\" in /usr/local/lib/python3.6/dist-packages (from bert-serving-server[http]) (1.8.0)\n",
            "Requirement already satisfied, skipping upgrade: click>=5.1 in /usr/local/lib/python3.6/dist-packages (from flask; extra == \"http\"->bert-serving-server[http]) (7.1.2)\n",
            "Requirement already satisfied, skipping upgrade: Werkzeug>=0.15 in /usr/local/lib/python3.6/dist-packages (from flask; extra == \"http\"->bert-serving-server[http]) (1.0.1)\n",
            "Requirement already satisfied, skipping upgrade: Jinja2>=2.10.1 in /usr/local/lib/python3.6/dist-packages (from flask; extra == \"http\"->bert-serving-server[http]) (2.11.2)\n",
            "Requirement already satisfied, skipping upgrade: itsdangerous>=0.24 in /usr/local/lib/python3.6/dist-packages (from flask; extra == \"http\"->bert-serving-server[http]) (1.1.0)\n",
            "Requirement already satisfied, skipping upgrade: brotli in /usr/local/lib/python3.6/dist-packages (from flask-compress; extra == \"http\"->bert-serving-server[http]) (1.0.9)\n",
            "Requirement already satisfied, skipping upgrade: MarkupSafe>=0.23 in /usr/local/lib/python3.6/dist-packages (from Jinja2>=2.10.1->flask; extra == \"http\"->bert-serving-server[http]) (1.1.1)\n"
          ],
          "name": "stdout"
        }
      ]
    },
    {
      "cell_type": "code",
      "metadata": {
        "colab": {
          "base_uri": "https://localhost:8080/"
        },
        "id": "U3ubsEzEBQn3",
        "outputId": "8e8c5254-18b5-4347-de44-2e725813d1fb"
      },
      "source": [
        "!wget https://storage.googleapis.com/bert_models/2018_10_18/uncased_L-12_H-768_A-12.zip\n",
        "!unzip uncased_L-12_H-768_A-12.zip\n",
        "!nohup bert-serving-start -model_dir=./uncased_L-12_H-768_A-12 > out.file 2>&1 &"
      ],
      "execution_count": 52,
      "outputs": [
        {
          "output_type": "stream",
          "text": [
            "--2021-02-02 19:50:47--  https://storage.googleapis.com/bert_models/2018_10_18/uncased_L-12_H-768_A-12.zip\n",
            "Resolving storage.googleapis.com (storage.googleapis.com)... 172.253.122.128, 142.250.31.128, 172.217.9.208, ...\n",
            "Connecting to storage.googleapis.com (storage.googleapis.com)|172.253.122.128|:443... connected.\n",
            "HTTP request sent, awaiting response... 200 OK\n",
            "Length: 407727028 (389M) [application/zip]\n",
            "Saving to: ‘uncased_L-12_H-768_A-12.zip.1’\n",
            "\n",
            "uncased_L-12_H-768_ 100%[===================>] 388.84M   138MB/s    in 2.8s    \n",
            "\n",
            "2021-02-02 19:50:50 (138 MB/s) - ‘uncased_L-12_H-768_A-12.zip.1’ saved [407727028/407727028]\n",
            "\n",
            "Archive:  uncased_L-12_H-768_A-12.zip\n",
            "replace uncased_L-12_H-768_A-12/bert_model.ckpt.meta? [y]es, [n]o, [A]ll, [N]one, [r]ename: n\n",
            "replace uncased_L-12_H-768_A-12/bert_model.ckpt.data-00000-of-00001? [y]es, [n]o, [A]ll, [N]one, [r]ename: n\n",
            "replace uncased_L-12_H-768_A-12/vocab.txt? [y]es, [n]o, [A]ll, [N]one, [r]ename: n\n",
            "replace uncased_L-12_H-768_A-12/bert_model.ckpt.index? [y]es, [n]o, [A]ll, [N]one, [r]ename: n\n",
            "replace uncased_L-12_H-768_A-12/bert_config.json? [y]es, [n]o, [A]ll, [N]one, [r]ename: n\n"
          ],
          "name": "stdout"
        }
      ]
    },
    {
      "cell_type": "code",
      "metadata": {
        "colab": {
          "base_uri": "https://localhost:8080/"
        },
        "id": "5d1nYsc5BPCc",
        "outputId": "4565215d-d472-4cb5-9f0e-b712d7e327b8"
      },
      "source": [
        "!ls  # you should see uncased_something_.zip"
      ],
      "execution_count": 53,
      "outputs": [
        {
          "output_type": "stream",
          "text": [
            "Combined.csv\ttmp0fmZ1y  tmpJ7JF6g  uncased_L-12_H-768_A-12\n",
            "Encoder.pkl\ttmp362laO  tmpvdr82J  uncased_L-12_H-768_A-12.zip\n",
            "out.file\ttmp9ftZpL  tmpvFwR0n  uncased_L-12_H-768_A-12.zip.1\n",
            "sample_data\ttmpatGt55  tmpz3Ai4U  w2v_model.pkl\n",
            "Tfidf_vect.pkl\ttmpICKS7r  tmpZYV68C\n"
          ],
          "name": "stdout"
        }
      ]
    },
    {
      "cell_type": "code",
      "metadata": {
        "id": "y0TgMqujBiet"
      },
      "source": [
        "# Open a connecton to the server\n",
        "from bert_serving.client import BertClient\n",
        "bc = BertClient()"
      ],
      "execution_count": 54,
      "outputs": []
    },
    {
      "cell_type": "code",
      "metadata": {
        "id": "-r5IGT5VFZ8o"
      },
      "source": [
        "# list_text = ['you need to use tensorflow 1', 'tf2 does not work']\n",
        "# embedded_text = bc.encode(list_text)\n",
        "# print(embedded_text, '\\n',embedded_text.shape)"
      ],
      "execution_count": 55,
      "outputs": []
    },
    {
      "cell_type": "code",
      "metadata": {
        "id": "7r3fLebnT85J"
      },
      "source": [
        "X_train_prebert = [str(i) for i in X_train]\n",
        "X_test_prebert = [str(i) for i in X_test]"
      ],
      "execution_count": 71,
      "outputs": []
    },
    {
      "cell_type": "code",
      "metadata": {
        "id": "cmzHU64uBiKY"
      },
      "source": [
        "# get the embedding for train and val sets\n",
        "X_train_bert = bc.encode(X_train_prebert)\n",
        "X_test_bert = bc.encode(X_test_prebert)"
      ],
      "execution_count": 73,
      "outputs": []
    },
    {
      "cell_type": "code",
      "metadata": {
        "colab": {
          "base_uri": "https://localhost:8080/"
        },
        "id": "OrJ11p2VBgxO",
        "outputId": "28862815-fce1-4368-881b-545f80fe5770"
      },
      "source": [
        "X_train_bert.shape"
      ],
      "execution_count": 74,
      "outputs": [
        {
          "output_type": "execute_result",
          "data": {
            "text/plain": [
              "(202, 768)"
            ]
          },
          "metadata": {
            "tags": []
          },
          "execution_count": 74
        }
      ]
    },
    {
      "cell_type": "code",
      "metadata": {
        "id": "6zpxs6FF6bky"
      },
      "source": [
        ""
      ],
      "execution_count": null,
      "outputs": []
    },
    {
      "cell_type": "markdown",
      "metadata": {
        "id": "-mNH3hi--DlH"
      },
      "source": [
        "# **Models**"
      ]
    },
    {
      "cell_type": "code",
      "metadata": {
        "id": "jh4-fPQgtxDS"
      },
      "source": [
        "def dummy_classifier(X_train, X_test, y_train, y_test):\n",
        "  dummy_clf = DummyClassifier(strategy=\"stratified\", random_state=rand_state)\n",
        "  dummy_clf.fit(X_train, y_train)\n",
        "  dummy_accuracy = (round(dummy_clf.score(X_test, y_test)*100,3))\n",
        "  return(dummy_accuracy)"
      ],
      "execution_count": 76,
      "outputs": []
    },
    {
      "cell_type": "code",
      "metadata": {
        "id": "CqDPgMPpSwvi"
      },
      "source": [
        "def svm_classifier(X_train, X_test, y_train, y_test):\n",
        "  \"\"\"\n",
        "  Takes in train-test-split for X,y;\n",
        "  Runs GridSearchCV and then uses the \n",
        "  best parameters to run an SVM model\n",
        "  and returns an Accuracy Score and\n",
        "  F1 Score.\n",
        "  \"\"\"\n",
        "  clf_svm = svm.SVC(random_state=rand_state)\n",
        "  param_grid = {'C': [0.1, 1, 10, 100, 1000],  \n",
        "                'gamma': [1, 0.1, 0.01, 0.001, 0.0001], \n",
        "                'kernel': ['rbf', 'linear', 'sigmoid', 'poly'],\n",
        "                'degree': [1,2,3,4]} \n",
        "  gs_svm = GridSearchCV(SVC(), param_grid, cv=5)\n",
        "  gs_svm.fit(X_train,y_train)\n",
        "  best = gs_svm.best_params_\n",
        "  SVM = svm.SVC(C=best['C'], kernel=best['kernel'], degree=best['degree'], gamma=best['gamma'], random_state=rand_state)\n",
        "  SVM.fit(X_train,y_train)\n",
        "  y_hat = SVM.predict(X_test)\n",
        "  print('SVM best params:',best)\n",
        "  return (round(accuracy_score(y_test, y_hat)*100,3), round(f1_score(y_test, y_hat, average='macro')*100,3))"
      ],
      "execution_count": 77,
      "outputs": []
    },
    {
      "cell_type": "code",
      "metadata": {
        "id": "tTfUq-RAimRf"
      },
      "source": [
        "def rf_classifier(X_train, X_test, y_train, y_test):\n",
        "  \"\"\"\n",
        "  Takes in train-test-split for X,y;\n",
        "  Runs a random forest and returns an \n",
        "  Accuracy Score and F1 Score.\n",
        "  This model was manually tuned using the\n",
        "  n_estimators parameter during the model\n",
        "  creation process.\n",
        "  \"\"\"\n",
        "  forest = RandomForestClassifier(n_estimators = 110, random_state=rand_state)\n",
        "  forest_tf = forest.fit(X_train,y_train)\n",
        "  y_hat = forest.predict(X_test)\n",
        "  return (round(accuracy_score(y_test, y_hat)*100,3), round(f1_score(y_test, y_hat, average='macro')*100,3))"
      ],
      "execution_count": 78,
      "outputs": []
    },
    {
      "cell_type": "code",
      "metadata": {
        "id": "NZenXJxGAfXP"
      },
      "source": [
        "def xgb_classifier(X_train, X_test, y_train, y_test):\n",
        "  \"\"\"\n",
        "  Takes in train-test-split for X,y;\n",
        "  Runs GridSearchCV and then uses the \n",
        "  best parameters to run an SVM model\n",
        "  and returns an Accuracy Score and\n",
        "  F1 Score.\n",
        "  \"\"\"\n",
        "  clf_xgb = xgb.XGBClassifier(random_state=rand_state)\n",
        "  param_grid = {'learning_rate': [0.3],  \n",
        "                'n_estimators': [100,150], \n",
        "                'max_depth': [3,6,8],\n",
        "                'gamma': [0.1,0.4]} \n",
        "  gs_xgb = GridSearchCV(clf_xgb, param_grid, cv=5)\n",
        "  gs_xgb.fit(X_train, y_train)\n",
        "  best = gs_xgb.best_params_\n",
        "  XGB = xgb.XGBClassifier(learning_rate=best['learning_rate'], \n",
        "                          n_estimators=best['n_estimators'], \n",
        "                          max_depth=best['max_depth'],\n",
        "                          gamma=best['gamma'],\n",
        "                          random_state=rand_state)\n",
        "  XGB.fit(X_train, y_train)\n",
        "  y_hat = XGB.predict(X_test)\n",
        "  print('XGB best params:',best)\n",
        "  return (round(accuracy_score(y_test, y_hat)*100,3), round(f1_score(y_test, y_hat, average='macro')*100,3))"
      ],
      "execution_count": 79,
      "outputs": []
    },
    {
      "cell_type": "code",
      "metadata": {
        "colab": {
          "base_uri": "https://localhost:8080/"
        },
        "id": "aUMPABpO5nYP",
        "outputId": "8a3d17ae-c727-4a6a-bacb-3e4826560efb"
      },
      "source": [
        "try_ = xgb.XGBClassifier(random_state=rand_state)\n",
        "try_.get_params().keys()"
      ],
      "execution_count": 80,
      "outputs": [
        {
          "output_type": "execute_result",
          "data": {
            "text/plain": [
              "dict_keys(['base_score', 'booster', 'colsample_bylevel', 'colsample_bynode', 'colsample_bytree', 'gamma', 'learning_rate', 'max_delta_step', 'max_depth', 'min_child_weight', 'missing', 'n_estimators', 'n_jobs', 'nthread', 'objective', 'random_state', 'reg_alpha', 'reg_lambda', 'scale_pos_weight', 'seed', 'silent', 'subsample', 'verbosity'])"
            ]
          },
          "metadata": {
            "tags": []
          },
          "execution_count": 80
        }
      ]
    },
    {
      "cell_type": "code",
      "metadata": {
        "id": "vqVc8efunPj9"
      },
      "source": [
        "def combined_models(X_train, X_test, y_train, y_test):\n",
        "  \"\"\"\n",
        "  Runs all four models used in this notebook, including the \n",
        "  dummy classifier, SVM, Random Forest, and XGBoos models.\n",
        "  Takes full train-test-split for X,y.\n",
        "  \"\"\"\n",
        "  dum = dummy_classifier(X_train, X_test, y_train, y_test)\n",
        "  svm = svm_classifier(X_train, X_test, y_train, y_test)\n",
        "  rfc = rf_classifier(X_train, X_test, y_train, y_test)\n",
        "  xgb = xgb_classifier(X_train, X_test, y_train, y_test)\n",
        "  print('Dummy Classifier Accuracy:', dum)\n",
        "  print('SVM Classifier Accuracy, F1 Score (macro):', svm)\n",
        "  print('Random Forest Accuracy, F1 Score (macro):', rfc)\n",
        "  print('XG Boost Accuracy, F1 Score (macro):', xgb)\n",
        "  return()\n"
      ],
      "execution_count": 81,
      "outputs": []
    },
    {
      "cell_type": "markdown",
      "metadata": {
        "id": "9-Zr-4vIm8qA"
      },
      "source": [
        "## **Application of Models to Datasets**"
      ]
    },
    {
      "cell_type": "markdown",
      "metadata": {
        "id": "_rMmL_vm37wU"
      },
      "source": [
        "### Iteration 1: Initial, Multi-Source Dataset <br>(don't run these cells after initial dataset is loaded)"
      ]
    },
    {
      "cell_type": "code",
      "metadata": {
        "colab": {
          "base_uri": "https://localhost:8080/"
        },
        "id": "0DpR4BtJm1fr",
        "outputId": "bd1e9cc0-83d6-4aae-cf73-7392f0b020f0"
      },
      "source": [
        "# #Test the TF-IDF weighted texts\n",
        "# combined_models(X_train_tfidf, X_test_tfidf, y_train_tfidf, y_test)"
      ],
      "execution_count": null,
      "outputs": [
        {
          "output_type": "stream",
          "text": [
            "SVM best params: {'C': 1, 'degree': 1, 'gamma': 1, 'kernel': 'rbf'}\n",
            "XGB best params: {'gamma': 0.1, 'learning_rate': 0.3, 'max_depth': 8, 'n_estimators': 100}\n",
            "Dummy Classifier Accuracy: 32.184\n",
            "SVM Classifier Accuracy, F1 Score (macro): (54.023, 37.767)\n",
            "Random Forest Accuracy, F1 Score (macro): (60.92, 54.843)\n",
            "XG Boost Accuracy, F1 Score (macro): (52.874, 50.612)\n"
          ],
          "name": "stdout"
        },
        {
          "output_type": "execute_result",
          "data": {
            "text/plain": [
              "()"
            ]
          },
          "metadata": {
            "tags": []
          },
          "execution_count": 48
        }
      ]
    },
    {
      "cell_type": "code",
      "metadata": {
        "colab": {
          "base_uri": "https://localhost:8080/"
        },
        "id": "8r4Z1Ar0m1wv",
        "outputId": "42109dfd-fdfa-47c3-9aec-627036fbdc26"
      },
      "source": [
        "# #Test the Word2vec vectorized texts\n",
        "# combined_models(X_train_w2v, testDataVecs, y_train_w2v, y_test)"
      ],
      "execution_count": null,
      "outputs": [
        {
          "output_type": "stream",
          "text": [
            "SVM best params: {'C': 1000, 'degree': 1, 'gamma': 0.01, 'kernel': 'sigmoid'}\n",
            "XGB best params: {'gamma': 0.4, 'learning_rate': 0.3, 'max_depth': 1, 'n_estimators': 100}\n",
            "Dummy Classifier Accuracy: 19.298\n",
            "SVM Classifier Accuracy, F1 Score (macro): (52.632, 52.936)\n",
            "Random Forest Accuracy, F1 Score (macro): (38.596, 39.543)\n",
            "XG Boost Accuracy, F1 Score (macro): (42.105, 41.757)\n"
          ],
          "name": "stdout"
        },
        {
          "output_type": "execute_result",
          "data": {
            "text/plain": [
              "()"
            ]
          },
          "metadata": {
            "tags": []
          },
          "execution_count": 53
        }
      ]
    },
    {
      "cell_type": "markdown",
      "metadata": {
        "id": "0JqK-IHv37wU"
      },
      "source": [
        "### Iteration 2: Single-Source, Common-Core Dataset"
      ]
    },
    {
      "cell_type": "code",
      "metadata": {
        "colab": {
          "base_uri": "https://localhost:8080/"
        },
        "id": "LbffUy1r37wU",
        "outputId": "7fa439dd-e924-40c6-fa45-722ac5030402"
      },
      "source": [
        "# #Test the TF-IDF weighted texts\n",
        "# combined_models(X_train_tfidf, X_test_tfidf, y_train_tfidf, y_test)"
      ],
      "execution_count": null,
      "outputs": [
        {
          "output_type": "stream",
          "text": [
            "SVM best params: {'C': 10, 'degree': 1, 'gamma': 0.1, 'kernel': 'rbf'}\n",
            "XGB best params: {'gamma': 0.1, 'learning_rate': 0.1, 'max_depth': 5, 'n_estimators': 100}\n",
            "Dummy Classifier Accuracy: 16.129\n",
            "SVM Classifier Accuracy, F1 Score (macro): (54.839, 33.463)\n",
            "Random Forest Accuracy, F1 Score (macro): (58.065, 33.75)\n",
            "XG Boost Accuracy, F1 Score (macro): (61.29, 48.729)\n"
          ],
          "name": "stdout"
        },
        {
          "output_type": "execute_result",
          "data": {
            "text/plain": [
              "()"
            ]
          },
          "metadata": {
            "tags": []
          },
          "execution_count": 97
        }
      ]
    },
    {
      "cell_type": "code",
      "metadata": {
        "colab": {
          "base_uri": "https://localhost:8080/"
        },
        "id": "lOhrilqb37wU",
        "outputId": "ea4191ec-b98a-4b9d-d3a8-0040071aa421"
      },
      "source": [
        "# #Test the Word2vec vectorized texts\n",
        "# combined_models(X_train_w2v, testDataVecs, y_train_w2v, y_test)"
      ],
      "execution_count": null,
      "outputs": [
        {
          "output_type": "stream",
          "text": [
            "SVM best params: {'C': 1000, 'degree': 1, 'gamma': 0.1, 'kernel': 'rbf'}\n",
            "XGB best params: {'gamma': 0.1, 'learning_rate': 0.3, 'max_depth': 1, 'n_estimators': 100}\n",
            "Dummy Classifier Accuracy: 16.129\n",
            "SVM Classifier Accuracy, F1 Score (macro): (35.484, 32.879)\n",
            "Random Forest Accuracy, F1 Score (macro): (51.613, 50.397)\n",
            "XG Boost Accuracy, F1 Score (macro): (41.935, 39.2)\n"
          ],
          "name": "stdout"
        },
        {
          "output_type": "execute_result",
          "data": {
            "text/plain": [
              "()"
            ]
          },
          "metadata": {
            "tags": []
          },
          "execution_count": 98
        }
      ]
    },
    {
      "cell_type": "markdown",
      "metadata": {
        "id": "6b9ly2HB0iOB"
      },
      "source": [
        "### Iteration 3: Combined Dataset"
      ]
    },
    {
      "cell_type": "code",
      "metadata": {
        "colab": {
          "base_uri": "https://localhost:8080/"
        },
        "id": "Wiz06BYN0iOB",
        "outputId": "8bf5b9e5-f459-4465-b3a6-9fb247b5def6"
      },
      "source": [
        "#Test the TF-IDF weighted texts\n",
        "combined_models(X_train_tfidf, X_test_tfidf, y_train_tfidf, y_test)"
      ],
      "execution_count": 82,
      "outputs": [
        {
          "output_type": "stream",
          "text": [
            "SVM best params: {'C': 1, 'degree': 1, 'gamma': 1, 'kernel': 'rbf'}\n",
            "XGB best params: {'gamma': 0.1, 'learning_rate': 0.3, 'max_depth': 6, 'n_estimators': 100}\n",
            "Dummy Classifier Accuracy: 20.69\n",
            "SVM Classifier Accuracy, F1 Score (macro): (47.126, 29.643)\n",
            "Random Forest Accuracy, F1 Score (macro): (56.322, 51.505)\n",
            "XG Boost Accuracy, F1 Score (macro): (62.069, 60.008)\n"
          ],
          "name": "stdout"
        },
        {
          "output_type": "execute_result",
          "data": {
            "text/plain": [
              "()"
            ]
          },
          "metadata": {
            "tags": []
          },
          "execution_count": 82
        }
      ]
    },
    {
      "cell_type": "code",
      "metadata": {
        "colab": {
          "base_uri": "https://localhost:8080/",
          "height": 392
        },
        "id": "rr8LlNt_Qvoh",
        "outputId": "1a2f32ec-e0c4-4eff-b6fa-5fe9413bfe30"
      },
      "source": [
        "#Test the BERT texts\n",
        "combined_models(X_train_bert, X_test_bert, y_train, y_test)"
      ],
      "execution_count": 83,
      "outputs": [
        {
          "output_type": "stream",
          "text": [
            "SVM best params: {'C': 0.1, 'degree': 4, 'gamma': 0.01, 'kernel': 'poly'}\n"
          ],
          "name": "stdout"
        },
        {
          "output_type": "error",
          "ename": "ValueError",
          "evalue": "ignored",
          "traceback": [
            "\u001b[0;31m---------------------------------------------------------------------------\u001b[0m",
            "\u001b[0;31mValueError\u001b[0m                                Traceback (most recent call last)",
            "\u001b[0;32m<ipython-input-83-ff3b083f0881>\u001b[0m in \u001b[0;36m<module>\u001b[0;34m()\u001b[0m\n\u001b[1;32m      1\u001b[0m \u001b[0;31m#Test the BERT texts\u001b[0m\u001b[0;34m\u001b[0m\u001b[0;34m\u001b[0m\u001b[0;34m\u001b[0m\u001b[0m\n\u001b[0;32m----> 2\u001b[0;31m \u001b[0mcombined_models\u001b[0m\u001b[0;34m(\u001b[0m\u001b[0mX_train_bert\u001b[0m\u001b[0;34m,\u001b[0m \u001b[0mX_test_bert\u001b[0m\u001b[0;34m,\u001b[0m \u001b[0my_train\u001b[0m\u001b[0;34m,\u001b[0m \u001b[0my_test\u001b[0m\u001b[0;34m)\u001b[0m\u001b[0;34m\u001b[0m\u001b[0;34m\u001b[0m\u001b[0m\n\u001b[0m",
            "\u001b[0;32m<ipython-input-81-1e5a62aa3763>\u001b[0m in \u001b[0;36mcombined_models\u001b[0;34m(X_train, X_test, y_train, y_test)\u001b[0m\n\u001b[1;32m      7\u001b[0m   \u001b[0mdum\u001b[0m \u001b[0;34m=\u001b[0m \u001b[0mdummy_classifier\u001b[0m\u001b[0;34m(\u001b[0m\u001b[0mX_train\u001b[0m\u001b[0;34m,\u001b[0m \u001b[0mX_test\u001b[0m\u001b[0;34m,\u001b[0m \u001b[0my_train\u001b[0m\u001b[0;34m,\u001b[0m \u001b[0my_test\u001b[0m\u001b[0;34m)\u001b[0m\u001b[0;34m\u001b[0m\u001b[0;34m\u001b[0m\u001b[0m\n\u001b[1;32m      8\u001b[0m   \u001b[0msvm\u001b[0m \u001b[0;34m=\u001b[0m \u001b[0msvm_classifier\u001b[0m\u001b[0;34m(\u001b[0m\u001b[0mX_train\u001b[0m\u001b[0;34m,\u001b[0m \u001b[0mX_test\u001b[0m\u001b[0;34m,\u001b[0m \u001b[0my_train\u001b[0m\u001b[0;34m,\u001b[0m \u001b[0my_test\u001b[0m\u001b[0;34m)\u001b[0m\u001b[0;34m\u001b[0m\u001b[0;34m\u001b[0m\u001b[0m\n\u001b[0;32m----> 9\u001b[0;31m   \u001b[0mrfc\u001b[0m \u001b[0;34m=\u001b[0m \u001b[0mrf_classifier\u001b[0m\u001b[0;34m(\u001b[0m\u001b[0mX_train\u001b[0m\u001b[0;34m,\u001b[0m \u001b[0mX_test\u001b[0m\u001b[0;34m,\u001b[0m \u001b[0my_train\u001b[0m\u001b[0;34m,\u001b[0m \u001b[0my_test\u001b[0m\u001b[0;34m)\u001b[0m\u001b[0;34m\u001b[0m\u001b[0;34m\u001b[0m\u001b[0m\n\u001b[0m\u001b[1;32m     10\u001b[0m   \u001b[0mxgb\u001b[0m \u001b[0;34m=\u001b[0m \u001b[0mxgb_classifier\u001b[0m\u001b[0;34m(\u001b[0m\u001b[0mX_train\u001b[0m\u001b[0;34m,\u001b[0m \u001b[0mX_test\u001b[0m\u001b[0;34m,\u001b[0m \u001b[0my_train\u001b[0m\u001b[0;34m,\u001b[0m \u001b[0my_test\u001b[0m\u001b[0;34m)\u001b[0m\u001b[0;34m\u001b[0m\u001b[0;34m\u001b[0m\u001b[0m\n\u001b[1;32m     11\u001b[0m   \u001b[0mprint\u001b[0m\u001b[0;34m(\u001b[0m\u001b[0;34m'Dummy Classifier Accuracy:'\u001b[0m\u001b[0;34m,\u001b[0m \u001b[0mdum\u001b[0m\u001b[0;34m)\u001b[0m\u001b[0;34m\u001b[0m\u001b[0;34m\u001b[0m\u001b[0m\n",
            "\u001b[0;32m<ipython-input-78-464327308dea>\u001b[0m in \u001b[0;36mrf_classifier\u001b[0;34m(X_train, X_test, y_train, y_test)\u001b[0m\n\u001b[1;32m     10\u001b[0m   \u001b[0mforest\u001b[0m \u001b[0;34m=\u001b[0m \u001b[0mRandomForestClassifier\u001b[0m\u001b[0;34m(\u001b[0m\u001b[0mn_estimators\u001b[0m \u001b[0;34m=\u001b[0m \u001b[0;36m110\u001b[0m\u001b[0;34m,\u001b[0m \u001b[0mrandom_state\u001b[0m\u001b[0;34m=\u001b[0m\u001b[0mrand_state\u001b[0m\u001b[0;34m)\u001b[0m\u001b[0;34m\u001b[0m\u001b[0;34m\u001b[0m\u001b[0m\n\u001b[1;32m     11\u001b[0m   \u001b[0mforest_tf\u001b[0m \u001b[0;34m=\u001b[0m \u001b[0mforest\u001b[0m\u001b[0;34m.\u001b[0m\u001b[0mfit\u001b[0m\u001b[0;34m(\u001b[0m\u001b[0mX_train\u001b[0m\u001b[0;34m,\u001b[0m\u001b[0my_train\u001b[0m\u001b[0;34m)\u001b[0m\u001b[0;34m\u001b[0m\u001b[0;34m\u001b[0m\u001b[0m\n\u001b[0;32m---> 12\u001b[0;31m   \u001b[0my_hat\u001b[0m \u001b[0;34m=\u001b[0m \u001b[0mforest\u001b[0m\u001b[0;34m.\u001b[0m\u001b[0mpredict\u001b[0m\u001b[0;34m(\u001b[0m\u001b[0mX_test\u001b[0m\u001b[0;34m)\u001b[0m\u001b[0;34m\u001b[0m\u001b[0;34m\u001b[0m\u001b[0m\n\u001b[0m\u001b[1;32m     13\u001b[0m   \u001b[0;32mreturn\u001b[0m \u001b[0;34m(\u001b[0m\u001b[0mround\u001b[0m\u001b[0;34m(\u001b[0m\u001b[0maccuracy_score\u001b[0m\u001b[0;34m(\u001b[0m\u001b[0my_test\u001b[0m\u001b[0;34m,\u001b[0m \u001b[0my_hat\u001b[0m\u001b[0;34m)\u001b[0m\u001b[0;34m*\u001b[0m\u001b[0;36m100\u001b[0m\u001b[0;34m,\u001b[0m\u001b[0;36m3\u001b[0m\u001b[0;34m)\u001b[0m\u001b[0;34m,\u001b[0m \u001b[0mround\u001b[0m\u001b[0;34m(\u001b[0m\u001b[0mf1_score\u001b[0m\u001b[0;34m(\u001b[0m\u001b[0my_test\u001b[0m\u001b[0;34m,\u001b[0m \u001b[0my_hat\u001b[0m\u001b[0;34m,\u001b[0m \u001b[0maverage\u001b[0m\u001b[0;34m=\u001b[0m\u001b[0;34m'macro'\u001b[0m\u001b[0;34m)\u001b[0m\u001b[0;34m*\u001b[0m\u001b[0;36m100\u001b[0m\u001b[0;34m,\u001b[0m\u001b[0;36m3\u001b[0m\u001b[0;34m)\u001b[0m\u001b[0;34m)\u001b[0m\u001b[0;34m\u001b[0m\u001b[0;34m\u001b[0m\u001b[0m\n",
            "\u001b[0;32m/usr/local/lib/python3.6/dist-packages/sklearn/ensemble/_forest.py\u001b[0m in \u001b[0;36mpredict\u001b[0;34m(self, X)\u001b[0m\n\u001b[1;32m    610\u001b[0m             \u001b[0mThe\u001b[0m \u001b[0mpredicted\u001b[0m \u001b[0mclasses\u001b[0m\u001b[0;34m.\u001b[0m\u001b[0;34m\u001b[0m\u001b[0;34m\u001b[0m\u001b[0m\n\u001b[1;32m    611\u001b[0m         \"\"\"\n\u001b[0;32m--> 612\u001b[0;31m         \u001b[0mproba\u001b[0m \u001b[0;34m=\u001b[0m \u001b[0mself\u001b[0m\u001b[0;34m.\u001b[0m\u001b[0mpredict_proba\u001b[0m\u001b[0;34m(\u001b[0m\u001b[0mX\u001b[0m\u001b[0;34m)\u001b[0m\u001b[0;34m\u001b[0m\u001b[0;34m\u001b[0m\u001b[0m\n\u001b[0m\u001b[1;32m    613\u001b[0m \u001b[0;34m\u001b[0m\u001b[0m\n\u001b[1;32m    614\u001b[0m         \u001b[0;32mif\u001b[0m \u001b[0mself\u001b[0m\u001b[0;34m.\u001b[0m\u001b[0mn_outputs_\u001b[0m \u001b[0;34m==\u001b[0m \u001b[0;36m1\u001b[0m\u001b[0;34m:\u001b[0m\u001b[0;34m\u001b[0m\u001b[0;34m\u001b[0m\u001b[0m\n",
            "\u001b[0;32m/usr/local/lib/python3.6/dist-packages/sklearn/ensemble/_forest.py\u001b[0m in \u001b[0;36mpredict_proba\u001b[0;34m(self, X)\u001b[0m\n\u001b[1;32m    667\u001b[0m             delayed(_accumulate_prediction)(e.predict_proba, X, all_proba,\n\u001b[1;32m    668\u001b[0m                                             lock)\n\u001b[0;32m--> 669\u001b[0;31m             for e in self.estimators_)\n\u001b[0m\u001b[1;32m    670\u001b[0m \u001b[0;34m\u001b[0m\u001b[0m\n\u001b[1;32m    671\u001b[0m         \u001b[0;32mfor\u001b[0m \u001b[0mproba\u001b[0m \u001b[0;32min\u001b[0m \u001b[0mall_proba\u001b[0m\u001b[0;34m:\u001b[0m\u001b[0;34m\u001b[0m\u001b[0;34m\u001b[0m\u001b[0m\n",
            "\u001b[0;32m/usr/local/lib/python3.6/dist-packages/joblib/parallel.py\u001b[0m in \u001b[0;36m__call__\u001b[0;34m(self, iterable)\u001b[0m\n\u001b[1;32m   1039\u001b[0m             \u001b[0;31m# remaining jobs.\u001b[0m\u001b[0;34m\u001b[0m\u001b[0;34m\u001b[0m\u001b[0;34m\u001b[0m\u001b[0m\n\u001b[1;32m   1040\u001b[0m             \u001b[0mself\u001b[0m\u001b[0;34m.\u001b[0m\u001b[0m_iterating\u001b[0m \u001b[0;34m=\u001b[0m \u001b[0;32mFalse\u001b[0m\u001b[0;34m\u001b[0m\u001b[0;34m\u001b[0m\u001b[0m\n\u001b[0;32m-> 1041\u001b[0;31m             \u001b[0;32mif\u001b[0m \u001b[0mself\u001b[0m\u001b[0;34m.\u001b[0m\u001b[0mdispatch_one_batch\u001b[0m\u001b[0;34m(\u001b[0m\u001b[0miterator\u001b[0m\u001b[0;34m)\u001b[0m\u001b[0;34m:\u001b[0m\u001b[0;34m\u001b[0m\u001b[0;34m\u001b[0m\u001b[0m\n\u001b[0m\u001b[1;32m   1042\u001b[0m                 \u001b[0mself\u001b[0m\u001b[0;34m.\u001b[0m\u001b[0m_iterating\u001b[0m \u001b[0;34m=\u001b[0m \u001b[0mself\u001b[0m\u001b[0;34m.\u001b[0m\u001b[0m_original_iterator\u001b[0m \u001b[0;32mis\u001b[0m \u001b[0;32mnot\u001b[0m \u001b[0;32mNone\u001b[0m\u001b[0;34m\u001b[0m\u001b[0;34m\u001b[0m\u001b[0m\n\u001b[1;32m   1043\u001b[0m \u001b[0;34m\u001b[0m\u001b[0m\n",
            "\u001b[0;32m/usr/local/lib/python3.6/dist-packages/joblib/parallel.py\u001b[0m in \u001b[0;36mdispatch_one_batch\u001b[0;34m(self, iterator)\u001b[0m\n\u001b[1;32m    857\u001b[0m                 \u001b[0;32mreturn\u001b[0m \u001b[0;32mFalse\u001b[0m\u001b[0;34m\u001b[0m\u001b[0;34m\u001b[0m\u001b[0m\n\u001b[1;32m    858\u001b[0m             \u001b[0;32melse\u001b[0m\u001b[0;34m:\u001b[0m\u001b[0;34m\u001b[0m\u001b[0;34m\u001b[0m\u001b[0m\n\u001b[0;32m--> 859\u001b[0;31m                 \u001b[0mself\u001b[0m\u001b[0;34m.\u001b[0m\u001b[0m_dispatch\u001b[0m\u001b[0;34m(\u001b[0m\u001b[0mtasks\u001b[0m\u001b[0;34m)\u001b[0m\u001b[0;34m\u001b[0m\u001b[0;34m\u001b[0m\u001b[0m\n\u001b[0m\u001b[1;32m    860\u001b[0m                 \u001b[0;32mreturn\u001b[0m \u001b[0;32mTrue\u001b[0m\u001b[0;34m\u001b[0m\u001b[0;34m\u001b[0m\u001b[0m\n\u001b[1;32m    861\u001b[0m \u001b[0;34m\u001b[0m\u001b[0m\n",
            "\u001b[0;32m/usr/local/lib/python3.6/dist-packages/joblib/parallel.py\u001b[0m in \u001b[0;36m_dispatch\u001b[0;34m(self, batch)\u001b[0m\n\u001b[1;32m    775\u001b[0m         \u001b[0;32mwith\u001b[0m \u001b[0mself\u001b[0m\u001b[0;34m.\u001b[0m\u001b[0m_lock\u001b[0m\u001b[0;34m:\u001b[0m\u001b[0;34m\u001b[0m\u001b[0;34m\u001b[0m\u001b[0m\n\u001b[1;32m    776\u001b[0m             \u001b[0mjob_idx\u001b[0m \u001b[0;34m=\u001b[0m \u001b[0mlen\u001b[0m\u001b[0;34m(\u001b[0m\u001b[0mself\u001b[0m\u001b[0;34m.\u001b[0m\u001b[0m_jobs\u001b[0m\u001b[0;34m)\u001b[0m\u001b[0;34m\u001b[0m\u001b[0;34m\u001b[0m\u001b[0m\n\u001b[0;32m--> 777\u001b[0;31m             \u001b[0mjob\u001b[0m \u001b[0;34m=\u001b[0m \u001b[0mself\u001b[0m\u001b[0;34m.\u001b[0m\u001b[0m_backend\u001b[0m\u001b[0;34m.\u001b[0m\u001b[0mapply_async\u001b[0m\u001b[0;34m(\u001b[0m\u001b[0mbatch\u001b[0m\u001b[0;34m,\u001b[0m \u001b[0mcallback\u001b[0m\u001b[0;34m=\u001b[0m\u001b[0mcb\u001b[0m\u001b[0;34m)\u001b[0m\u001b[0;34m\u001b[0m\u001b[0;34m\u001b[0m\u001b[0m\n\u001b[0m\u001b[1;32m    778\u001b[0m             \u001b[0;31m# A job can complete so quickly than its callback is\u001b[0m\u001b[0;34m\u001b[0m\u001b[0;34m\u001b[0m\u001b[0;34m\u001b[0m\u001b[0m\n\u001b[1;32m    779\u001b[0m             \u001b[0;31m# called before we get here, causing self._jobs to\u001b[0m\u001b[0;34m\u001b[0m\u001b[0;34m\u001b[0m\u001b[0;34m\u001b[0m\u001b[0m\n",
            "\u001b[0;32m/usr/local/lib/python3.6/dist-packages/joblib/_parallel_backends.py\u001b[0m in \u001b[0;36mapply_async\u001b[0;34m(self, func, callback)\u001b[0m\n\u001b[1;32m    206\u001b[0m     \u001b[0;32mdef\u001b[0m \u001b[0mapply_async\u001b[0m\u001b[0;34m(\u001b[0m\u001b[0mself\u001b[0m\u001b[0;34m,\u001b[0m \u001b[0mfunc\u001b[0m\u001b[0;34m,\u001b[0m \u001b[0mcallback\u001b[0m\u001b[0;34m=\u001b[0m\u001b[0;32mNone\u001b[0m\u001b[0;34m)\u001b[0m\u001b[0;34m:\u001b[0m\u001b[0;34m\u001b[0m\u001b[0;34m\u001b[0m\u001b[0m\n\u001b[1;32m    207\u001b[0m         \u001b[0;34m\"\"\"Schedule a func to be run\"\"\"\u001b[0m\u001b[0;34m\u001b[0m\u001b[0;34m\u001b[0m\u001b[0m\n\u001b[0;32m--> 208\u001b[0;31m         \u001b[0mresult\u001b[0m \u001b[0;34m=\u001b[0m \u001b[0mImmediateResult\u001b[0m\u001b[0;34m(\u001b[0m\u001b[0mfunc\u001b[0m\u001b[0;34m)\u001b[0m\u001b[0;34m\u001b[0m\u001b[0;34m\u001b[0m\u001b[0m\n\u001b[0m\u001b[1;32m    209\u001b[0m         \u001b[0;32mif\u001b[0m \u001b[0mcallback\u001b[0m\u001b[0;34m:\u001b[0m\u001b[0;34m\u001b[0m\u001b[0;34m\u001b[0m\u001b[0m\n\u001b[1;32m    210\u001b[0m             \u001b[0mcallback\u001b[0m\u001b[0;34m(\u001b[0m\u001b[0mresult\u001b[0m\u001b[0;34m)\u001b[0m\u001b[0;34m\u001b[0m\u001b[0;34m\u001b[0m\u001b[0m\n",
            "\u001b[0;32m/usr/local/lib/python3.6/dist-packages/joblib/_parallel_backends.py\u001b[0m in \u001b[0;36m__init__\u001b[0;34m(self, batch)\u001b[0m\n\u001b[1;32m    570\u001b[0m         \u001b[0;31m# Don't delay the application, to avoid keeping the input\u001b[0m\u001b[0;34m\u001b[0m\u001b[0;34m\u001b[0m\u001b[0;34m\u001b[0m\u001b[0m\n\u001b[1;32m    571\u001b[0m         \u001b[0;31m# arguments in memory\u001b[0m\u001b[0;34m\u001b[0m\u001b[0;34m\u001b[0m\u001b[0;34m\u001b[0m\u001b[0m\n\u001b[0;32m--> 572\u001b[0;31m         \u001b[0mself\u001b[0m\u001b[0;34m.\u001b[0m\u001b[0mresults\u001b[0m \u001b[0;34m=\u001b[0m \u001b[0mbatch\u001b[0m\u001b[0;34m(\u001b[0m\u001b[0;34m)\u001b[0m\u001b[0;34m\u001b[0m\u001b[0;34m\u001b[0m\u001b[0m\n\u001b[0m\u001b[1;32m    573\u001b[0m \u001b[0;34m\u001b[0m\u001b[0m\n\u001b[1;32m    574\u001b[0m     \u001b[0;32mdef\u001b[0m \u001b[0mget\u001b[0m\u001b[0;34m(\u001b[0m\u001b[0mself\u001b[0m\u001b[0;34m)\u001b[0m\u001b[0;34m:\u001b[0m\u001b[0;34m\u001b[0m\u001b[0;34m\u001b[0m\u001b[0m\n",
            "\u001b[0;32m/usr/local/lib/python3.6/dist-packages/joblib/parallel.py\u001b[0m in \u001b[0;36m__call__\u001b[0;34m(self)\u001b[0m\n\u001b[1;32m    261\u001b[0m         \u001b[0;32mwith\u001b[0m \u001b[0mparallel_backend\u001b[0m\u001b[0;34m(\u001b[0m\u001b[0mself\u001b[0m\u001b[0;34m.\u001b[0m\u001b[0m_backend\u001b[0m\u001b[0;34m,\u001b[0m \u001b[0mn_jobs\u001b[0m\u001b[0;34m=\u001b[0m\u001b[0mself\u001b[0m\u001b[0;34m.\u001b[0m\u001b[0m_n_jobs\u001b[0m\u001b[0;34m)\u001b[0m\u001b[0;34m:\u001b[0m\u001b[0;34m\u001b[0m\u001b[0;34m\u001b[0m\u001b[0m\n\u001b[1;32m    262\u001b[0m             return [func(*args, **kwargs)\n\u001b[0;32m--> 263\u001b[0;31m                     for func, args, kwargs in self.items]\n\u001b[0m\u001b[1;32m    264\u001b[0m \u001b[0;34m\u001b[0m\u001b[0m\n\u001b[1;32m    265\u001b[0m     \u001b[0;32mdef\u001b[0m \u001b[0m__reduce__\u001b[0m\u001b[0;34m(\u001b[0m\u001b[0mself\u001b[0m\u001b[0;34m)\u001b[0m\u001b[0;34m:\u001b[0m\u001b[0;34m\u001b[0m\u001b[0;34m\u001b[0m\u001b[0m\n",
            "\u001b[0;32m/usr/local/lib/python3.6/dist-packages/joblib/parallel.py\u001b[0m in \u001b[0;36m<listcomp>\u001b[0;34m(.0)\u001b[0m\n\u001b[1;32m    261\u001b[0m         \u001b[0;32mwith\u001b[0m \u001b[0mparallel_backend\u001b[0m\u001b[0;34m(\u001b[0m\u001b[0mself\u001b[0m\u001b[0;34m.\u001b[0m\u001b[0m_backend\u001b[0m\u001b[0;34m,\u001b[0m \u001b[0mn_jobs\u001b[0m\u001b[0;34m=\u001b[0m\u001b[0mself\u001b[0m\u001b[0;34m.\u001b[0m\u001b[0m_n_jobs\u001b[0m\u001b[0;34m)\u001b[0m\u001b[0;34m:\u001b[0m\u001b[0;34m\u001b[0m\u001b[0;34m\u001b[0m\u001b[0m\n\u001b[1;32m    262\u001b[0m             return [func(*args, **kwargs)\n\u001b[0;32m--> 263\u001b[0;31m                     for func, args, kwargs in self.items]\n\u001b[0m\u001b[1;32m    264\u001b[0m \u001b[0;34m\u001b[0m\u001b[0m\n\u001b[1;32m    265\u001b[0m     \u001b[0;32mdef\u001b[0m \u001b[0m__reduce__\u001b[0m\u001b[0;34m(\u001b[0m\u001b[0mself\u001b[0m\u001b[0;34m)\u001b[0m\u001b[0;34m:\u001b[0m\u001b[0;34m\u001b[0m\u001b[0;34m\u001b[0m\u001b[0m\n",
            "\u001b[0;32m/usr/local/lib/python3.6/dist-packages/sklearn/ensemble/_forest.py\u001b[0m in \u001b[0;36m_accumulate_prediction\u001b[0;34m(predict, X, out, lock)\u001b[0m\n\u001b[1;32m    447\u001b[0m     \u001b[0mcomplains\u001b[0m \u001b[0mthat\u001b[0m \u001b[0mit\u001b[0m \u001b[0mcannot\u001b[0m \u001b[0mpickle\u001b[0m \u001b[0mit\u001b[0m \u001b[0mwhen\u001b[0m \u001b[0mplaced\u001b[0m \u001b[0mthere\u001b[0m\u001b[0;34m.\u001b[0m\u001b[0;34m\u001b[0m\u001b[0;34m\u001b[0m\u001b[0m\n\u001b[1;32m    448\u001b[0m     \"\"\"\n\u001b[0;32m--> 449\u001b[0;31m     \u001b[0mprediction\u001b[0m \u001b[0;34m=\u001b[0m \u001b[0mpredict\u001b[0m\u001b[0;34m(\u001b[0m\u001b[0mX\u001b[0m\u001b[0;34m,\u001b[0m \u001b[0mcheck_input\u001b[0m\u001b[0;34m=\u001b[0m\u001b[0;32mFalse\u001b[0m\u001b[0;34m)\u001b[0m\u001b[0;34m\u001b[0m\u001b[0;34m\u001b[0m\u001b[0m\n\u001b[0m\u001b[1;32m    450\u001b[0m     \u001b[0;32mwith\u001b[0m \u001b[0mlock\u001b[0m\u001b[0;34m:\u001b[0m\u001b[0;34m\u001b[0m\u001b[0;34m\u001b[0m\u001b[0m\n\u001b[1;32m    451\u001b[0m         \u001b[0;32mif\u001b[0m \u001b[0mlen\u001b[0m\u001b[0;34m(\u001b[0m\u001b[0mout\u001b[0m\u001b[0;34m)\u001b[0m \u001b[0;34m==\u001b[0m \u001b[0;36m1\u001b[0m\u001b[0;34m:\u001b[0m\u001b[0;34m\u001b[0m\u001b[0;34m\u001b[0m\u001b[0m\n",
            "\u001b[0;32m/usr/local/lib/python3.6/dist-packages/sklearn/tree/_classes.py\u001b[0m in \u001b[0;36mpredict_proba\u001b[0;34m(self, X, check_input)\u001b[0m\n\u001b[1;32m    904\u001b[0m         \u001b[0mcheck_is_fitted\u001b[0m\u001b[0;34m(\u001b[0m\u001b[0mself\u001b[0m\u001b[0;34m)\u001b[0m\u001b[0;34m\u001b[0m\u001b[0;34m\u001b[0m\u001b[0m\n\u001b[1;32m    905\u001b[0m         \u001b[0mX\u001b[0m \u001b[0;34m=\u001b[0m \u001b[0mself\u001b[0m\u001b[0;34m.\u001b[0m\u001b[0m_validate_X_predict\u001b[0m\u001b[0;34m(\u001b[0m\u001b[0mX\u001b[0m\u001b[0;34m,\u001b[0m \u001b[0mcheck_input\u001b[0m\u001b[0;34m)\u001b[0m\u001b[0;34m\u001b[0m\u001b[0;34m\u001b[0m\u001b[0m\n\u001b[0;32m--> 906\u001b[0;31m         \u001b[0mproba\u001b[0m \u001b[0;34m=\u001b[0m \u001b[0mself\u001b[0m\u001b[0;34m.\u001b[0m\u001b[0mtree_\u001b[0m\u001b[0;34m.\u001b[0m\u001b[0mpredict\u001b[0m\u001b[0;34m(\u001b[0m\u001b[0mX\u001b[0m\u001b[0;34m)\u001b[0m\u001b[0;34m\u001b[0m\u001b[0;34m\u001b[0m\u001b[0m\n\u001b[0m\u001b[1;32m    907\u001b[0m \u001b[0;34m\u001b[0m\u001b[0m\n\u001b[1;32m    908\u001b[0m         \u001b[0;32mif\u001b[0m \u001b[0mself\u001b[0m\u001b[0;34m.\u001b[0m\u001b[0mn_outputs_\u001b[0m \u001b[0;34m==\u001b[0m \u001b[0;36m1\u001b[0m\u001b[0;34m:\u001b[0m\u001b[0;34m\u001b[0m\u001b[0;34m\u001b[0m\u001b[0m\n",
            "\u001b[0;32msklearn/tree/_tree.pyx\u001b[0m in \u001b[0;36msklearn.tree._tree.Tree.predict\u001b[0;34m()\u001b[0m\n",
            "\u001b[0;32msklearn/tree/_tree.pyx\u001b[0m in \u001b[0;36msklearn.tree._tree.Tree.predict\u001b[0;34m()\u001b[0m\n",
            "\u001b[0;32msklearn/tree/_tree.pyx\u001b[0m in \u001b[0;36msklearn.tree._tree.Tree.apply\u001b[0;34m()\u001b[0m\n",
            "\u001b[0;32msklearn/tree/_tree.pyx\u001b[0m in \u001b[0;36msklearn.tree._tree.Tree._apply_dense\u001b[0;34m()\u001b[0m\n",
            "\u001b[0;32m/usr/local/lib/python3.6/dist-packages/sklearn/tree/_tree.cpython-36m-x86_64-linux-gnu.so\u001b[0m in \u001b[0;36mView.MemoryView.memoryview_cwrapper\u001b[0;34m()\u001b[0m\n",
            "\u001b[0;32m/usr/local/lib/python3.6/dist-packages/sklearn/tree/_tree.cpython-36m-x86_64-linux-gnu.so\u001b[0m in \u001b[0;36mView.MemoryView.memoryview.__cinit__\u001b[0;34m()\u001b[0m\n",
            "\u001b[0;31mValueError\u001b[0m: buffer source array is read-only"
          ]
        }
      ]
    },
    {
      "cell_type": "code",
      "metadata": {
        "id": "aKlZBLxl0iOC"
      },
      "source": [
        "#Test the Word2vec vectorized texts\n",
        "combined_models(X_train_w2v, testDataVecs, y_train_w2v, y_test)"
      ],
      "execution_count": null,
      "outputs": []
    },
    {
      "cell_type": "markdown",
      "metadata": {
        "id": "yKr4MnPQnf4I"
      },
      "source": [
        "The best performing model was the XGBoost on TF-IDF weighted texts, at 63.218% accuracy. This is the model we'll use in production "
      ]
    },
    {
      "cell_type": "markdown",
      "metadata": {
        "id": "15gzZsFB0C4Z"
      },
      "source": [
        "# **Final Model** "
      ]
    },
    {
      "cell_type": "markdown",
      "metadata": {
        "id": "lX8Gzcquc6Z0"
      },
      "source": [
        "### Set up best-functioning models for TF-IDF and Word2vec\n",
        "<br> (Initial use of TFIDF alone oversimplified)"
      ]
    },
    {
      "cell_type": "code",
      "metadata": {
        "colab": {
          "base_uri": "https://localhost:8080/"
        },
        "id": "FOHOsUD6wlfG",
        "outputId": "d7c669a7-7163-4e73-8489-7c8aee362811"
      },
      "source": [
        "clf_xgb_tfidf = xgb.XGBClassifier(gamma=0.1, learning_rate=0.3, max_depth=8, n_estimators=100, random_state=rand_state)\n",
        "clf_xgb_tfidf.fit(X_train_tfidf, y_train_tfidf)\n",
        "\n",
        "pickle_out = open(\"clf_xgb_tfidf.pkl\", \"wb\") \n",
        "pickle.dump(model, pickle_out) \n",
        "pickle_out.close()\n",
        "\n",
        "#Test to ensure same performance\n",
        "y_hat = clf_xgb_tfidf.predict(X_test_tfidf)\n",
        "print(round(accuracy_score(y_test, y_hat)*100,3), round(f1_score(y_test, y_hat, average='macro')*100,3))"
      ],
      "execution_count": null,
      "outputs": [
        {
          "output_type": "stream",
          "text": [
            "52.874 50.612\n"
          ],
          "name": "stdout"
        }
      ]
    },
    {
      "cell_type": "code",
      "metadata": {
        "colab": {
          "base_uri": "https://localhost:8080/"
        },
        "id": "bzmntnnQZeKe",
        "outputId": "ecbffcb2-c8cb-4142-f32a-12984141ca26"
      },
      "source": [
        "clf_rf_w2v = RandomForestClassifier(n_estimators = 110, random_state=rand_state)\n",
        "clf_rf_w2v.fit(X_train_w2v, y_train_w2v)\n",
        "\n",
        "pickle_out = open(\"clf_rf_w2v.pkl\", \"wb\") \n",
        "pickle.dump(model, pickle_out) \n",
        "pickle_out.close()\n",
        "\n",
        "#Test to ensure same performance\n",
        "y_hat2 = clf_rf_w2v.predict(testDataVecs)\n",
        "print(round(accuracy_score(y_test, y_hat2)*100,3), round(f1_score(y_test, y_hat2, average='macro')*100,3))"
      ],
      "execution_count": null,
      "outputs": [
        {
          "output_type": "stream",
          "text": [
            "50.575 49.355\n"
          ],
          "name": "stdout"
        }
      ]
    },
    {
      "cell_type": "markdown",
      "metadata": {
        "id": "Xxdf_vmLippa"
      },
      "source": [
        "# PICKLE OUT THE ABOVE TWO MODELS 1ST TWO LINES ONLY"
      ]
    },
    {
      "cell_type": "code",
      "metadata": {
        "id": "bUQ-Xx780iOC"
      },
      "source": [
        "def preprocess_tfidf(text):\n",
        "  text1 = tokenize_(text)\n",
        "  text2 = stopped_(text1)\n",
        "  text3 = lemma_(text2)\n",
        "  text4 = [' '.join(text3)]\n",
        "  text5 = Tfidf_vect.transform(text4)\n",
        "  return(text5)"
      ],
      "execution_count": null,
      "outputs": []
    },
    {
      "cell_type": "code",
      "metadata": {
        "id": "y7CK1opLbZuW"
      },
      "source": [
        "def preprocess_w2v(text):\n",
        "  text1 = tokenize_(text)\n",
        "  text2 = stopped_(text1)\n",
        "  text3 = lemma_(text2)\n",
        "  text4 = [' '.join(text3)]\n",
        "  text5 = getAvgFeatureVecs(text4, model, num_features)\n",
        "  return(text5)"
      ],
      "execution_count": null,
      "outputs": []
    },
    {
      "cell_type": "markdown",
      "metadata": {
        "id": "psTUQinx0WdG"
      },
      "source": [
        "### **Input text sample to be predicted:**"
      ]
    },
    {
      "cell_type": "code",
      "metadata": {
        "colab": {
          "base_uri": "https://localhost:8080/"
        },
        "id": "Y0wjKsbDonHQ",
        "outputId": "823c4243-033f-4f12-ed3a-1117f4bdcacb"
      },
      "source": [
        "text_sample = (input(\"Paste the text of the student's work here:\"))"
      ],
      "execution_count": null,
      "outputs": [
        {
          "output_type": "stream",
          "text": [
            "Paste the text of the student's work here:\n"
          ],
          "name": "stdout"
        }
      ]
    },
    {
      "cell_type": "code",
      "metadata": {
        "colab": {
          "base_uri": "https://localhost:8080/"
        },
        "id": "vUdlB9uLHvDv",
        "outputId": "b899f95e-4d33-4fd8-a40c-c2f82709ec88"
      },
      "source": [
        "predict_me_tfidf = preprocess_tfidf(text_sample)\n",
        "predict_me_w2v = preprocess_w2v(text_sample)"
      ],
      "execution_count": null,
      "outputs": [
        {
          "output_type": "error",
          "ename": "NameError",
          "evalue": "name 'tokenize_' is not defined",
          "traceback": [
            "\u001b[0;31m---------------------------------------------------------------------------\u001b[0m",
            "\u001b[0;31mNameError\u001b[0m                                 Traceback (most recent call last)",
            "\u001b[0;32m<ipython-input-6-e261c60920f7>\u001b[0m in \u001b[0;36m<module>\u001b[0;34m\u001b[0m\n\u001b[0;32m----> 1\u001b[0;31m \u001b[0mpredict_me_tfidf\u001b[0m \u001b[0;34m=\u001b[0m \u001b[0mpreprocess_tfidf\u001b[0m\u001b[0;34m(\u001b[0m\u001b[0mtext_sample\u001b[0m\u001b[0;34m)\u001b[0m\u001b[0;34m\u001b[0m\u001b[0;34m\u001b[0m\u001b[0m\n\u001b[0m\u001b[1;32m      2\u001b[0m \u001b[0mpredict_me_w2v\u001b[0m \u001b[0;34m=\u001b[0m \u001b[0mpreprocess_w2v\u001b[0m\u001b[0;34m(\u001b[0m\u001b[0mtext_sample\u001b[0m\u001b[0;34m)\u001b[0m\u001b[0;34m\u001b[0m\u001b[0;34m\u001b[0m\u001b[0m\n",
            "\u001b[0;32m<ipython-input-3-19b05043ca64>\u001b[0m in \u001b[0;36mpreprocess_tfidf\u001b[0;34m(text)\u001b[0m\n\u001b[1;32m      1\u001b[0m \u001b[0;32mdef\u001b[0m \u001b[0mpreprocess_tfidf\u001b[0m\u001b[0;34m(\u001b[0m\u001b[0mtext\u001b[0m\u001b[0;34m)\u001b[0m\u001b[0;34m:\u001b[0m\u001b[0;34m\u001b[0m\u001b[0;34m\u001b[0m\u001b[0m\n\u001b[0;32m----> 2\u001b[0;31m   \u001b[0mtext1\u001b[0m \u001b[0;34m=\u001b[0m \u001b[0mtokenize_\u001b[0m\u001b[0;34m(\u001b[0m\u001b[0mtext\u001b[0m\u001b[0;34m)\u001b[0m\u001b[0;34m\u001b[0m\u001b[0;34m\u001b[0m\u001b[0m\n\u001b[0m\u001b[1;32m      3\u001b[0m   \u001b[0mtext2\u001b[0m \u001b[0;34m=\u001b[0m \u001b[0mstopped_\u001b[0m\u001b[0;34m(\u001b[0m\u001b[0mtext1\u001b[0m\u001b[0;34m)\u001b[0m\u001b[0;34m\u001b[0m\u001b[0;34m\u001b[0m\u001b[0m\n\u001b[1;32m      4\u001b[0m   \u001b[0mtext3\u001b[0m \u001b[0;34m=\u001b[0m \u001b[0mlemma_\u001b[0m\u001b[0;34m(\u001b[0m\u001b[0mtext2\u001b[0m\u001b[0;34m)\u001b[0m\u001b[0;34m\u001b[0m\u001b[0;34m\u001b[0m\u001b[0m\n\u001b[1;32m      5\u001b[0m   \u001b[0mtext4\u001b[0m \u001b[0;34m=\u001b[0m \u001b[0;34m[\u001b[0m\u001b[0;34m' '\u001b[0m\u001b[0;34m.\u001b[0m\u001b[0mjoin\u001b[0m\u001b[0;34m(\u001b[0m\u001b[0mtext3\u001b[0m\u001b[0;34m)\u001b[0m\u001b[0;34m]\u001b[0m\u001b[0;34m\u001b[0m\u001b[0;34m\u001b[0m\u001b[0m\n",
            "\u001b[0;31mNameError\u001b[0m: name 'tokenize_' is not defined"
          ]
        }
      ]
    },
    {
      "cell_type": "code",
      "metadata": {
        "colab": {
          "base_uri": "https://localhost:8080/"
        },
        "id": "exdAv_H1wBrs",
        "outputId": "395c103e-cd56-40c0-b83a-2e940d075189"
      },
      "source": [
        "print('Predicted writing level using TF-IDF weights:',Encoder.inverse_transform(clf_xgb_tfidf.predict(predict_me_tfidf)))\n",
        "print('Predicted writing level using Word2vec Vectors:',Encoder.inverse_transform(clf_rf_w2v.predict(predict_me_w2v)))"
      ],
      "execution_count": null,
      "outputs": [
        {
          "output_type": "error",
          "ename": "NameError",
          "evalue": "name 'Encoder' is not defined",
          "traceback": [
            "\u001b[0;31m---------------------------------------------------------------------------\u001b[0m",
            "\u001b[0;31mNameError\u001b[0m                                 Traceback (most recent call last)",
            "\u001b[0;32m<ipython-input-7-4d5b713c67b8>\u001b[0m in \u001b[0;36m<module>\u001b[0;34m\u001b[0m\n\u001b[0;32m----> 1\u001b[0;31m \u001b[0mprint\u001b[0m\u001b[0;34m(\u001b[0m\u001b[0;34m'Predicted writing level using TF-IDF weights:'\u001b[0m\u001b[0;34m,\u001b[0m\u001b[0mEncoder\u001b[0m\u001b[0;34m.\u001b[0m\u001b[0minverse_transform\u001b[0m\u001b[0;34m(\u001b[0m\u001b[0mclf_xgb_tfidf\u001b[0m\u001b[0;34m.\u001b[0m\u001b[0mpredict\u001b[0m\u001b[0;34m(\u001b[0m\u001b[0mpredict_me_tfidf\u001b[0m\u001b[0;34m)\u001b[0m\u001b[0;34m)\u001b[0m\u001b[0;34m)\u001b[0m\u001b[0;34m\u001b[0m\u001b[0;34m\u001b[0m\u001b[0m\n\u001b[0m\u001b[1;32m      2\u001b[0m \u001b[0mprint\u001b[0m\u001b[0;34m(\u001b[0m\u001b[0;34m'Predicted writing level using Word2vec Vectors:'\u001b[0m\u001b[0;34m,\u001b[0m\u001b[0mEncoder\u001b[0m\u001b[0;34m.\u001b[0m\u001b[0minverse_transform\u001b[0m\u001b[0;34m(\u001b[0m\u001b[0mclf_rf_w2v\u001b[0m\u001b[0;34m.\u001b[0m\u001b[0mpredict\u001b[0m\u001b[0;34m(\u001b[0m\u001b[0mpredict_me_w2v\u001b[0m\u001b[0;34m)\u001b[0m\u001b[0;34m)\u001b[0m\u001b[0;34m)\u001b[0m\u001b[0;34m\u001b[0m\u001b[0;34m\u001b[0m\u001b[0m\n",
            "\u001b[0;31mNameError\u001b[0m: name 'Encoder' is not defined"
          ]
        }
      ]
    },
    {
      "cell_type": "code",
      "metadata": {
        "id": "nZ1BY5kvxHkn"
      },
      "source": [
        ""
      ],
      "execution_count": null,
      "outputs": []
    },
    {
      "cell_type": "code",
      "metadata": {
        "id": "9vbNLLtrippb"
      },
      "source": [
        ""
      ],
      "execution_count": null,
      "outputs": []
    }
  ]
}