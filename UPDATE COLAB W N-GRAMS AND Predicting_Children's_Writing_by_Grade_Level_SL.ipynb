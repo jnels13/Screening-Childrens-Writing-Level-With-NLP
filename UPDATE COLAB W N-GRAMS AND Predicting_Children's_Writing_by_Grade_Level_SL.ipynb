{
 "cells": [
  {
   "cell_type": "markdown",
   "metadata": {
    "colab_type": "text",
    "id": "view-in-github"
   },
   "source": [
    "<a href=\"https://colab.research.google.com/github/jnels13/Screening-Childrens-Writing-Level-With-NLP/blob/main/Predicting_Children's_Writing_by_Grade_Level_SL.ipynb\" target=\"_parent\"><img src=\"https://colab.research.google.com/assets/colab-badge.svg\" alt=\"Open In Colab\"/></a>"
   ]
  },
  {
   "cell_type": "markdown",
   "metadata": {
    "id": "BX-Ny2ID-DkY"
   },
   "source": [
    "# **Predicting Children's Grade-Group Writing Level**"
   ]
  },
  {
   "cell_type": "markdown",
   "metadata": {
    "id": "6iAuDEH6mk3C"
   },
   "source": [
    "### Import Libraries"
   ]
  },
  {
   "cell_type": "code",
   "execution_count": 29,
   "metadata": {
    "colab": {
     "base_uri": "https://localhost:8080/"
    },
    "id": "3fIjK0Rs-DkZ",
    "outputId": "ea152732-4688-4532-ecb6-c3f1a66afd81"
   },
   "outputs": [
    {
     "name": "stderr",
     "output_type": "stream",
     "text": [
      "[nltk_data] Downloading package stopwords to\n",
      "[nltk_data]     /Users/joenelson/nltk_data...\n",
      "[nltk_data]   Package stopwords is already up-to-date!\n",
      "[nltk_data] Downloading package wordnet to\n",
      "[nltk_data]     /Users/joenelson/nltk_data...\n",
      "[nltk_data]   Package wordnet is already up-to-date!\n",
      "[nltk_data] Downloading package punkt to /Users/joenelson/nltk_data...\n",
      "[nltk_data]   Package punkt is already up-to-date!\n"
     ]
    }
   ],
   "source": [
    "import pandas as pd\n",
    "import numpy as np\n",
    "import nltk\n",
    "nltk.download('stopwords')\n",
    "nltk.download('wordnet')\n",
    "nltk.download('punkt')\n",
    "from nltk.corpus import stopwords\n",
    "from nltk import word_tokenize\n",
    "from nltk.stem.wordnet import WordNetLemmatizer\n",
    "\n",
    "import string\n",
    "import io\n",
    "import matplotlib.pyplot as plt\n",
    "%matplotlib inline\n",
    "import seaborn as sns\n",
    "\n",
    "pd.set_option('display.max_rows', 100)\n",
    "pd.set_option('display.max_columns', 100)\n",
    "pd.set_option('display.width', 100)\n",
    "import six\n",
    "from imblearn.over_sampling import SMOTE \n",
    "from sklearn.model_selection import train_test_split\n",
    "from keras.preprocessing.text import Tokenizer\n",
    "from sklearn.preprocessing import LabelEncoder\n",
    "from sklearn.dummy import DummyClassifier\n",
    "from sklearn.ensemble import RandomForestClassifier\n",
    "from sklearn.naive_bayes import MultinomialNB\n",
    "from sklearn.feature_extraction.text import TfidfVectorizer\n",
    "from sklearn import model_selection, naive_bayes, svm\n",
    "from sklearn.linear_model import LogisticRegression \n",
    "from sklearn.model_selection import GridSearchCV \n",
    "from sklearn.svm import SVC\n",
    "from sklearn.metrics import accuracy_score, f1_score\n",
    "import xgboost as xgb\n",
    "import gensim\n",
    "\n",
    "import warnings\n",
    "warnings.filterwarnings(\"ignore\")\n",
    "import pickle\n",
    "\n",
    "rand_state = 16"
   ]
  },
  {
   "cell_type": "code",
   "execution_count": null,
   "metadata": {},
   "outputs": [],
   "source": [
    "# INCORPORATE THIS INTO THE MODEL (down the road):\n",
    "\n",
    "# Predict with the testing set\n",
    "topics_pred = classifier.predict(vectors_test)\n",
    "\n",
    "# ...and measure the accuracy of the results\n",
    "from sklearn.metrics import classification_report\n",
    "print(classification_report(topics_test, topics_pred))"
   ]
  },
  {
   "cell_type": "markdown",
   "metadata": {
    "id": "zAUlUUuhW0yP"
   },
   "source": [
    "### Import Dataset"
   ]
  },
  {
   "cell_type": "code",
   "execution_count": 30,
   "metadata": {
    "colab": {
     "base_uri": "https://localhost:8080/"
    },
    "id": "P9FG7GJNippJ",
    "outputId": "e4e66929-e902-42db-f7c8-ec4cd6dc5ac6"
   },
   "outputs": [
    {
     "name": "stdout",
     "output_type": "stream",
     "text": [
      "Running on 'colab' or 'local'?local\n"
     ]
    }
   ],
   "source": [
    "local_or_not = str(input(\"\"\"Running on 'colab' or 'local'?\"\"\"))"
   ]
  },
  {
   "cell_type": "code",
   "execution_count": 31,
   "metadata": {
    "colab": {
     "base_uri": "https://localhost:8080/",
     "height": 89,
     "resources": {
      "http://localhost:8080/nbextensions/google.colab/files.js": {
       "data": "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",
       "headers": [
        [
         "content-type",
         "application/javascript"
        ]
       ],
       "ok": true,
       "status": 200,
       "status_text": ""
      }
     }
    },
    "id": "WjSg0WF05ujY",
    "outputId": "9b8bd988-ae25-4f02-b417-ff2fcbbb9b84"
   },
   "outputs": [],
   "source": [
    "if local_or_not == 'colab':\n",
    "    from google.colab import files\n",
    "    uploaded = files.upload()\n",
    "    file_name = list(uploaded.keys())[0] \n",
    "    print(\"Confirmed that\",file_name,\"was uploaded.\")"
   ]
  },
  {
   "cell_type": "code",
   "execution_count": 32,
   "metadata": {
    "id": "r5D7RViK-Dkc"
   },
   "outputs": [
    {
     "name": "stdout",
     "output_type": "stream",
     "text": [
      "Loaded local dataset\n"
     ]
    }
   ],
   "source": [
    "if local_or_not == 'colab':\n",
    "    data = pd.read_csv(io.BytesIO(uploaded[file_name]),\n",
    "                       skipinitialspace=True,\n",
    "                       sep=',', \n",
    "                       quotechar='\"', \n",
    "                       escapechar='\\\\',\n",
    "                       error_bad_lines=False, \n",
    "                       names=['Grade', 'Text'])\n",
    "    print(\"Loading remote dataset\")\n",
    "elif local_or_not == 'local':\n",
    "    data = pd.read_csv(\"Data/Combined.csv\",\n",
    "                       skipinitialspace=True,\n",
    "                       sep=',', \n",
    "                       quotechar='\"', \n",
    "                       escapechar='\\\\',\n",
    "                       error_bad_lines=False, \n",
    "                       names=['Grade', 'Text'])\n",
    "    print(\"Loaded local dataset\")\n",
    "else:\n",
    "    print('You need to re-start the previous cells')"
   ]
  },
  {
   "cell_type": "markdown",
   "metadata": {
    "id": "Jd359QZG-Dkb"
   },
   "source": [
    "## Categorize Text Samples and Labels"
   ]
  },
  {
   "cell_type": "code",
   "execution_count": 33,
   "metadata": {
    "colab": {
     "base_uri": "https://localhost:8080/"
    },
    "id": "bRaENfta37wS",
    "outputId": "2d7c9df7-b3ff-4054-d7a0-0ec771ae26b1"
   },
   "outputs": [
    {
     "data": {
      "text/plain": [
       "289"
      ]
     },
     "execution_count": 33,
     "metadata": {},
     "output_type": "execute_result"
    }
   ],
   "source": [
    "#Number of Texts\n",
    "len(data.Grade)"
   ]
  },
  {
   "cell_type": "code",
   "execution_count": 34,
   "metadata": {
    "colab": {
     "base_uri": "https://localhost:8080/"
    },
    "id": "otC7qdXf-Dke",
    "outputId": "a0ab6fc8-dea8-4735-f66f-27cfb0813f1b"
   },
   "outputs": [
    {
     "data": {
      "text/plain": [
       "6     47\n",
       "9     44\n",
       "2     37\n",
       "4     36\n",
       "3     34\n",
       "1     30\n",
       "5     18\n",
       "0     18\n",
       "8      8\n",
       "7      8\n",
       "11     4\n",
       "12     3\n",
       "10     2\n",
       "Name: Grade, dtype: int64"
      ]
     },
     "execution_count": 34,
     "metadata": {},
     "output_type": "execute_result"
    }
   ],
   "source": [
    "#Review counts per grade level\n",
    "#Some texts were attributed to multiple grade levels, and thus were only assigned the lowest (for high school, it would be grade 9)\n",
    "\n",
    "data.Grade.value_counts()"
   ]
  },
  {
   "cell_type": "code",
   "execution_count": 35,
   "metadata": {
    "id": "XjkMr7fQ-Dkg"
   },
   "outputs": [],
   "source": [
    "#Categorize text samples into broader grade-groups due to limited corpus size\n",
    "\n",
    "data.loc[(data['Grade'] >= 0) & (data['Grade'] <= 2), 'Category'] = '0-2'\n",
    "data.loc[(data['Grade'] >= 3) & (data['Grade'] <= 4), 'Category'] = '3-4'\n",
    "data.loc[(data['Grade'] >= 5) & (data['Grade'] <= 8), 'Category'] = '5-8'\n",
    "data.loc[(data['Grade'] >= 9) & (data['Grade'] <= 12), 'Category'] = '9-12'"
   ]
  },
  {
   "cell_type": "code",
   "execution_count": 36,
   "metadata": {
    "colab": {
     "base_uri": "https://localhost:8080/"
    },
    "id": "0paIwBpf-Dki",
    "outputId": "4add387f-dec5-417c-8612-5d8a287aedce"
   },
   "outputs": [
    {
     "data": {
      "text/plain": [
       "0-2     85\n",
       "5-8     81\n",
       "3-4     70\n",
       "9-12    53\n",
       "Name: Category, dtype: int64"
      ]
     },
     "execution_count": 36,
     "metadata": {},
     "output_type": "execute_result"
    }
   ],
   "source": [
    "#Review distribution of texts between different grade-groups\n",
    "data.Category.value_counts()"
   ]
  },
  {
   "cell_type": "code",
   "execution_count": 37,
   "metadata": {
    "colab": {
     "base_uri": "https://localhost:8080/",
     "height": 295
    },
    "id": "V0-EMzBV37wS",
    "outputId": "373351a7-3a7d-4a71-9c89-af30fd044c55"
   },
   "outputs": [
    {
     "data": {
      "image/png": "[encoded data removed]",
      "text/plain": [
       "<Figure size 432x288 with 1 Axes>"
      ]
     },
     "metadata": {
      "needs_background": "light"
     },
     "output_type": "display_data"
    }
   ],
   "source": [
    "#Visualize potential class imbalance\n",
    "imbalance=data.Category.value_counts()\n",
    "sns.barplot([0,1,2,3], imbalance)\n",
    "plt.xticks([0,1,2,3],['0-2', '3-5', '6-8', '9-12'])\n",
    "plt.xlabel('Grade Groups (annotated with % pro rata share)')\n",
    "plt.ylabel('n texts')\n",
    "plt.title('Class Imbalance')\n",
    "tot=len(data.Category)\n",
    "for i in range(4):\n",
    "    plt.annotate(round(imbalance[i]/tot*(100),2),xy=(i-.17,5), color='white')\n",
    "plt.show()"
   ]
  },
  {
   "cell_type": "code",
   "execution_count": 38,
   "metadata": {
    "id": "2C0CUN5N-Dkk"
   },
   "outputs": [],
   "source": [
    "data = data.drop(['Grade'], axis=1)"
   ]
  },
  {
   "cell_type": "markdown",
   "metadata": {
    "id": "cK-G09ws-Dkm"
   },
   "source": [
    "## Data Exploration & Preprocessing"
   ]
  },
  {
   "cell_type": "code",
   "execution_count": 39,
   "metadata": {
    "colab": {
     "base_uri": "https://localhost:8080/"
    },
    "id": "EENHxvxXMNwF",
    "outputId": "0bd13ef1-cc00-4257-e9ab-c3a8847d4d1a"
   },
   "outputs": [
    {
     "data": {
      "text/plain": [
       "0    How Much I Know About Space I had just gone to...\n",
       "1    My Favorite Pet My cat is fluffy. His name is ...\n",
       "2    Sweet Spring Spring is sweet because we can go...\n",
       "3    A Happy Day One day baby Josh came home. He wa...\n",
       "4    My Trip to Mexico One time I went to Mexico. I...\n",
       "Name: Text, dtype: object"
      ]
     },
     "execution_count": 39,
     "metadata": {},
     "output_type": "execute_result"
    }
   ],
   "source": [
    "data.Text.head()"
   ]
  },
  {
   "cell_type": "code",
   "execution_count": 40,
   "metadata": {
    "id": "kYJNHUqz-Dkn"
   },
   "outputs": [],
   "source": [
    "def tokenize_ (text):\n",
    "    return word_tokenize(text)"
   ]
  },
  {
   "cell_type": "code",
   "execution_count": null,
   "metadata": {},
   "outputs": [],
   "source": [
    "def apostrophes(data):\n",
    "    \"\"\"\n",
    "    Deletes all form all forms of apostrophes\n",
    "    \"\"\"\n",
    "    data2=data.replace('\\'','')\n",
    "    data3=data2.replace('``','')\n",
    "    data4=data3.replace('’','')\n",
    "    return(data4)"
   ]
  },
  {
   "cell_type": "code",
   "execution_count": 41,
   "metadata": {
    "id": "sGovP6jP-Dkr"
   },
   "outputs": [],
   "source": [
    "def stopped_ (data):\n",
    "    \"\"\"\n",
    "    Removes stopwords and \"\"\"\n",
    "    stopwords_list = stopwords.words('english') #removing stopwords\n",
    "    stopwords_list += list(string.punctuation)  #removing punctuation\n",
    "    data2 = [w.lower() for w in data]\n",
    "    return([w for w in data2 if (w not in stopwords_list)])"
   ]
  },
  {
   "cell_type": "code",
   "execution_count": 42,
   "metadata": {
    "id": "nueE8QRZ37wT"
   },
   "outputs": [],
   "source": [
    "def lemma_(data):\n",
    "    lemmatizer = WordNetLemmatizer()\n",
    "    data = [lemmatizer.lemmatize(w) for w in data]     \n",
    "    return(data)"
   ]
  },
  {
   "cell_type": "code",
   "execution_count": 43,
   "metadata": {},
   "outputs": [],
   "source": [
    "def lower(data):\n",
    "    data2 = [w.lower() for w in data]\n",
    "    return data2"
   ]
  },
  {
   "cell_type": "code",
   "execution_count": 44,
   "metadata": {},
   "outputs": [],
   "source": [
    "data['Text_BERT'] = data.Text.apply(tokenize_).apply(lower)"
   ]
  },
  {
   "cell_type": "code",
   "execution_count": 45,
   "metadata": {
    "id": "weZRKkqu-Dkq"
   },
   "outputs": [],
   "source": [
    "data['Text_tokenized'] = data.Text.apply(tokenize_)"
   ]
  },
  {
   "cell_type": "code",
   "execution_count": 46,
   "metadata": {
    "id": "mERIyX2V-Dkv"
   },
   "outputs": [],
   "source": [
    "data['Text_lemmatized'] = data.Text_tokenized.apply(stopped_)"
   ]
  },
  {
   "cell_type": "code",
   "execution_count": 47,
   "metadata": {
    "id": "aD1VOvFL-Dkx"
   },
   "outputs": [],
   "source": [
    "data.Text_lemmatized = data.Text_lemmatized.apply(lemma_)"
   ]
  },
  {
   "cell_type": "code",
   "execution_count": 48,
   "metadata": {
    "colab": {
     "base_uri": "https://localhost:8080/",
     "height": 204
    },
    "id": "KyGtr2ZdVxqB",
    "outputId": "1d54d287-bee5-4548-a62a-574d8fca0f0a"
   },
   "outputs": [
    {
     "data": {
      "text/html": [
       "<div>\n",
       "<style scoped>\n",
       "    .dataframe tbody tr th:only-of-type {\n",
       "        vertical-align: middle;\n",
       "    }\n",
       "\n",
       "    .dataframe tbody tr th {\n",
       "        vertical-align: top;\n",
       "    }\n",
       "\n",
       "    .dataframe thead th {\n",
       "        text-align: right;\n",
       "    }\n",
       "</style>\n",
       "<table border=\"1\" class=\"dataframe\">\n",
       "  <thead>\n",
       "    <tr style=\"text-align: right;\">\n",
       "      <th></th>\n",
       "      <th>Text</th>\n",
       "      <th>Category</th>\n",
       "      <th>Text_BERT</th>\n",
       "      <th>Text_tokenized</th>\n",
       "      <th>Text_lemmatized</th>\n",
       "    </tr>\n",
       "  </thead>\n",
       "  <tbody>\n",
       "    <tr>\n",
       "      <td>0</td>\n",
       "      <td>How Much I Know About Space I had just gone to...</td>\n",
       "      <td>0-2</td>\n",
       "      <td>[how, much, i, know, about, space, i, had, jus...</td>\n",
       "      <td>[How, Much, I, Know, About, Space, I, had, jus...</td>\n",
       "      <td>[much, know, space, gone, chobot, space, scien...</td>\n",
       "    </tr>\n",
       "    <tr>\n",
       "      <td>1</td>\n",
       "      <td>My Favorite Pet My cat is fluffy. His name is ...</td>\n",
       "      <td>0-2</td>\n",
       "      <td>[my, favorite, pet, my, cat, is, fluffy, ., hi...</td>\n",
       "      <td>[My, Favorite, Pet, My, cat, is, fluffy, ., Hi...</td>\n",
       "      <td>[favorite, pet, cat, fluffy, name, buzz, favor...</td>\n",
       "    </tr>\n",
       "    <tr>\n",
       "      <td>2</td>\n",
       "      <td>Sweet Spring Spring is sweet because we can go...</td>\n",
       "      <td>0-2</td>\n",
       "      <td>[sweet, spring, spring, is, sweet, because, we...</td>\n",
       "      <td>[Sweet, Spring, Spring, is, sweet, because, we...</td>\n",
       "      <td>[sweet, spring, spring, sweet, go, boat, ridin...</td>\n",
       "    </tr>\n",
       "    <tr>\n",
       "      <td>3</td>\n",
       "      <td>A Happy Day One day baby Josh came home. He wa...</td>\n",
       "      <td>0-2</td>\n",
       "      <td>[a, happy, day, one, day, baby, josh, came, ho...</td>\n",
       "      <td>[A, Happy, Day, One, day, baby, Josh, came, ho...</td>\n",
       "      <td>[happy, day, one, day, baby, josh, came, home,...</td>\n",
       "    </tr>\n",
       "    <tr>\n",
       "      <td>4</td>\n",
       "      <td>My Trip to Mexico One time I went to Mexico. I...</td>\n",
       "      <td>0-2</td>\n",
       "      <td>[my, trip, to, mexico, one, time, i, went, to,...</td>\n",
       "      <td>[My, Trip, to, Mexico, One, time, I, went, to,...</td>\n",
       "      <td>[trip, mexico, one, time, went, mexico, blast,...</td>\n",
       "    </tr>\n",
       "  </tbody>\n",
       "</table>\n",
       "</div>"
      ],
      "text/plain": [
       "                                                Text Category  \\\n",
       "0  How Much I Know About Space I had just gone to...      0-2   \n",
       "1  My Favorite Pet My cat is fluffy. His name is ...      0-2   \n",
       "2  Sweet Spring Spring is sweet because we can go...      0-2   \n",
       "3  A Happy Day One day baby Josh came home. He wa...      0-2   \n",
       "4  My Trip to Mexico One time I went to Mexico. I...      0-2   \n",
       "\n",
       "                                           Text_BERT  \\\n",
       "0  [how, much, i, know, about, space, i, had, jus...   \n",
       "1  [my, favorite, pet, my, cat, is, fluffy, ., hi...   \n",
       "2  [sweet, spring, spring, is, sweet, because, we...   \n",
       "3  [a, happy, day, one, day, baby, josh, came, ho...   \n",
       "4  [my, trip, to, mexico, one, time, i, went, to,...   \n",
       "\n",
       "                                      Text_tokenized  \\\n",
       "0  [How, Much, I, Know, About, Space, I, had, jus...   \n",
       "1  [My, Favorite, Pet, My, cat, is, fluffy, ., Hi...   \n",
       "2  [Sweet, Spring, Spring, is, sweet, because, we...   \n",
       "3  [A, Happy, Day, One, day, baby, Josh, came, ho...   \n",
       "4  [My, Trip, to, Mexico, One, time, I, went, to,...   \n",
       "\n",
       "                                     Text_lemmatized  \n",
       "0  [much, know, space, gone, chobot, space, scien...  \n",
       "1  [favorite, pet, cat, fluffy, name, buzz, favor...  \n",
       "2  [sweet, spring, spring, sweet, go, boat, ridin...  \n",
       "3  [happy, day, one, day, baby, josh, came, home,...  \n",
       "4  [trip, mexico, one, time, went, mexico, blast,...  "
      ]
     },
     "execution_count": 48,
     "metadata": {},
     "output_type": "execute_result"
    }
   ],
   "source": [
    "data.head()"
   ]
  },
  {
   "cell_type": "code",
   "execution_count": 49,
   "metadata": {},
   "outputs": [
    {
     "data": {
      "text/plain": [
       "str"
      ]
     },
     "execution_count": 49,
     "metadata": {},
     "output_type": "execute_result"
    }
   ],
   "source": [
    "type(data.Text[1])"
   ]
  },
  {
   "cell_type": "markdown",
   "metadata": {
    "id": "gW2Ao0tQ-Dkz"
   },
   "source": [
    "#### Column \"Text_lemmatized\" contains the lemmatized, tokenized texts with stop-words removed and contractions expanded. \n",
    "\n",
    "### **Visualization of Corpus**"
   ]
  },
  {
   "cell_type": "code",
   "execution_count": 50,
   "metadata": {
    "colab": {
     "base_uri": "https://localhost:8080/"
    },
    "id": "UQJ_hd_F-Dkz",
    "outputId": "a8065096-b002-4402-fbaf-67e45ce1945d"
   },
   "outputs": [
    {
     "name": "stdout",
     "output_type": "stream",
     "text": [
      "<class 'pandas.core.frame.DataFrame'>\n",
      "RangeIndex: 289 entries, 0 to 288\n",
      "Data columns (total 5 columns):\n",
      "Text               289 non-null object\n",
      "Category           289 non-null object\n",
      "Text_BERT          289 non-null object\n",
      "Text_tokenized     289 non-null object\n",
      "Text_lemmatized    289 non-null object\n",
      "dtypes: object(5)\n",
      "memory usage: 11.4+ KB\n"
     ]
    }
   ],
   "source": [
    "data.info()"
   ]
  },
  {
   "cell_type": "code",
   "execution_count": 51,
   "metadata": {
    "id": "Pu0lPri8-Dk1"
   },
   "outputs": [],
   "source": [
    "# Create a column containing the number of words per each ORIGINAL text \n",
    "data['num_words'] = data['Text'].str.len()  "
   ]
  },
  {
   "cell_type": "code",
   "execution_count": 52,
   "metadata": {
    "id": "7HfiYwkn-Dk5"
   },
   "outputs": [],
   "source": [
    "# Create a column containing average word length for each ORIGINAL text \n",
    "temp_token_list = list(data['Text_tokenized'])\n",
    "new_token_list = []\n",
    "for item in temp_token_list:\n",
    "    new_token_list.append(np.average([len(w) for w in item]))\n",
    "data['avg_orig_word_len'] = new_token_list"
   ]
  },
  {
   "cell_type": "code",
   "execution_count": 53,
   "metadata": {
    "id": "gkGiWe8h37wT"
   },
   "outputs": [],
   "source": [
    "# Create a column containing average word length for each LEMMATIZED text \n",
    "temp_lemma_list = list(data['Text_lemmatized'])\n",
    "new_lemma_list = []\n",
    "for item in temp_lemma_list:\n",
    "    new_lemma_list.append(np.average([len(w) for w in item]))\n",
    "data['avg_lem_word_len'] = new_lemma_list"
   ]
  },
  {
   "cell_type": "code",
   "execution_count": 54,
   "metadata": {
    "colab": {
     "base_uri": "https://localhost:8080/",
     "height": 289
    },
    "id": "Kicip5sq-Dk7",
    "outputId": "ce74d8d0-5a90-4128-b5c6-1316963c18e3"
   },
   "outputs": [
    {
     "data": {
      "text/html": [
       "<div>\n",
       "<style scoped>\n",
       "    .dataframe tbody tr th:only-of-type {\n",
       "        vertical-align: middle;\n",
       "    }\n",
       "\n",
       "    .dataframe tbody tr th {\n",
       "        vertical-align: top;\n",
       "    }\n",
       "\n",
       "    .dataframe thead th {\n",
       "        text-align: right;\n",
       "    }\n",
       "</style>\n",
       "<table border=\"1\" class=\"dataframe\">\n",
       "  <thead>\n",
       "    <tr style=\"text-align: right;\">\n",
       "      <th></th>\n",
       "      <th>Text</th>\n",
       "      <th>Category</th>\n",
       "      <th>Text_BERT</th>\n",
       "      <th>Text_tokenized</th>\n",
       "      <th>Text_lemmatized</th>\n",
       "      <th>num_words</th>\n",
       "      <th>avg_orig_word_len</th>\n",
       "      <th>avg_lem_word_len</th>\n",
       "    </tr>\n",
       "  </thead>\n",
       "  <tbody>\n",
       "    <tr>\n",
       "      <td>0</td>\n",
       "      <td>How Much I Know About Space I had just gone to...</td>\n",
       "      <td>0-2</td>\n",
       "      <td>[how, much, i, know, about, space, i, had, jus...</td>\n",
       "      <td>[How, Much, I, Know, About, Space, I, had, jus...</td>\n",
       "      <td>[much, know, space, gone, chobot, space, scien...</td>\n",
       "      <td>364</td>\n",
       "      <td>3.675000</td>\n",
       "      <td>5.100000</td>\n",
       "    </tr>\n",
       "    <tr>\n",
       "      <td>1</td>\n",
       "      <td>My Favorite Pet My cat is fluffy. His name is ...</td>\n",
       "      <td>0-2</td>\n",
       "      <td>[my, favorite, pet, my, cat, is, fluffy, ., hi...</td>\n",
       "      <td>[My, Favorite, Pet, My, cat, is, fluffy, ., Hi...</td>\n",
       "      <td>[favorite, pet, cat, fluffy, name, buzz, favor...</td>\n",
       "      <td>209</td>\n",
       "      <td>3.037037</td>\n",
       "      <td>4.571429</td>\n",
       "    </tr>\n",
       "    <tr>\n",
       "      <td>2</td>\n",
       "      <td>Sweet Spring Spring is sweet because we can go...</td>\n",
       "      <td>0-2</td>\n",
       "      <td>[sweet, spring, spring, is, sweet, because, we...</td>\n",
       "      <td>[Sweet, Spring, Spring, is, sweet, because, we...</td>\n",
       "      <td>[sweet, spring, spring, sweet, go, boat, ridin...</td>\n",
       "      <td>255</td>\n",
       "      <td>3.383333</td>\n",
       "      <td>4.500000</td>\n",
       "    </tr>\n",
       "    <tr>\n",
       "      <td>3</td>\n",
       "      <td>A Happy Day One day baby Josh came home. He wa...</td>\n",
       "      <td>0-2</td>\n",
       "      <td>[a, happy, day, one, day, baby, josh, came, ho...</td>\n",
       "      <td>[A, Happy, Day, One, day, baby, Josh, came, ho...</td>\n",
       "      <td>[happy, day, one, day, baby, josh, came, home,...</td>\n",
       "      <td>130</td>\n",
       "      <td>3.121212</td>\n",
       "      <td>4.352941</td>\n",
       "    </tr>\n",
       "    <tr>\n",
       "      <td>4</td>\n",
       "      <td>My Trip to Mexico One time I went to Mexico. I...</td>\n",
       "      <td>0-2</td>\n",
       "      <td>[my, trip, to, mexico, one, time, i, went, to,...</td>\n",
       "      <td>[My, Trip, to, Mexico, One, time, I, went, to,...</td>\n",
       "      <td>[trip, mexico, one, time, went, mexico, blast,...</td>\n",
       "      <td>242</td>\n",
       "      <td>3.131148</td>\n",
       "      <td>5.037037</td>\n",
       "    </tr>\n",
       "  </tbody>\n",
       "</table>\n",
       "</div>"
      ],
      "text/plain": [
       "                                                Text Category  \\\n",
       "0  How Much I Know About Space I had just gone to...      0-2   \n",
       "1  My Favorite Pet My cat is fluffy. His name is ...      0-2   \n",
       "2  Sweet Spring Spring is sweet because we can go...      0-2   \n",
       "3  A Happy Day One day baby Josh came home. He wa...      0-2   \n",
       "4  My Trip to Mexico One time I went to Mexico. I...      0-2   \n",
       "\n",
       "                                           Text_BERT  \\\n",
       "0  [how, much, i, know, about, space, i, had, jus...   \n",
       "1  [my, favorite, pet, my, cat, is, fluffy, ., hi...   \n",
       "2  [sweet, spring, spring, is, sweet, because, we...   \n",
       "3  [a, happy, day, one, day, baby, josh, came, ho...   \n",
       "4  [my, trip, to, mexico, one, time, i, went, to,...   \n",
       "\n",
       "                                      Text_tokenized  \\\n",
       "0  [How, Much, I, Know, About, Space, I, had, jus...   \n",
       "1  [My, Favorite, Pet, My, cat, is, fluffy, ., Hi...   \n",
       "2  [Sweet, Spring, Spring, is, sweet, because, we...   \n",
       "3  [A, Happy, Day, One, day, baby, Josh, came, ho...   \n",
       "4  [My, Trip, to, Mexico, One, time, I, went, to,...   \n",
       "\n",
       "                                     Text_lemmatized  num_words  avg_orig_word_len  \\\n",
       "0  [much, know, space, gone, chobot, space, scien...        364           3.675000   \n",
       "1  [favorite, pet, cat, fluffy, name, buzz, favor...        209           3.037037   \n",
       "2  [sweet, spring, spring, sweet, go, boat, ridin...        255           3.383333   \n",
       "3  [happy, day, one, day, baby, josh, came, home,...        130           3.121212   \n",
       "4  [trip, mexico, one, time, went, mexico, blast,...        242           3.131148   \n",
       "\n",
       "   avg_lem_word_len  \n",
       "0          5.100000  \n",
       "1          4.571429  \n",
       "2          4.500000  \n",
       "3          4.352941  \n",
       "4          5.037037  "
      ]
     },
     "execution_count": 54,
     "metadata": {},
     "output_type": "execute_result"
    }
   ],
   "source": [
    "# Review new columns\n",
    "data.head(5)"
   ]
  },
  {
   "cell_type": "code",
   "execution_count": 55,
   "metadata": {
    "colab": {
     "base_uri": "https://localhost:8080/"
    },
    "id": "H_-5H3Ib-Dk9",
    "outputId": "e13ab2e2-27e0-4a76-edd6-57033d508066",
    "scrolled": true
   },
   "outputs": [
    {
     "name": "stdout",
     "output_type": "stream",
     "text": [
      "  Category num_words                                                                      \\\n",
      "               count         mean          std    min      25%     50%      75%      max   \n",
      "0      0-2      85.0   406.200000   278.109982   25.0   187.00   364.0   600.00   1609.0   \n",
      "1      3-4      70.0  1131.971429   570.230997  115.0   726.75  1210.0  1520.75   2725.0   \n",
      "2      5-8      81.0  2784.740741  1618.645821  456.0  1852.00  2425.0  3388.00   9682.0   \n",
      "3     9-12      53.0  4328.584906  2452.785265  144.0  2788.00  3568.0  5571.00  11311.0   \n",
      "\n",
      "  avg_orig_word_len                                                                        \\\n",
      "              count      mean       std       min       25%       50%       75%       max   \n",
      "0              85.0  3.544055  0.376101  2.857143  3.275229  3.529915  3.782609  4.625000   \n",
      "1              70.0  3.632297  0.288336  2.916667  3.461047  3.639188  3.777135  4.704403   \n",
      "2              81.0  3.875996  0.322997  3.301587  3.639581  3.823370  4.066176  4.617754   \n",
      "3              53.0  3.966335  0.367336  3.166667  3.727586  3.978224  4.127404  4.705219   \n",
      "\n",
      "  avg_lem_word_len                                                                        \n",
      "             count      mean       std       min       25%       50%       75%       max  \n",
      "0             85.0  4.846480  0.565194  3.666667  4.500000  4.800000  5.190909  7.297297  \n",
      "1             70.0  5.052824  0.464594  3.428571  4.815476  5.073251  5.250425  6.816456  \n",
      "2             81.0  5.502072  0.409799  4.800699  5.242188  5.428152  5.798883  6.404110  \n",
      "3             53.0  5.741112  0.487636  4.797235  5.470588  5.650000  6.097561  6.864662  \n"
     ]
    }
   ],
   "source": [
    "#Review descriptive statistics about the corpus before and after preprocessing\n",
    "print(data.groupby('Category').describe().reset_index().sort_values('Category', ascending=True))"
   ]
  },
  {
   "cell_type": "markdown",
   "metadata": {
    "id": "rwa6iGUKdpyr"
   },
   "source": [
    "When looking at the number of words per text, they follow a relatively predicatble pattern, with the min/max, mean, and standard deviation increasing rather significantly with grade-group.  The average length of words per grade-group level does not appear to correlate nearly as much, though; average word lengths are much closer (though they do trend up with grade-group), but standard deviation and word counts do not follow the trend. The visualizations below highlight these differences:"
   ]
  },
  {
   "cell_type": "code",
   "execution_count": null,
   "metadata": {},
   "outputs": [],
   "source": [
    "# Gather most common words across the grade-groups\n",
    "\n",
    "concat_0_2 = []\n",
    "concat_3_4 = []\n",
    "concat_5_8 = []\n",
    "concat_9_12 = []\n",
    "\n",
    "for i in range(len(data)):\n",
    "    if data.Category[i] == '0-2':\n",
    "      concat_0_2 += data.Text_lemmatized[i]\n",
    "    elif data.Category[i] == '3-4':\n",
    "      concat_3_4 += data.Text_lemmatized[i]\n",
    "    elif data.Category[i] == '5-8':\n",
    "      concat_5_8 += data.Text_lemmatized[i]\n",
    "    elif data.Category[i] == '9-12':\n",
    "      concat_9_12 += data.Text_lemmatized[i]"
   ]
  },
  {
   "cell_type": "code",
   "execution_count": null,
   "metadata": {},
   "outputs": [],
   "source": [
    "group_0_2_freqdist = FreqDist(concat_0_2)\n",
    "group_3_4_freqdist = FreqDist(concat_3_4)\n",
    "group_5_8_freqdist = FreqDist(concat_5_8)\n",
    "group_9_12_freqdist = FreqDist(concat_9_12)"
   ]
  },
  {
   "cell_type": "code",
   "execution_count": null,
   "metadata": {},
   "outputs": [],
   "source": [
    "#Visualize Frequency Distribution of 10 most common\n",
    "n=10\n",
    "fig, ((ax1, ax2), (ax3, ax4)) = plt.subplots(2, 2)\n",
    "fig.set_figheight(12)\n",
    "fig.set_figwidth(12)\n",
    "sns.barplot([x[0] for x in group_0_2_freqdist.most_common(n)], [x[1] for x in group_0_2_freqdist.most_common(n)], ax=ax1)\n",
    "sns.barplot([x[0] for x in group_3_4_freqdist.most_common(n)], [x[1] for x in group_3_4_freqdist.most_common(n)], ax=ax2)\n",
    "sns.barplot([x[0] for x in group_5_8_freqdist.most_common(n)], [x[1] for x in group_5_8_freqdist.most_common(n)], ax=ax3)\n",
    "sns.barplot([x[0] for x in group_9_12_freqdist.most_common(n)],[x[1] for x in group_9_12_freqdist.most_common(n)],ax=ax4)\n",
    "#Subplot titles\n",
    "ax1.title.set_text('K-2nd')\n",
    "ax2.title.set_text('3rd-4th')\n",
    "ax3.title.set_text('5th-8th')\n",
    "ax4.title.set_text('9th-12th')\n",
    "\n",
    "# ax1.set_xlabel('Preprocessed Texts', size='large')\n",
    "\n",
    "fig.suptitle('10 Most Common Words Per Grade Group', size='x-large')\n",
    "plt.show()"
   ]
  },
  {
   "cell_type": "markdown",
   "metadata": {},
   "source": [
    "The foregoing is the result of an iterative process; is is NOT the original \"top 10 words.\"  Words that appeared across the top 10 in at least three different grade-groups were added to the stop-word list and removed.  "
   ]
  },
  {
   "cell_type": "code",
   "execution_count": 56,
   "metadata": {
    "colab": {
     "base_uri": "https://localhost:8080/",
     "height": 533
    },
    "id": "iod4kOnU-DlA",
    "outputId": "7453ddc5-65f9-474d-a67d-c1466fdd1c4f"
   },
   "outputs": [
    {
     "data": {
      "image/png": "[encoded data removed]",
      "text/plain": [
       "<Figure size 864x576 with 1 Axes>"
      ]
     },
     "metadata": {
      "needs_background": "light"
     },
     "output_type": "display_data"
    }
   ],
   "source": [
    "#Distribution of Number of Words per Text by Grade-Group Level\n",
    "plt.figure(figsize=(12,8))\n",
    "plt.title('Histogram of Total Number of Words Per Each Original Text by Grade Category\\n (Before Stopword Removal and Lemmatizing)', size='x-large')\n",
    "for name, group in data.groupby('Category'):\n",
    "    sns.distplot(group['num_words'], label=name)\n",
    "plt.legend()\n",
    "plt.xlabel('Number of Words', size='large')\n",
    "plt.show()"
   ]
  },
  {
   "cell_type": "markdown",
   "metadata": {
    "id": "U3bmth8a-DlC"
   },
   "source": [
    "The text lengths for K-2 grade are much shorter than the higher grades. Lengths of middle and high school texts are much more comparable."
   ]
  },
  {
   "cell_type": "code",
   "execution_count": 57,
   "metadata": {
    "colab": {
     "base_uri": "https://localhost:8080/",
     "height": 557
    },
    "id": "aQ8kkTwkcCAy",
    "outputId": "aad3465a-3030-4311-afdb-13abfa502084"
   },
   "outputs": [
    {
     "data": {
      "image/png": "[encoded data removed]",
      "text/plain": [
       "<Figure size 1296x576 with 2 Axes>"
      ]
     },
     "metadata": {
      "needs_background": "light"
     },
     "output_type": "display_data"
    }
   ],
   "source": [
    "#Visualize distribution of word lengths between original and preprocessed texts\n",
    "\n",
    "\n",
    "fig, ax = plt.subplots(1,2, figsize=(18, 8))\n",
    "ax0 = ax[0]\n",
    "ax1 = ax[1]\n",
    "for name, group in data.groupby('Category'):\n",
    "    sns.distplot(group['avg_orig_word_len'], label=name, ax=ax0)\n",
    "for name, group in data.groupby('Category'):\n",
    "    sns.distplot(group['avg_lem_word_len'], label=name, ax=ax1)\n",
    "ax0.set_xlabel('Original Texts', size='large')\n",
    "ax0.legend()\n",
    "ax1.set_xlabel('Preprocessed Texts', size='large')\n",
    "ax1.legend()\n",
    "fig.suptitle('Histogram of Average Word Length Per Each Original and Preprocessed Text', size='x-large')\n",
    "plt.show()\n",
    "\n",
    "    "
   ]
  },
  {
   "cell_type": "markdown",
   "metadata": {
    "id": "KeUYgqlx-DlH"
   },
   "source": [
    "Overall, there is a LOT of overlap in the distributions between all of the grade-groups, with the most striking being between the upper two.  The distributions of word lengths are much higher in the stopped/lemmatized group (peaking between 4-5 for stopped/lemmatized texts, compared to about 3.5 for the original texts.  The distributions of the original texts are also much closer together, likely due to the inclusion of the stop words. "
   ]
  },
  {
   "cell_type": "markdown",
   "metadata": {},
   "source": [
    "## Visualize the Text Itself: Wordclouds by Grade-Group"
   ]
  },
  {
   "cell_type": "code",
   "execution_count": 1,
   "metadata": {},
   "outputs": [],
   "source": [
    "def plot_cloud(wordcloud):\n",
    "    # Set figure size\n",
    "    plt.figure(figsize=(40, 30))\n",
    "    # Display image\n",
    "    plt.imshow(wordcloud) \n",
    "    # No axis details\n",
    "    plt.axis(\"off\");"
   ]
  },
  {
   "cell_type": "code",
   "execution_count": null,
   "metadata": {},
   "outputs": [],
   "source": [
    "def printmd(string):\n",
    "    display(Markdown(string))\n",
    "\n",
    "# Generate word cloud\n",
    "def make_wordcloud(category_):\n",
    "  wordcloud = WordCloud(width = 800, height = 600, \n",
    "                        random_state=rand_state, \n",
    "                        background_color='white', \n",
    "                        colormap='Dark2', \n",
    "                        collocations=False, \n",
    "                        stopwords = STOPWORDS).generate(' '.join(data['Text'].loc[data['Category']== category_]))\n",
    "  # plot_cloud(wordcloud)\n",
    "  # plt.title(category_)\n",
    "  plt.figure( figsize=(8,6), facecolor='w')\n",
    "  plt.imshow(wordcloud)\n",
    "  plt.axis(\"off\")\n",
    "  x = '## **Grade-Group ' + category_ + '**'\n",
    "  printmd(x)\n",
    "  plt.tight_layout(pad=0)\n",
    "  plt.show()"
   ]
  },
  {
   "cell_type": "code",
   "execution_count": null,
   "metadata": {},
   "outputs": [],
   "source": [
    "make_wordcloud('0-2'), make_wordcloud('3-4')\n",
    "make_wordcloud('5-8'), make_wordcloud('9-12')"
   ]
  },
  {
   "cell_type": "markdown",
   "metadata": {},
   "source": [
    "Dogs and cats are important in younger grade levels, but drop off as age increases. \"Mom\" is always prominent, but becomes \"mother\" in high school (and \"coffee\" appears). \"People\" grows in frequency in middle and high school. \"Time\" appears to grow in frequency as grade levels increase.  "
   ]
  },
  {
   "cell_type": "markdown",
   "metadata": {
    "id": "jMEK09WdiWNq"
   },
   "source": [
    "# **Weight and Vectorize the Texts**"
   ]
  },
  {
   "cell_type": "markdown",
   "metadata": {},
   "source": [
    "#### Text Features\n",
    "Text ==> STRING of cased text with stopwords and punctuation<br>\n",
    "Text_tokenized ==> LIST of cased with stopwords and punctuation<br>\n",
    "Text_BERT ==> LIST of tokenized and lower cased<br>\n",
    "Text_lemmatized ==> LIST of tokenized, lower-case with stopwords and punctuation removed\n",
    "\n",
    "### Different Train-test Splits for Different Experiments"
   ]
  },
  {
   "cell_type": "code",
   "execution_count": 62,
   "metadata": {
    "id": "qscDPLzS-DlI"
   },
   "outputs": [],
   "source": [
    "# Fully preprocessed texts -- plain\n",
    "X_train, X_test, y_train, y_test = train_test_split(\n",
    "    data['Text_lemmatized'],data['Category'],test_size=0.3, random_state=rand_state, stratify=data['Category'])"
   ]
  },
  {
   "cell_type": "code",
   "execution_count": 63,
   "metadata": {},
   "outputs": [],
   "source": [
    "# Tokenized and lower-cased texts \"bert\"\n",
    "X_train_bert, X_test_bert, y_train_bert, y_test_bert = train_test_split(\n",
    "    data['Text_BERT'],data['Category'],test_size=0.3, random_state=rand_state, stratify=data['Category'])"
   ]
  },
  {
   "cell_type": "code",
   "execution_count": 64,
   "metadata": {},
   "outputs": [],
   "source": [
    "# Untouched (only tokenized) - \"cased_tok\"\n",
    "X_train_cased_tok, X_test_cased_tok, y_train_cased_tok, y_test_cased_tok = train_test_split(\n",
    "    data['Text_tokenized'],data['Category'],test_size=0.3, random_state=rand_state, stratify=data['Category'])"
   ]
  },
  {
   "cell_type": "code",
   "execution_count": 65,
   "metadata": {},
   "outputs": [],
   "source": [
    "# Untouched - \"cased\"\n",
    "X_train_cased, X_test_cased, y_train_cased, y_test_cased = train_test_split(\n",
    "    data['Text'],data['Category'],test_size=0.3, random_state=rand_state, stratify=data['Category'])"
   ]
  },
  {
   "cell_type": "code",
   "execution_count": 66,
   "metadata": {
    "id": "CjfwfHOl-DlK"
   },
   "outputs": [],
   "source": [
    "# Y labels to use with all models\n",
    "# UDPATE THE END OF LINES 3-5 WITH TEH SUFFIXES FROM ABOVE\n",
    "Encoder = LabelEncoder()\n",
    "y_train = Encoder.fit_transform(y_train_cased)\n",
    "y_test = Encoder.fit_transform(y_test_cased)\n",
    "\n",
    "pickle_out = open(\"Encoder.pkl\", \"wb\") \n",
    "pickle.dump(Encoder, pickle_out) \n",
    "pickle_out.close()"
   ]
  },
  {
   "cell_type": "markdown",
   "metadata": {
    "id": "SlhkMfY1-DlI"
   },
   "source": [
    "### **TD-IDF Weighting**"
   ]
  },
  {
   "cell_type": "code",
   "execution_count": 68,
   "metadata": {
    "id": "ybxDIKkM-DlM"
   },
   "outputs": [],
   "source": [
    "# Unigrams on Lemmatized Text\n",
    "# lemmas = data['Text_lemmatized'].apply(lambda x: ' '.join(x))\n",
    "\n",
    "# UPDATE X_train AND _test WITH RELEVANT SPLIT FROM ABOVE\n",
    "# Train_X = X_train_cased.apply(lambda x: ' '.join(x))\n",
    "# Test_X  = X_test_cased.apply(lambda x: ' '.join(x))\n",
    "\n",
    "Tfidf_vect = TfidfVectorizer(max_features=5000)\n",
    "Tfidf_vect.fit(X_train_cased)\n",
    "\n",
    "# # Pickle Tfidf_vect \n",
    "# pickle_out = open(\"Tfidf_vect.pkl\", \"wb\") \n",
    "# pickle.dump(Tfidf_vect, pickle_out) \n",
    "# pickle_out.close()\n",
    "\n",
    "X_train_tfidf = Tfidf_vect.transform(X_train_cased)\n",
    "X_test_tfidf = Tfidf_vect.transform(X_test_cased)"
   ]
  },
  {
   "cell_type": "code",
   "execution_count": 228,
   "metadata": {
    "id": "1DXYtmsq37wU"
   },
   "outputs": [],
   "source": [
    "#Use SMOTE to account for class imbalances\n",
    "\n",
    "# sm = SMOTE(sampling_strategy='auto', k_neighbors=2, random_state=rand_state)\n",
    "# X_train_tfidf,y_train_tfidf = sm.fit_resample(X_train_tfidf, y_train) "
   ]
  },
  {
   "cell_type": "code",
   "execution_count": 69,
   "metadata": {
    "colab": {
     "base_uri": "https://localhost:8080/"
    },
    "id": "58IeYyjZ37wU",
    "outputId": "64f0fff4-c63c-4e26-92d8-13c77e5ce4c7"
   },
   "outputs": [
    {
     "data": {
      "text/plain": [
       "(202, 1)"
      ]
     },
     "execution_count": 69,
     "metadata": {},
     "output_type": "execute_result"
    }
   ],
   "source": [
    "pd.DataFrame(X_train_tfidf).shape"
   ]
  },
  {
   "cell_type": "markdown",
   "metadata": {
    "id": "a0z3KigImAAI"
   },
   "source": [
    "### **Word2vec Vectorization**"
   ]
  },
  {
   "cell_type": "code",
   "execution_count": 170,
   "metadata": {
    "id": "2eNcVz87RKT-"
   },
   "outputs": [],
   "source": [
    "num_features=300\n",
    "model = gensim.models.Word2Vec(data.Text_lemmatized, \n",
    "                               size=num_features, \n",
    "                               min_count=2, \n",
    "                               workers=4, \n",
    "                               seed=1, \n",
    "                               iter=50, window=5)"
   ]
  },
  {
   "cell_type": "code",
   "execution_count": 171,
   "metadata": {
    "colab": {
     "base_uri": "https://localhost:8080/"
    },
    "id": "cSbrtpwGRK9F",
    "outputId": "e025ef74-2ed9-4ac2-9d01-743d6deb23c9"
   },
   "outputs": [
    {
     "data": {
      "text/plain": [
       "(4721, 300)"
      ]
     },
     "execution_count": 171,
     "metadata": {},
     "output_type": "execute_result"
    }
   ],
   "source": [
    "model.wv.syn0.shape"
   ]
  },
  {
   "cell_type": "code",
   "execution_count": 172,
   "metadata": {
    "id": "Vowpusu3ippV"
   },
   "outputs": [],
   "source": [
    "# Pickle model \n",
    "pickle_out = open(\"w2v_model.pkl\", \"wb\") \n",
    "pickle.dump(model, pickle_out) \n",
    "pickle_out.close()"
   ]
  },
  {
   "cell_type": "code",
   "execution_count": 173,
   "metadata": {
    "colab": {
     "base_uri": "https://localhost:8080/",
     "height": 35
    },
    "id": "6v63xaLwKnsN",
    "outputId": "22808d96-c985-4acf-8e8e-f12c2d6cbcd9"
   },
   "outputs": [
    {
     "data": {
      "text/plain": [
       "'bus'"
      ]
     },
     "execution_count": 173,
     "metadata": {},
     "output_type": "execute_result"
    }
   ],
   "source": [
    "#Just for fun, to see if it's working\n",
    "model.wv.doesnt_match(\"red green bus\".split())"
   ]
  },
  {
   "cell_type": "code",
   "execution_count": 174,
   "metadata": {
    "id": "_8B7SOJ-Kgl7"
   },
   "outputs": [],
   "source": [
    "# Function to average all word vectors in a paragraph (from https://www.kaggle.com/varun08/sentiment-analysis-using-word2vec)\n",
    "def featureVecMethod(words, model, num_features):\n",
    "    # Pre-initialising empty numpy array for speed\n",
    "    featureVec = np.zeros(num_features,dtype=\"float32\")\n",
    "    nwords = 0\n",
    "    \n",
    "    #Converting Index2Word which is a list to a set for better speed in the execution.\n",
    "    index2word_set = set(model.wv.index2word)\n",
    "    \n",
    "    for word in  words:\n",
    "        if word in index2word_set:\n",
    "            nwords = nwords + 1\n",
    "            featureVec = np.add(featureVec,model[word])\n",
    "    \n",
    "    # Dividing the result by number of words to get average\n",
    "    featureVec = np.divide(featureVec, nwords)\n",
    "    return featureVec"
   ]
  },
  {
   "cell_type": "code",
   "execution_count": 175,
   "metadata": {
    "id": "t6Sz491qKg_p"
   },
   "outputs": [],
   "source": [
    "# Function for calculating the average feature vector (from https://www.kaggle.com/varun08/sentiment-analysis-using-word2vec)\n",
    "def getAvgFeatureVecs(reviews, model, num_features):\n",
    "    counter = 0\n",
    "    reviewFeatureVecs = np.zeros((len(reviews),num_features),dtype=\"float32\")\n",
    "    for review in reviews:\n",
    "        # Printing a status message every 1000th review\n",
    "        if counter%1000 == 0:\n",
    "            print(\"Review %d of %d\"%(counter,len(reviews)))\n",
    "            \n",
    "        reviewFeatureVecs[counter] = featureVecMethod(review, model, num_features)\n",
    "        counter = counter+1\n",
    "        \n",
    "    return reviewFeatureVecs"
   ]
  },
  {
   "cell_type": "code",
   "execution_count": 176,
   "metadata": {
    "colab": {
     "base_uri": "https://localhost:8080/"
    },
    "id": "QYtjB2ETKhG3",
    "outputId": "77210765-2fc7-4826-c1c1-b7c294ae58f5"
   },
   "outputs": [
    {
     "name": "stdout",
     "output_type": "stream",
     "text": [
      "Review 0 of 202\n",
      "Review 0 of 87\n"
     ]
    }
   ],
   "source": [
    "trainDataVecs = getAvgFeatureVecs(X_train, model, num_features)\n",
    "testDataVecs =  getAvgFeatureVecs(X_test, model, num_features)"
   ]
  },
  {
   "cell_type": "code",
   "execution_count": 177,
   "metadata": {
    "colab": {
     "base_uri": "https://localhost:8080/"
    },
    "id": "-_qubCpdKg1O",
    "outputId": "9273cbf2-9a36-4c6e-f308-18601c19bc33"
   },
   "outputs": [
    {
     "data": {
      "text/plain": [
       "((202, 300), (87, 300))"
      ]
     },
     "execution_count": 177,
     "metadata": {},
     "output_type": "execute_result"
    }
   ],
   "source": [
    "trainDataVecs.shape, testDataVecs.shape"
   ]
  },
  {
   "cell_type": "code",
   "execution_count": 178,
   "metadata": {
    "id": "CUWxUYO237wU"
   },
   "outputs": [],
   "source": [
    "X_train_w2v,y_train_w2v = sm.fit_sample(trainDataVecs, y_train)  #WHAT IF I DON'T USE THE IMBALANCE CORRECTION???????????????????"
   ]
  },
  {
   "cell_type": "markdown",
   "metadata": {
    "id": "UIl9Lsvb6rWu"
   },
   "source": [
    "# **BERT** \n",
    "Using BERT as a Service "
   ]
  },
  {
   "cell_type": "code",
   "execution_count": 70,
   "metadata": {
    "colab": {
     "base_uri": "https://localhost:8080/"
    },
    "id": "PcoQvLru6iGj",
    "outputId": "9b67e42c-36bb-4e0d-e77d-7443efd06817"
   },
   "outputs": [
    {
     "name": "stdout",
     "output_type": "stream",
     "text": [
      "Requirement already satisfied: bert-serving-client in /Users/joenelson/opt/anaconda3/envs/learn-env/lib/python3.6/site-packages (1.10.0)\n",
      "Requirement already satisfied: pyzmq>=17.1.0 in /Users/joenelson/opt/anaconda3/envs/learn-env/lib/python3.6/site-packages (from bert-serving-client) (18.1.0)\n",
      "Requirement already satisfied: numpy in /Users/joenelson/opt/anaconda3/envs/learn-env/lib/python3.6/site-packages (from bert-serving-client) (1.19.5)\n",
      "Requirement already up-to-date: bert-serving-server[http] in /Users/joenelson/opt/anaconda3/envs/learn-env/lib/python3.6/site-packages (1.10.0)\n",
      "Requirement already satisfied, skipping upgrade: six in /Users/joenelson/opt/anaconda3/envs/learn-env/lib/python3.6/site-packages (from bert-serving-server[http]) (1.12.0)\n",
      "Requirement already satisfied, skipping upgrade: termcolor>=1.1 in /Users/joenelson/opt/anaconda3/envs/learn-env/lib/python3.6/site-packages (from bert-serving-server[http]) (1.1.0)\n",
      "Requirement already satisfied, skipping upgrade: GPUtil>=1.3.0 in /Users/joenelson/opt/anaconda3/envs/learn-env/lib/python3.6/site-packages (from bert-serving-server[http]) (1.4.0)\n",
      "Requirement already satisfied, skipping upgrade: numpy in /Users/joenelson/opt/anaconda3/envs/learn-env/lib/python3.6/site-packages (from bert-serving-server[http]) (1.19.5)\n",
      "Requirement already satisfied, skipping upgrade: pyzmq>=17.1.0 in /Users/joenelson/opt/anaconda3/envs/learn-env/lib/python3.6/site-packages (from bert-serving-server[http]) (18.1.0)\n",
      "Requirement already satisfied, skipping upgrade: bert-serving-client; extra == \"http\" in /Users/joenelson/opt/anaconda3/envs/learn-env/lib/python3.6/site-packages (from bert-serving-server[http]) (1.10.0)\n",
      "Requirement already satisfied, skipping upgrade: flask-compress; extra == \"http\" in /Users/joenelson/opt/anaconda3/envs/learn-env/lib/python3.6/site-packages (from bert-serving-server[http]) (1.8.0)\n",
      "Requirement already satisfied, skipping upgrade: flask; extra == \"http\" in /Users/joenelson/opt/anaconda3/envs/learn-env/lib/python3.6/site-packages (from bert-serving-server[http]) (1.1.2)\n",
      "Requirement already satisfied, skipping upgrade: flask-json; extra == \"http\" in /Users/joenelson/opt/anaconda3/envs/learn-env/lib/python3.6/site-packages (from bert-serving-server[http]) (0.3.4)\n",
      "Requirement already satisfied, skipping upgrade: flask-cors; extra == \"http\" in /Users/joenelson/opt/anaconda3/envs/learn-env/lib/python3.6/site-packages (from bert-serving-server[http]) (3.0.10)\n",
      "Requirement already satisfied, skipping upgrade: brotli in /Users/joenelson/opt/anaconda3/envs/learn-env/lib/python3.6/site-packages (from flask-compress; extra == \"http\"->bert-serving-server[http]) (1.0.9)\n",
      "Requirement already satisfied, skipping upgrade: Jinja2>=2.10.1 in /Users/joenelson/opt/anaconda3/envs/learn-env/lib/python3.6/site-packages (from flask; extra == \"http\"->bert-serving-server[http]) (2.10.1)\n",
      "Requirement already satisfied, skipping upgrade: Werkzeug>=0.15 in /Users/joenelson/opt/anaconda3/envs/learn-env/lib/python3.6/site-packages (from flask; extra == \"http\"->bert-serving-server[http]) (0.15.4)\n",
      "Requirement already satisfied, skipping upgrade: click>=5.1 in /Users/joenelson/opt/anaconda3/envs/learn-env/lib/python3.6/site-packages (from flask; extra == \"http\"->bert-serving-server[http]) (7.1.2)\n",
      "Requirement already satisfied, skipping upgrade: itsdangerous>=0.24 in /Users/joenelson/opt/anaconda3/envs/learn-env/lib/python3.6/site-packages (from flask; extra == \"http\"->bert-serving-server[http]) (1.1.0)\n",
      "Requirement already satisfied, skipping upgrade: MarkupSafe>=0.23 in /Users/joenelson/opt/anaconda3/envs/learn-env/lib/python3.6/site-packages (from Jinja2>=2.10.1->flask; extra == \"http\"->bert-serving-server[http]) (1.1.1)\n"
     ]
    }
   ],
   "source": [
    "# %tensorflow_version 1.x\n",
    "!pip install bert-serving-client\n",
    "!pip install -U bert-serving-server[http]"
   ]
  },
  {
   "cell_type": "markdown",
   "metadata": {
    "colab": {
     "base_uri": "https://localhost:8080/"
    },
    "id": "5d1nYsc5BPCc",
    "outputId": "4565215d-d472-4cb5-9f0e-b712d7e327b8"
   },
   "source": [
    "**RUN THE FOLLOWING:** \n",
    "<br>**uncased:** bert-serving-start -model_dir /Users/joenelson/uncased_L-12_H-768_A-12/ -num_worker=2 -max_seq_len 50 \n",
    "<br>**cased:** bert-serving-start -model_dir /Users/joenelson/cased_L-12_H-768_A-12/ -num_worker=2 -max_seq_len 50 \n",
    "<br>(to start the server)"
   ]
  },
  {
   "cell_type": "code",
   "execution_count": 71,
   "metadata": {
    "id": "y0TgMqujBiet"
   },
   "outputs": [],
   "source": [
    "# Open a connecton to the server\n",
    "from bert_serving.client import BertClient\n",
    "bc = BertClient()"
   ]
  },
  {
   "cell_type": "code",
   "execution_count": 181,
   "metadata": {
    "id": "-r5IGT5VFZ8o"
   },
   "outputs": [],
   "source": [
    "# list_text = ['you need to use tensorflow 1', 'tf2 does not work']\n",
    "# embedded_text = bc.encode(list_text)\n",
    "# print(embedded_text, '\\n',embedded_text.shape)"
   ]
  },
  {
   "cell_type": "code",
   "execution_count": 74,
   "metadata": {
    "id": "7r3fLebnT85J"
   },
   "outputs": [],
   "source": [
    "#Convert to strings for BERT\n",
    "X_train_prebert = [str(i) for i in X_train_cased]\n",
    "X_test_prebert = [str(i) for i in X_test_cased]"
   ]
  },
  {
   "cell_type": "code",
   "execution_count": 75,
   "metadata": {
    "id": "cmzHU64uBiKY"
   },
   "outputs": [],
   "source": [
    "# get the embedding for train and val sets\n",
    "X_train = bc.encode(X_train_prebert)\n",
    "X_test = bc.encode(X_test_prebert)"
   ]
  },
  {
   "cell_type": "code",
   "execution_count": 83,
   "metadata": {
    "colab": {
     "base_uri": "https://localhost:8080/"
    },
    "id": "OrJ11p2VBgxO",
    "outputId": "28862815-fce1-4368-881b-545f80fe5770"
   },
   "outputs": [
    {
     "data": {
      "text/plain": [
       "(202, 768)"
      ]
     },
     "execution_count": 83,
     "metadata": {},
     "output_type": "execute_result"
    }
   ],
   "source": [
    "X_train.shape"
   ]
  },
  {
   "cell_type": "markdown",
   "metadata": {
    "id": "-mNH3hi--DlH"
   },
   "source": [
    "# **Models**"
   ]
  },
  {
   "cell_type": "code",
   "execution_count": 77,
   "metadata": {
    "id": "jh4-fPQgtxDS"
   },
   "outputs": [],
   "source": [
    "def dummy_classifier(X_train, X_test, y_train, y_test):\n",
    "  dummy_clf = DummyClassifier(strategy=\"stratified\", random_state=rand_state)\n",
    "  dummy_clf.fit(X_train, y_train)\n",
    "  dummy_accuracy = (round(dummy_clf.score(X_test, y_test)*100,3))\n",
    "  return(dummy_accuracy)"
   ]
  },
  {
   "cell_type": "code",
   "execution_count": 78,
   "metadata": {
    "id": "CqDPgMPpSwvi"
   },
   "outputs": [],
   "source": [
    "def svm_classifier(X_train, X_test, y_train, y_test):\n",
    "  \"\"\"\n",
    "  Takes in train-test-split for X,y;\n",
    "  Runs GridSearchCV and then uses the \n",
    "  best parameters to run an SVM model\n",
    "  and returns an Accuracy Score and\n",
    "  F1 Score.\n",
    "  \"\"\"\n",
    "  clf_svm = svm.SVC(random_state=rand_state)\n",
    "  param_grid = {'C': [0.1, 1, 10, 100, 1000],  \n",
    "                'gamma': [1, 0.1, 0.01, 0.001, 0.0001], \n",
    "                'kernel': ['rbf', 'linear', 'sigmoid', 'poly'],\n",
    "                'degree': [1,2,3,4]} \n",
    "  gs_svm = GridSearchCV(SVC(), param_grid, cv=5)\n",
    "  gs_svm.fit(X_train,y_train)\n",
    "  best = gs_svm.best_params_\n",
    "  SVM = svm.SVC(C=best['C'], kernel=best['kernel'], degree=best['degree'], gamma=best['gamma'], random_state=rand_state)\n",
    "  SVM.fit(X_train,y_train)\n",
    "  y_hat = SVM.predict(X_test)\n",
    "  print('SVM best params:',best)\n",
    "  return (round(accuracy_score(y_test, y_hat)*100,3), round(f1_score(y_test, y_hat, average='macro')*100,3))"
   ]
  },
  {
   "cell_type": "code",
   "execution_count": 79,
   "metadata": {
    "id": "tTfUq-RAimRf"
   },
   "outputs": [],
   "source": [
    "def rf_classifier(X_train, X_test, y_train, y_test):\n",
    "  \"\"\"\n",
    "  Takes in train-test-split for X,y;\n",
    "  Runs a random forest and returns an \n",
    "  Accuracy Score and F1 Score.\n",
    "  This model was manually tuned using the\n",
    "  n_estimators parameter during the model\n",
    "  creation process.\n",
    "  \"\"\"\n",
    "  forest = RandomForestClassifier(n_estimators = 110, random_state=rand_state)\n",
    "  forest_tf = forest.fit(X_train,y_train)\n",
    "  y_hat = forest.predict(X_test)\n",
    "  return (round(accuracy_score(y_test, y_hat)*100,3), round(f1_score(y_test, y_hat, average='macro')*100,3))"
   ]
  },
  {
   "cell_type": "code",
   "execution_count": 80,
   "metadata": {
    "id": "NZenXJxGAfXP"
   },
   "outputs": [],
   "source": [
    "def xgb_classifier(X_train, X_test, y_train, y_test):\n",
    "  \"\"\"\n",
    "  Takes in train-test-split for X,y;\n",
    "  Runs GridSearchCV and then uses the \n",
    "  best parameters to run an SVM model\n",
    "  and returns an Accuracy Score and\n",
    "  F1 Score.\n",
    "  \"\"\"\n",
    "  clf_xgb = xgb.XGBClassifier(random_state=rand_state)\n",
    "  param_grid = {'learning_rate': [0.3],  \n",
    "                'n_estimators': [100,150], \n",
    "                'max_depth': [3,6,8],\n",
    "                'gamma': [0.1,0.4]} \n",
    "  gs_xgb = GridSearchCV(clf_xgb, param_grid, cv=5)\n",
    "  gs_xgb.fit(X_train, y_train)\n",
    "  best = gs_xgb.best_params_\n",
    "  XGB = xgb.XGBClassifier(learning_rate=best['learning_rate'], \n",
    "                          n_estimators=best['n_estimators'], \n",
    "                          max_depth=best['max_depth'],\n",
    "                          gamma=best['gamma'],\n",
    "                          random_state=rand_state)\n",
    "  XGB.fit(X_train, y_train)\n",
    "  y_hat = XGB.predict(X_test)\n",
    "  print('XGB best params:',best)\n",
    "  return (round(accuracy_score(y_test, y_hat)*100,3), round(f1_score(y_test, y_hat, average='macro')*100,3))"
   ]
  },
  {
   "cell_type": "code",
   "execution_count": 81,
   "metadata": {},
   "outputs": [],
   "source": [
    "def lr_classifier(X_train, X_test, y_train, y_test):\n",
    "  \"\"\"\n",
    "  Takes in train-test-split for X,y; runs vanilla logistic regression,\n",
    "  returns an Accuracy Score and F1 Score.\n",
    "  \"\"\"\n",
    "  clf_lr = LogisticRegression(random_state=rand_state)\n",
    "#   param_grid = {'learning_rate': [0.3],  \n",
    "#                 'n_estimators': [100,150], \n",
    "#                 'max_depth': [3,6,8],\n",
    "#                 'gamma': [0.1,0.4]} \n",
    "#   gs_xgb = GridSearchCV(clf_xgb, param_grid, cv=5)\n",
    "#   gs_xgb.fit(X_train, y_train)\n",
    "#   best = gs_xgb.best_params_\n",
    "#   XGB = xgb.XGBClassifier(learning_rate=best['learning_rate'], \n",
    "#                           n_estimators=best['n_estimators'], \n",
    "#                           max_depth=best['max_depth'],\n",
    "#                           gamma=best['gamma'],\n",
    "#                           random_state=rand_state)\n",
    "  clf_lr.fit(X_train, y_train)\n",
    "  y_hat = clf_lr.predict(X_test)\n",
    "#   print('XGB best params:',best)\n",
    "  return (round(accuracy_score(y_test, y_hat)*100,3), round(f1_score(y_test, y_hat, average='macro')*100,3))"
   ]
  },
  {
   "cell_type": "code",
   "execution_count": 82,
   "metadata": {},
   "outputs": [],
   "source": [
    "def mnb(X_train, X_test, y_train, y_test):\n",
    "    clf_nb = MultinomialNB()\n",
    "    clf_nb.fit(X_train, y_train)\n",
    "    y_hat = clf_nb.predict(X_test)\n",
    "    return (round(accuracy_score(y_test, y_hat)*100,3), round(f1_score(y_test, y_hat, average='macro')*100,3))"
   ]
  },
  {
   "cell_type": "code",
   "execution_count": 28,
   "metadata": {
    "colab": {
     "base_uri": "https://localhost:8080/"
    },
    "id": "aUMPABpO5nYP",
    "outputId": "8a3d17ae-c727-4a6a-bacb-3e4826560efb"
   },
   "outputs": [],
   "source": [
    "# try_ = xgb.XGBClassifier(random_state=rand_state)\n",
    "# try_.get_params().keys()"
   ]
  },
  {
   "cell_type": "code",
   "execution_count": 192,
   "metadata": {
    "id": "vqVc8efunPj9"
   },
   "outputs": [],
   "source": [
    "def combined_models(X_train, X_test, y_train, y_test):\n",
    "  \"\"\"\n",
    "  Runs all four models used in this notebook, including the \n",
    "  dummy classifier, SVM, Random Forest, and XGBoos models.\n",
    "  Takes full train-test-split for X,y.\n",
    "  \"\"\"\n",
    "  dum = dummy_classifier(X_train, X_test, y_train, y_test)\n",
    "  svm = svm_classifier(X_train, X_test, y_train, y_test)\n",
    "  rfc = rf_classifier(X_train, X_test, y_train, y_test)\n",
    "  xgb = xgb_classifier(X_train, X_test, y_train, y_test)\n",
    "  print('Dummy Classifier Accuracy:', dum)\n",
    "  print('SVM Classifier Accuracy, F1 Score (macro):', svm)\n",
    "  print('Random Forest Accuracy, F1 Score (macro):', rfc)\n",
    "  print('XG Boost Accuracy, F1 Score (macro):', xgb)\n",
    "  return()\n"
   ]
  },
  {
   "cell_type": "markdown",
   "metadata": {
    "id": "9-Zr-4vIm8qA"
   },
   "source": [
    "## **Application of Models to Datasets**"
   ]
  },
  {
   "cell_type": "markdown",
   "metadata": {
    "id": "_rMmL_vm37wU"
   },
   "source": [
    "### Iteration 1: Initial, Multi-Source Dataset <br>(don't run these cells after initial dataset is loaded)"
   ]
  },
  {
   "cell_type": "code",
   "execution_count": 193,
   "metadata": {
    "colab": {
     "base_uri": "https://localhost:8080/"
    },
    "id": "0DpR4BtJm1fr",
    "outputId": "bd1e9cc0-83d6-4aae-cf73-7392f0b020f0"
   },
   "outputs": [],
   "source": [
    "# #Test the TF-IDF weighted texts\n",
    "# combined_models(X_train_tfidf, X_test_tfidf, y_train_tfidf, y_test)"
   ]
  },
  {
   "cell_type": "code",
   "execution_count": 194,
   "metadata": {
    "colab": {
     "base_uri": "https://localhost:8080/"
    },
    "id": "8r4Z1Ar0m1wv",
    "outputId": "42109dfd-fdfa-47c3-9aec-627036fbdc26"
   },
   "outputs": [],
   "source": [
    "# #Test the Word2vec vectorized texts\n",
    "# combined_models(X_train_w2v, testDataVecs, y_train_w2v, y_test)"
   ]
  },
  {
   "cell_type": "markdown",
   "metadata": {
    "id": "0JqK-IHv37wU"
   },
   "source": [
    "### Iteration 2: Single-Source, Common-Core Dataset"
   ]
  },
  {
   "cell_type": "code",
   "execution_count": 195,
   "metadata": {
    "colab": {
     "base_uri": "https://localhost:8080/"
    },
    "id": "LbffUy1r37wU",
    "outputId": "7fa439dd-e924-40c6-fa45-722ac5030402"
   },
   "outputs": [],
   "source": [
    "# #Test the TF-IDF weighted texts\n",
    "# combined_models(X_train_tfidf, X_test_tfidf, y_train_tfidf, y_test)"
   ]
  },
  {
   "cell_type": "code",
   "execution_count": 196,
   "metadata": {
    "colab": {
     "base_uri": "https://localhost:8080/"
    },
    "id": "lOhrilqb37wU",
    "outputId": "ea4191ec-b98a-4b9d-d3a8-0040071aa421"
   },
   "outputs": [],
   "source": [
    "# #Test the Word2vec vectorized texts\n",
    "# combined_models(X_train_w2v, testDataVecs, y_train_w2v, y_test)"
   ]
  },
  {
   "cell_type": "markdown",
   "metadata": {
    "id": "6b9ly2HB0iOB"
   },
   "source": [
    "### Iteration 3: Combined Dataset"
   ]
  },
  {
   "cell_type": "markdown",
   "metadata": {},
   "source": [
    "bert_splits = X_train_bert, X_test_bert, y_train_bert, y_test_bert\n",
    "tfidf_splits = X_train_tfidf, X_test_tfidf, y_train_tfidf, y_test\n",
    "w2v_splits = X_train_w2v, testDataVecs, y_train_w2v, y_test"
   ]
  },
  {
   "cell_type": "markdown",
   "metadata": {},
   "source": [
    "#### BERT Classifiers\n",
    "X_train_bert, X_test_bert, y_train_bert, y_test_bert"
   ]
  },
  {
   "cell_type": "code",
   "execution_count": 84,
   "metadata": {},
   "outputs": [
    {
     "data": {
      "text/plain": [
       "25.287"
      ]
     },
     "execution_count": 84,
     "metadata": {},
     "output_type": "execute_result"
    }
   ],
   "source": [
    "#DUMMY\n",
    "dummy_classifier(X_train, X_test, y_train, y_test)"
   ]
  },
  {
   "cell_type": "code",
   "execution_count": 85,
   "metadata": {},
   "outputs": [
    {
     "data": {
      "text/plain": [
       "(55.172, 54.677)"
      ]
     },
     "execution_count": 85,
     "metadata": {},
     "output_type": "execute_result"
    }
   ],
   "source": [
    "#LOGISTIC REGRESSION\n",
    "lr_classifier(X_train, X_test, y_train, y_test)"
   ]
  },
  {
   "cell_type": "code",
   "execution_count": 86,
   "metadata": {},
   "outputs": [
    {
     "name": "stdout",
     "output_type": "stream",
     "text": [
      "SVM best params: {'C': 100, 'degree': 1, 'gamma': 0.0001, 'kernel': 'rbf'}\n"
     ]
    },
    {
     "data": {
      "text/plain": [
       "(62.069, 58.604)"
      ]
     },
     "execution_count": 86,
     "metadata": {},
     "output_type": "execute_result"
    }
   ],
   "source": [
    "#SVM CLASSIFIER\n",
    "svm_classifier(X_train, X_test, y_train, y_test)"
   ]
  },
  {
   "cell_type": "code",
   "execution_count": 87,
   "metadata": {},
   "outputs": [
    {
     "name": "stdout",
     "output_type": "stream",
     "text": [
      "XGB best params: {'gamma': 0.4, 'learning_rate': 0.3, 'max_depth': 8, 'n_estimators': 100}\n"
     ]
    },
    {
     "data": {
      "text/plain": [
       "(41.379, 38.804)"
      ]
     },
     "execution_count": 87,
     "metadata": {},
     "output_type": "execute_result"
    }
   ],
   "source": [
    "#XG_BOOST CLASSIFIER\n",
    "xgb_classifier(X_train, X_test, y_train, y_test)"
   ]
  },
  {
   "cell_type": "code",
   "execution_count": 89,
   "metadata": {},
   "outputs": [],
   "source": [
    "#RANDOM FOREST -- unresolveable ValueError\n",
    "# rf_classifier(X_train, X_test, y_train, y_test)"
   ]
  },
  {
   "cell_type": "code",
   "execution_count": 132,
   "metadata": {},
   "outputs": [],
   "source": [
    "#MULTINOMIAL NAIVE BAYES -- Won't work with negative values\n",
    "# mnb(X_train_bert, X_test_bert, y_train_bert, y_test_bert)"
   ]
  },
  {
   "cell_type": "markdown",
   "metadata": {},
   "source": [
    "#### **TFIDF Classifiers**\n",
    "X_train_tfidf, X_test_tfidf, y_train_tfidf, y_test"
   ]
  },
  {
   "cell_type": "code",
   "execution_count": 236,
   "metadata": {},
   "outputs": [
    {
     "data": {
      "text/plain": [
       "16.092"
      ]
     },
     "execution_count": 236,
     "metadata": {},
     "output_type": "execute_result"
    }
   ],
   "source": [
    "#DUMMY\n",
    "dummy_classifier(X_train_tfidf, X_test_tfidf, y_train_tfidf, y_test)"
   ]
  },
  {
   "cell_type": "code",
   "execution_count": 237,
   "metadata": {},
   "outputs": [
    {
     "data": {
      "text/plain": [
       "(51.724, 49.305)"
      ]
     },
     "execution_count": 237,
     "metadata": {},
     "output_type": "execute_result"
    }
   ],
   "source": [
    "#LOGISTIC REGRESSION\n",
    "lr_classifier(X_train_tfidf, X_test_tfidf, y_train_tfidf, y_test)"
   ]
  },
  {
   "cell_type": "code",
   "execution_count": 238,
   "metadata": {},
   "outputs": [
    {
     "name": "stdout",
     "output_type": "stream",
     "text": [
      "SVM best params: {'C': 1, 'degree': 1, 'gamma': 1, 'kernel': 'rbf'}\n"
     ]
    },
    {
     "data": {
      "text/plain": [
       "(44.828, 30.231)"
      ]
     },
     "execution_count": 238,
     "metadata": {},
     "output_type": "execute_result"
    }
   ],
   "source": [
    "#SVM CLASSIFIER\n",
    "svm_classifier(X_train_tfidf, X_test_tfidf, y_train_tfidf, y_test)"
   ]
  },
  {
   "cell_type": "code",
   "execution_count": 239,
   "metadata": {},
   "outputs": [
    {
     "name": "stdout",
     "output_type": "stream",
     "text": [
      "XGB best params: {'gamma': 0.4, 'learning_rate': 0.3, 'max_depth': 8, 'n_estimators': 100}\n"
     ]
    },
    {
     "data": {
      "text/plain": [
       "(54.023, 48.617)"
      ]
     },
     "execution_count": 239,
     "metadata": {},
     "output_type": "execute_result"
    }
   ],
   "source": [
    "#XG_BOOST CLASSIFIER\n",
    "xgb_classifier(X_train_tfidf, X_test_tfidf, y_train_tfidf, y_test)"
   ]
  },
  {
   "cell_type": "code",
   "execution_count": 240,
   "metadata": {},
   "outputs": [
    {
     "data": {
      "text/plain": [
       "(55.172, 48.008)"
      ]
     },
     "execution_count": 240,
     "metadata": {},
     "output_type": "execute_result"
    }
   ],
   "source": [
    "#RANDOM FOREST \n",
    "rf_classifier(X_train_tfidf, X_test_tfidf, y_train_tfidf, y_test)"
   ]
  },
  {
   "cell_type": "code",
   "execution_count": 241,
   "metadata": {},
   "outputs": [
    {
     "data": {
      "text/plain": [
       "(41.379, 41.207)"
      ]
     },
     "execution_count": 241,
     "metadata": {},
     "output_type": "execute_result"
    }
   ],
   "source": [
    "#MULTINOMIAL NAIVE BAYES \n",
    "mnb(X_train_tfidf, X_test_tfidf, y_train_tfidf, y_test)"
   ]
  },
  {
   "cell_type": "markdown",
   "metadata": {},
   "source": [
    "#### **TFIDF/Bigram Classifiers**\n",
    "X_train_tfidf_bg, X_test_tfidf_bg, y_train_tfidf, y_test"
   ]
  },
  {
   "cell_type": "code",
   "execution_count": 235,
   "metadata": {},
   "outputs": [
    {
     "ename": "ValueError",
     "evalue": "Found input variables with inconsistent numbers of samples: [202, 236]",
     "output_type": "error",
     "traceback": [
      "\u001b[0;31m---------------------------------------------------------------------------\u001b[0m",
      "\u001b[0;31mValueError\u001b[0m                                Traceback (most recent call last)",
      "\u001b[0;32m<ipython-input-235-1dc59c632a69>\u001b[0m in \u001b[0;36m<module>\u001b[0;34m\u001b[0m\n\u001b[1;32m      1\u001b[0m \u001b[0;31m#DUMMY\u001b[0m\u001b[0;34m\u001b[0m\u001b[0;34m\u001b[0m\u001b[0;34m\u001b[0m\u001b[0m\n\u001b[0;32m----> 2\u001b[0;31m \u001b[0mdummy_classifier\u001b[0m\u001b[0;34m(\u001b[0m\u001b[0mX_train_tfidf_bg\u001b[0m\u001b[0;34m,\u001b[0m \u001b[0mX_test_tfidf_bg\u001b[0m\u001b[0;34m,\u001b[0m \u001b[0my_train_tfidf\u001b[0m\u001b[0;34m,\u001b[0m \u001b[0my_test\u001b[0m\u001b[0;34m)\u001b[0m\u001b[0;34m\u001b[0m\u001b[0;34m\u001b[0m\u001b[0m\n\u001b[0m",
      "\u001b[0;32m<ipython-input-185-07fb346f2e36>\u001b[0m in \u001b[0;36mdummy_classifier\u001b[0;34m(X_train, X_test, y_train, y_test)\u001b[0m\n\u001b[1;32m      1\u001b[0m \u001b[0;32mdef\u001b[0m \u001b[0mdummy_classifier\u001b[0m\u001b[0;34m(\u001b[0m\u001b[0mX_train\u001b[0m\u001b[0;34m,\u001b[0m \u001b[0mX_test\u001b[0m\u001b[0;34m,\u001b[0m \u001b[0my_train\u001b[0m\u001b[0;34m,\u001b[0m \u001b[0my_test\u001b[0m\u001b[0;34m)\u001b[0m\u001b[0;34m:\u001b[0m\u001b[0;34m\u001b[0m\u001b[0;34m\u001b[0m\u001b[0m\n\u001b[1;32m      2\u001b[0m   \u001b[0mdummy_clf\u001b[0m \u001b[0;34m=\u001b[0m \u001b[0mDummyClassifier\u001b[0m\u001b[0;34m(\u001b[0m\u001b[0mstrategy\u001b[0m\u001b[0;34m=\u001b[0m\u001b[0;34m\"stratified\"\u001b[0m\u001b[0;34m,\u001b[0m \u001b[0mrandom_state\u001b[0m\u001b[0;34m=\u001b[0m\u001b[0mrand_state\u001b[0m\u001b[0;34m)\u001b[0m\u001b[0;34m\u001b[0m\u001b[0;34m\u001b[0m\u001b[0m\n\u001b[0;32m----> 3\u001b[0;31m   \u001b[0mdummy_clf\u001b[0m\u001b[0;34m.\u001b[0m\u001b[0mfit\u001b[0m\u001b[0;34m(\u001b[0m\u001b[0mX_train\u001b[0m\u001b[0;34m,\u001b[0m \u001b[0my_train\u001b[0m\u001b[0;34m)\u001b[0m\u001b[0;34m\u001b[0m\u001b[0;34m\u001b[0m\u001b[0m\n\u001b[0m\u001b[1;32m      4\u001b[0m   \u001b[0mdummy_accuracy\u001b[0m \u001b[0;34m=\u001b[0m \u001b[0;34m(\u001b[0m\u001b[0mround\u001b[0m\u001b[0;34m(\u001b[0m\u001b[0mdummy_clf\u001b[0m\u001b[0;34m.\u001b[0m\u001b[0mscore\u001b[0m\u001b[0;34m(\u001b[0m\u001b[0mX_test\u001b[0m\u001b[0;34m,\u001b[0m \u001b[0my_test\u001b[0m\u001b[0;34m)\u001b[0m\u001b[0;34m*\u001b[0m\u001b[0;36m100\u001b[0m\u001b[0;34m,\u001b[0m\u001b[0;36m3\u001b[0m\u001b[0;34m)\u001b[0m\u001b[0;34m)\u001b[0m\u001b[0;34m\u001b[0m\u001b[0;34m\u001b[0m\u001b[0m\n\u001b[1;32m      5\u001b[0m   \u001b[0;32mreturn\u001b[0m\u001b[0;34m(\u001b[0m\u001b[0mdummy_accuracy\u001b[0m\u001b[0;34m)\u001b[0m\u001b[0;34m\u001b[0m\u001b[0;34m\u001b[0m\u001b[0m\n",
      "\u001b[0;32m~/opt/anaconda3/envs/learn-env/lib/python3.6/site-packages/sklearn/dummy.py\u001b[0m in \u001b[0;36mfit\u001b[0;34m(self, X, y, sample_weight)\u001b[0m\n\u001b[1;32m    157\u001b[0m         \u001b[0mself\u001b[0m\u001b[0;34m.\u001b[0m\u001b[0mn_outputs_\u001b[0m \u001b[0;34m=\u001b[0m \u001b[0my\u001b[0m\u001b[0;34m.\u001b[0m\u001b[0mshape\u001b[0m\u001b[0;34m[\u001b[0m\u001b[0;36m1\u001b[0m\u001b[0;34m]\u001b[0m\u001b[0;34m\u001b[0m\u001b[0;34m\u001b[0m\u001b[0m\n\u001b[1;32m    158\u001b[0m \u001b[0;34m\u001b[0m\u001b[0m\n\u001b[0;32m--> 159\u001b[0;31m         \u001b[0mcheck_consistent_length\u001b[0m\u001b[0;34m(\u001b[0m\u001b[0mX\u001b[0m\u001b[0;34m,\u001b[0m \u001b[0my\u001b[0m\u001b[0;34m,\u001b[0m \u001b[0msample_weight\u001b[0m\u001b[0;34m)\u001b[0m\u001b[0;34m\u001b[0m\u001b[0;34m\u001b[0m\u001b[0m\n\u001b[0m\u001b[1;32m    160\u001b[0m \u001b[0;34m\u001b[0m\u001b[0m\n\u001b[1;32m    161\u001b[0m         \u001b[0;32mif\u001b[0m \u001b[0msample_weight\u001b[0m \u001b[0;32mis\u001b[0m \u001b[0;32mnot\u001b[0m \u001b[0;32mNone\u001b[0m\u001b[0;34m:\u001b[0m\u001b[0;34m\u001b[0m\u001b[0;34m\u001b[0m\u001b[0m\n",
      "\u001b[0;32m~/opt/anaconda3/envs/learn-env/lib/python3.6/site-packages/sklearn/utils/validation.py\u001b[0m in \u001b[0;36mcheck_consistent_length\u001b[0;34m(*arrays)\u001b[0m\n\u001b[1;32m    210\u001b[0m     \u001b[0;32mif\u001b[0m \u001b[0mlen\u001b[0m\u001b[0;34m(\u001b[0m\u001b[0muniques\u001b[0m\u001b[0;34m)\u001b[0m \u001b[0;34m>\u001b[0m \u001b[0;36m1\u001b[0m\u001b[0;34m:\u001b[0m\u001b[0;34m\u001b[0m\u001b[0;34m\u001b[0m\u001b[0m\n\u001b[1;32m    211\u001b[0m         raise ValueError(\"Found input variables with inconsistent numbers of\"\n\u001b[0;32m--> 212\u001b[0;31m                          \" samples: %r\" % [int(l) for l in lengths])\n\u001b[0m\u001b[1;32m    213\u001b[0m \u001b[0;34m\u001b[0m\u001b[0m\n\u001b[1;32m    214\u001b[0m \u001b[0;34m\u001b[0m\u001b[0m\n",
      "\u001b[0;31mValueError\u001b[0m: Found input variables with inconsistent numbers of samples: [202, 236]"
     ]
    }
   ],
   "source": [
    "#DUMMY\n",
    "dummy_classifier(X_train_tfidf_bg, X_test_tfidf_bg, y_train_tfidf, y_test)"
   ]
  },
  {
   "cell_type": "code",
   "execution_count": 203,
   "metadata": {},
   "outputs": [
    {
     "data": {
      "text/plain": [
       "(49.425, 45.121)"
      ]
     },
     "execution_count": 203,
     "metadata": {},
     "output_type": "execute_result"
    }
   ],
   "source": [
    "#LOGISTIC REGRESSION\n",
    "lr_classifier(X_train_tfidf_bg, X_test_tfidf_bg, y_train_tfidf, y_test)"
   ]
  },
  {
   "cell_type": "code",
   "execution_count": 204,
   "metadata": {},
   "outputs": [
    {
     "name": "stdout",
     "output_type": "stream",
     "text": [
      "SVM best params: {'C': 1, 'degree': 1, 'gamma': 1, 'kernel': 'rbf'}\n"
     ]
    },
    {
     "data": {
      "text/plain": [
       "(44.828, 28.303)"
      ]
     },
     "execution_count": 204,
     "metadata": {},
     "output_type": "execute_result"
    }
   ],
   "source": [
    "#SVM CLASSIFIER\n",
    "svm_classifier(X_train_tfidf_bg, X_test_tfidf_bg, y_train_tfidf, y_test)"
   ]
  },
  {
   "cell_type": "code",
   "execution_count": 205,
   "metadata": {},
   "outputs": [
    {
     "name": "stdout",
     "output_type": "stream",
     "text": [
      "XGB best params: {'gamma': 0.1, 'learning_rate': 0.3, 'max_depth': 6, 'n_estimators': 100}\n"
     ]
    },
    {
     "data": {
      "text/plain": [
       "(54.023, 50.732)"
      ]
     },
     "execution_count": 205,
     "metadata": {},
     "output_type": "execute_result"
    }
   ],
   "source": [
    "#XG_BOOST CLASSIFIER\n",
    "xgb_classifier(X_train_tfidf_bg, X_test_tfidf_bg, y_train_tfidf, y_test)"
   ]
  },
  {
   "cell_type": "code",
   "execution_count": 206,
   "metadata": {},
   "outputs": [
    {
     "data": {
      "text/plain": [
       "(52.874, 46.975)"
      ]
     },
     "execution_count": 206,
     "metadata": {},
     "output_type": "execute_result"
    }
   ],
   "source": [
    "#RANDOM FOREST \n",
    "rf_classifier(X_train_tfidf_bg, X_test_tfidf_bg, y_train_tfidf, y_test)"
   ]
  },
  {
   "cell_type": "code",
   "execution_count": 207,
   "metadata": {},
   "outputs": [
    {
     "data": {
      "text/plain": [
       "(41.379, 41.11)"
      ]
     },
     "execution_count": 207,
     "metadata": {},
     "output_type": "execute_result"
    }
   ],
   "source": [
    "#MULTINOMIAL NAIVE BAYES \n",
    "mnb(X_train_tfidf_bg, X_test_tfidf_bg, y_train_tfidf, y_test)"
   ]
  },
  {
   "cell_type": "markdown",
   "metadata": {},
   "source": [
    "#### WORD2VEC Classifiers\n",
    "X_train_w2v, testDataVecs, y_train_w2v, y_test"
   ]
  },
  {
   "cell_type": "code",
   "execution_count": 208,
   "metadata": {},
   "outputs": [
    {
     "data": {
      "text/plain": [
       "16.092"
      ]
     },
     "execution_count": 208,
     "metadata": {},
     "output_type": "execute_result"
    }
   ],
   "source": [
    "#DUMMY\n",
    "dummy_classifier(X_train_w2v, testDataVecs, y_train_w2v, y_test)"
   ]
  },
  {
   "cell_type": "code",
   "execution_count": 209,
   "metadata": {},
   "outputs": [
    {
     "data": {
      "text/plain": [
       "(39.08, 39.018)"
      ]
     },
     "execution_count": 209,
     "metadata": {},
     "output_type": "execute_result"
    }
   ],
   "source": [
    "#LOGISTIC REGRESSION\n",
    "lr_classifier(X_train_w2v, testDataVecs, y_train_w2v, y_test)"
   ]
  },
  {
   "cell_type": "code",
   "execution_count": 210,
   "metadata": {},
   "outputs": [
    {
     "name": "stdout",
     "output_type": "stream",
     "text": [
      "SVM best params: {'C': 1, 'degree': 1, 'gamma': 1, 'kernel': 'rbf'}\n"
     ]
    },
    {
     "data": {
      "text/plain": [
       "(48.276, 45.334)"
      ]
     },
     "execution_count": 210,
     "metadata": {},
     "output_type": "execute_result"
    }
   ],
   "source": [
    "#SVM CLASSIFIER\n",
    "svm_classifier(X_train_w2v, testDataVecs, y_train_w2v, y_test)"
   ]
  },
  {
   "cell_type": "code",
   "execution_count": 211,
   "metadata": {},
   "outputs": [
    {
     "name": "stdout",
     "output_type": "stream",
     "text": [
      "XGB best params: {'gamma': 0.4, 'learning_rate': 0.3, 'max_depth': 6, 'n_estimators': 100}\n"
     ]
    },
    {
     "data": {
      "text/plain": [
       "(40.23, 39.763)"
      ]
     },
     "execution_count": 211,
     "metadata": {},
     "output_type": "execute_result"
    }
   ],
   "source": [
    "#XG_BOOST CLASSIFIER\n",
    "xgb_classifier(X_train_w2v, testDataVecs, y_train_w2v, y_test)"
   ]
  },
  {
   "cell_type": "code",
   "execution_count": 212,
   "metadata": {},
   "outputs": [
    {
     "data": {
      "text/plain": [
       "(43.678, 42.757)"
      ]
     },
     "execution_count": 212,
     "metadata": {},
     "output_type": "execute_result"
    }
   ],
   "source": [
    "#RANDOM FOREST \n",
    "rf_classifier(X_train_w2v, testDataVecs, y_train_w2v, y_test)"
   ]
  },
  {
   "cell_type": "code",
   "execution_count": 214,
   "metadata": {},
   "outputs": [],
   "source": [
    "#MULTINOMIAL NAIVE BAYES -- Won't work with negative values\n",
    "# mnb(X_train_w2v, testDataVecs, y_train_w2v, y_test)"
   ]
  },
  {
   "cell_type": "markdown",
   "metadata": {
    "id": "15gzZsFB0C4Z"
   },
   "source": [
    "# **Final Model** "
   ]
  },
  {
   "cell_type": "markdown",
   "metadata": {
    "id": "lX8Gzcquc6Z0"
   },
   "source": [
    "### Set up best-functioning models for TF-IDF and Word2vec\n",
    "<br> (Initial use of TFIDF alone oversimplified)"
   ]
  },
  {
   "cell_type": "code",
   "execution_count": null,
   "metadata": {
    "colab": {
     "base_uri": "https://localhost:8080/"
    },
    "id": "FOHOsUD6wlfG",
    "outputId": "d7c669a7-7163-4e73-8489-7c8aee362811"
   },
   "outputs": [
    {
     "name": "stdout",
     "output_type": "stream",
     "text": [
      "52.874 50.612\n"
     ]
    }
   ],
   "source": [
    "clf_xgb_tfidf = xgb.XGBClassifier(gamma=0.1, learning_rate=0.3, max_depth=8, n_estimators=100, random_state=rand_state)\n",
    "clf_xgb_tfidf.fit(X_train_tfidf, y_train_tfidf)\n",
    "\n",
    "pickle_out = open(\"clf_xgb_tfidf.pkl\", \"wb\") \n",
    "pickle.dump(model, pickle_out) \n",
    "pickle_out.close()\n",
    "\n",
    "#Test to ensure same performance\n",
    "y_hat = clf_xgb_tfidf.predict(X_test_tfidf)\n",
    "print(round(accuracy_score(y_test, y_hat)*100,3), round(f1_score(y_test, y_hat, average='macro')*100,3))"
   ]
  },
  {
   "cell_type": "code",
   "execution_count": null,
   "metadata": {
    "colab": {
     "base_uri": "https://localhost:8080/"
    },
    "id": "bzmntnnQZeKe",
    "outputId": "ecbffcb2-c8cb-4142-f32a-12984141ca26"
   },
   "outputs": [
    {
     "name": "stdout",
     "output_type": "stream",
     "text": [
      "50.575 49.355\n"
     ]
    }
   ],
   "source": [
    "clf_rf_w2v = RandomForestClassifier(n_estimators = 110, random_state=rand_state)\n",
    "clf_rf_w2v.fit(X_train_w2v, y_train_w2v)\n",
    "\n",
    "pickle_out = open(\"clf_rf_w2v.pkl\", \"wb\") \n",
    "pickle.dump(model, pickle_out) \n",
    "pickle_out.close()\n",
    "\n",
    "#Test to ensure same performance\n",
    "y_hat2 = clf_rf_w2v.predict(testDataVecs)\n",
    "print(round(accuracy_score(y_test, y_hat2)*100,3), round(f1_score(y_test, y_hat2, average='macro')*100,3))"
   ]
  },
  {
   "cell_type": "markdown",
   "metadata": {
    "id": "Xxdf_vmLippa"
   },
   "source": [
    "# PICKLE OUT THE ABOVE TWO MODELS 1ST TWO LINES ONLY"
   ]
  },
  {
   "cell_type": "code",
   "execution_count": null,
   "metadata": {
    "id": "bUQ-Xx780iOC"
   },
   "outputs": [],
   "source": [
    "def preprocess_tfidf(text):\n",
    "  text1 = tokenize_(text)\n",
    "  text2 = stopped_(text1)\n",
    "  text3 = lemma_(text2)\n",
    "  text4 = [' '.join(text3)]\n",
    "  text5 = Tfidf_vect.transform(text4)\n",
    "  return(text5)"
   ]
  },
  {
   "cell_type": "code",
   "execution_count": null,
   "metadata": {
    "id": "y7CK1opLbZuW"
   },
   "outputs": [],
   "source": [
    "def preprocess_w2v(text):\n",
    "  text1 = tokenize_(text)\n",
    "  text2 = stopped_(text1)\n",
    "  text3 = lemma_(text2)\n",
    "  text4 = [' '.join(text3)]\n",
    "  text5 = getAvgFeatureVecs(text4, model, num_features)\n",
    "  return(text5)"
   ]
  },
  {
   "cell_type": "markdown",
   "metadata": {
    "id": "psTUQinx0WdG"
   },
   "source": [
    "### **Input text sample to be predicted:**"
   ]
  },
  {
   "cell_type": "code",
   "execution_count": null,
   "metadata": {
    "colab": {
     "base_uri": "https://localhost:8080/"
    },
    "id": "Y0wjKsbDonHQ",
    "outputId": "823c4243-033f-4f12-ed3a-1117f4bdcacb"
   },
   "outputs": [
    {
     "name": "stdout",
     "output_type": "stream",
     "text": [
      "Paste the text of the student's work here:\n"
     ]
    }
   ],
   "source": [
    "text_sample = (input(\"Paste the text of the student's work here:\"))"
   ]
  },
  {
   "cell_type": "code",
   "execution_count": null,
   "metadata": {
    "colab": {
     "base_uri": "https://localhost:8080/"
    },
    "id": "vUdlB9uLHvDv",
    "outputId": "b899f95e-4d33-4fd8-a40c-c2f82709ec88"
   },
   "outputs": [
    {
     "ename": "NameError",
     "evalue": "name 'tokenize_' is not defined",
     "output_type": "error",
     "traceback": [
      "\u001b[0;31m---------------------------------------------------------------------------\u001b[0m",
      "\u001b[0;31mNameError\u001b[0m                                 Traceback (most recent call last)",
      "\u001b[0;32m<ipython-input-6-e261c60920f7>\u001b[0m in \u001b[0;36m<module>\u001b[0;34m\u001b[0m\n\u001b[0;32m----> 1\u001b[0;31m \u001b[0mpredict_me_tfidf\u001b[0m \u001b[0;34m=\u001b[0m \u001b[0mpreprocess_tfidf\u001b[0m\u001b[0;34m(\u001b[0m\u001b[0mtext_sample\u001b[0m\u001b[0;34m)\u001b[0m\u001b[0;34m\u001b[0m\u001b[0;34m\u001b[0m\u001b[0m\n\u001b[0m\u001b[1;32m      2\u001b[0m \u001b[0mpredict_me_w2v\u001b[0m \u001b[0;34m=\u001b[0m \u001b[0mpreprocess_w2v\u001b[0m\u001b[0;34m(\u001b[0m\u001b[0mtext_sample\u001b[0m\u001b[0;34m)\u001b[0m\u001b[0;34m\u001b[0m\u001b[0;34m\u001b[0m\u001b[0m\n",
      "\u001b[0;32m<ipython-input-3-19b05043ca64>\u001b[0m in \u001b[0;36mpreprocess_tfidf\u001b[0;34m(text)\u001b[0m\n\u001b[1;32m      1\u001b[0m \u001b[0;32mdef\u001b[0m \u001b[0mpreprocess_tfidf\u001b[0m\u001b[0;34m(\u001b[0m\u001b[0mtext\u001b[0m\u001b[0;34m)\u001b[0m\u001b[0;34m:\u001b[0m\u001b[0;34m\u001b[0m\u001b[0;34m\u001b[0m\u001b[0m\n\u001b[0;32m----> 2\u001b[0;31m   \u001b[0mtext1\u001b[0m \u001b[0;34m=\u001b[0m \u001b[0mtokenize_\u001b[0m\u001b[0;34m(\u001b[0m\u001b[0mtext\u001b[0m\u001b[0;34m)\u001b[0m\u001b[0;34m\u001b[0m\u001b[0;34m\u001b[0m\u001b[0m\n\u001b[0m\u001b[1;32m      3\u001b[0m   \u001b[0mtext2\u001b[0m \u001b[0;34m=\u001b[0m \u001b[0mstopped_\u001b[0m\u001b[0;34m(\u001b[0m\u001b[0mtext1\u001b[0m\u001b[0;34m)\u001b[0m\u001b[0;34m\u001b[0m\u001b[0;34m\u001b[0m\u001b[0m\n\u001b[1;32m      4\u001b[0m   \u001b[0mtext3\u001b[0m \u001b[0;34m=\u001b[0m \u001b[0mlemma_\u001b[0m\u001b[0;34m(\u001b[0m\u001b[0mtext2\u001b[0m\u001b[0;34m)\u001b[0m\u001b[0;34m\u001b[0m\u001b[0;34m\u001b[0m\u001b[0m\n\u001b[1;32m      5\u001b[0m   \u001b[0mtext4\u001b[0m \u001b[0;34m=\u001b[0m \u001b[0;34m[\u001b[0m\u001b[0;34m' '\u001b[0m\u001b[0;34m.\u001b[0m\u001b[0mjoin\u001b[0m\u001b[0;34m(\u001b[0m\u001b[0mtext3\u001b[0m\u001b[0;34m)\u001b[0m\u001b[0;34m]\u001b[0m\u001b[0;34m\u001b[0m\u001b[0;34m\u001b[0m\u001b[0m\n",
      "\u001b[0;31mNameError\u001b[0m: name 'tokenize_' is not defined"
     ]
    }
   ],
   "source": [
    "predict_me_tfidf = preprocess_tfidf(text_sample)\n",
    "predict_me_w2v = preprocess_w2v(text_sample)"
   ]
  },
  {
   "cell_type": "code",
   "execution_count": null,
   "metadata": {
    "colab": {
     "base_uri": "https://localhost:8080/"
    },
    "id": "exdAv_H1wBrs",
    "outputId": "395c103e-cd56-40c0-b83a-2e940d075189"
   },
   "outputs": [
    {
     "ename": "NameError",
     "evalue": "name 'Encoder' is not defined",
     "output_type": "error",
     "traceback": [
      "\u001b[0;31m---------------------------------------------------------------------------\u001b[0m",
      "\u001b[0;31mNameError\u001b[0m                                 Traceback (most recent call last)",
      "\u001b[0;32m<ipython-input-7-4d5b713c67b8>\u001b[0m in \u001b[0;36m<module>\u001b[0;34m\u001b[0m\n\u001b[0;32m----> 1\u001b[0;31m \u001b[0mprint\u001b[0m\u001b[0;34m(\u001b[0m\u001b[0;34m'Predicted writing level using TF-IDF weights:'\u001b[0m\u001b[0;34m,\u001b[0m\u001b[0mEncoder\u001b[0m\u001b[0;34m.\u001b[0m\u001b[0minverse_transform\u001b[0m\u001b[0;34m(\u001b[0m\u001b[0mclf_xgb_tfidf\u001b[0m\u001b[0;34m.\u001b[0m\u001b[0mpredict\u001b[0m\u001b[0;34m(\u001b[0m\u001b[0mpredict_me_tfidf\u001b[0m\u001b[0;34m)\u001b[0m\u001b[0;34m)\u001b[0m\u001b[0;34m)\u001b[0m\u001b[0;34m\u001b[0m\u001b[0;34m\u001b[0m\u001b[0m\n\u001b[0m\u001b[1;32m      2\u001b[0m \u001b[0mprint\u001b[0m\u001b[0;34m(\u001b[0m\u001b[0;34m'Predicted writing level using Word2vec Vectors:'\u001b[0m\u001b[0;34m,\u001b[0m\u001b[0mEncoder\u001b[0m\u001b[0;34m.\u001b[0m\u001b[0minverse_transform\u001b[0m\u001b[0;34m(\u001b[0m\u001b[0mclf_rf_w2v\u001b[0m\u001b[0;34m.\u001b[0m\u001b[0mpredict\u001b[0m\u001b[0;34m(\u001b[0m\u001b[0mpredict_me_w2v\u001b[0m\u001b[0;34m)\u001b[0m\u001b[0;34m)\u001b[0m\u001b[0;34m)\u001b[0m\u001b[0;34m\u001b[0m\u001b[0;34m\u001b[0m\u001b[0m\n",
      "\u001b[0;31mNameError\u001b[0m: name 'Encoder' is not defined"
     ]
    }
   ],
   "source": [
    "print('Predicted writing level using TF-IDF weights:',Encoder.inverse_transform(clf_xgb_tfidf.predict(predict_me_tfidf)))\n",
    "print('Predicted writing level using Word2vec Vectors:',Encoder.inverse_transform(clf_rf_w2v.predict(predict_me_w2v)))"
   ]
  },
  {
   "cell_type": "code",
   "execution_count": null,
   "metadata": {
    "id": "nZ1BY5kvxHkn"
   },
   "outputs": [],
   "source": []
  },
  {
   "cell_type": "code",
   "execution_count": null,
   "metadata": {
    "id": "9vbNLLtrippb"
   },
   "outputs": [],
   "source": []
  }
 ],
 "metadata": {
  "accelerator": "GPU",
  "colab": {
   "collapsed_sections": [
    "_rMmL_vm37wU",
    "0JqK-IHv37wU"
   ],
   "include_colab_link": true,
   "name": "Predicting_Children's_Writing_by_Grade_Level - SL.ipynb",
   "provenance": []
  },
  "kernelspec": {
   "display_name": "Python 3",
   "language": "python",
   "name": "python3"
  },
  "language_info": {
   "codemirror_mode": {
    "name": "ipython",
    "version": 3
   },
   "file_extension": ".py",
   "mimetype": "text/x-python",
   "name": "python",
   "nbconvert_exporter": "python",
   "pygments_lexer": "ipython3",
   "version": "3.6.9"
  }
 },
 "nbformat": 4,
 "nbformat_minor": 1
}
